{
 "cells": [
  {
   "cell_type": "markdown",
   "metadata": {},
   "source": [
    "Crear una matriz de manera directa"
   ]
  },
  {
   "cell_type": "markdown",
   "metadata": {},
   "source": [
    "Crear una matriz que representa los puntos anotados por tres equipos en cinco partidos"
   ]
  },
  {
   "cell_type": "code",
   "execution_count": 2,
   "metadata": {},
   "outputs": [
    {
     "name": "stdout",
     "output_type": "stream",
     "text": [
      "Puntos por partido:\n",
      " [[10 12 15 14 13]\n",
      " [ 9 11  8 16 14]\n",
      " [12 15 10 15 14]]\n"
     ]
    }
   ],
   "source": [
    "import numpy as np\n",
    "puntos_por_partido = np.array([\n",
    "    [10, 12, 15, 14, 13],  # Equipo 1\n",
    "    [9, 11, 8, 16, 14],    # Equipo 2\n",
    "    [12, 15, 10, 15, 14]   # Equipo 3\n",
    "])\n",
    "\n",
    "print(\"Puntos por partido:\\n\", puntos_por_partido)\n"
   ]
  },
  {
   "cell_type": "markdown",
   "metadata": {},
   "source": [
    "Usar np.zeros()\n",
    "\n",
    "Crea una matriz de ceros. Esto es útil cuando necesitas una matriz de un tamaño específico para inicializar tus cálculos.\n",
    "Crear una matriz de 3x5 llena de ceros"
   ]
  },
  {
   "cell_type": "code",
   "execution_count": 3,
   "metadata": {},
   "outputs": [
    {
     "name": "stdout",
     "output_type": "stream",
     "text": [
      "Matriz de ceros:\n",
      " [[0. 0. 0. 0. 0.]\n",
      " [0. 0. 0. 0. 0.]\n",
      " [0. 0. 0. 0. 0.]]\n"
     ]
    }
   ],
   "source": [
    "matriz_ceros = np.zeros((3, 5))\n",
    "\n",
    "print(\"Matriz de ceros:\\n\", matriz_ceros)\n"
   ]
  },
  {
   "cell_type": "markdown",
   "metadata": {},
   "source": [
    "Usar np.ones()\n",
    "Similar a np.zeros(), pero llena la matriz con unos.\n",
    "Crear una matriz de 3x5 llena de unos\n"
   ]
  },
  {
   "cell_type": "code",
   "execution_count": 16,
   "metadata": {},
   "outputs": [
    {
     "name": "stdout",
     "output_type": "stream",
     "text": [
      "[[188.   0.   0.   0.   0.]\n",
      " [  0.   0.   0.   0.   0.]\n",
      " [  0.   0.   0.   0.   0.]]\n"
     ]
    }
   ],
   "source": [
    "matriz_ceros[0,0]=np.sum(puntos_por_partido) #Sumamos los puntos y los guardamos en la cordenada (0,0)\n",
    "print(matriz_ceros)"
   ]
  },
  {
   "cell_type": "code",
   "execution_count": 4,
   "metadata": {},
   "outputs": [
    {
     "name": "stdout",
     "output_type": "stream",
     "text": [
      "Matriz de unos:\n",
      " [[1. 1. 1. 1. 1.]\n",
      " [1. 1. 1. 1. 1.]\n",
      " [1. 1. 1. 1. 1.]]\n"
     ]
    }
   ],
   "source": [
    "matriz_unos = np.ones((3, 5))\n",
    "\n",
    "print(\"Matriz de unos:\\n\", matriz_unos)\n"
   ]
  },
  {
   "cell_type": "markdown",
   "metadata": {},
   "source": [
    "Usar np.eye()\n",
    "\n",
    "Crea una matriz identidad de tamaño n x n. La matriz identidad es una matriz cuadrada llena de ceros excepto por unos en la diagonal principal. Es muy útil en operaciones de álgebra lineal.\n",
    "Crear una matriz identidad de 4x4"
   ]
  },
  {
   "cell_type": "code",
   "execution_count": 5,
   "metadata": {},
   "outputs": [
    {
     "name": "stdout",
     "output_type": "stream",
     "text": [
      "Matriz identidad:\n",
      " [[1. 0. 0. 0.]\n",
      " [0. 1. 0. 0.]\n",
      " [0. 0. 1. 0.]\n",
      " [0. 0. 0. 1.]]\n"
     ]
    }
   ],
   "source": [
    "matriz_identidad = np.eye(4)\n",
    "\n",
    "print(\"Matriz identidad:\\n\", matriz_identidad)\n"
   ]
  },
  {
   "cell_type": "markdown",
   "metadata": {},
   "source": [
    "Usar np.full()\n",
    "\n",
    "Crea una matriz llenada con un valor específico.\n",
    "Crear una matriz de 3x5 llena con el número 7"
   ]
  },
  {
   "cell_type": "code",
   "execution_count": 6,
   "metadata": {},
   "outputs": [
    {
     "name": "stdout",
     "output_type": "stream",
     "text": [
      "Matriz llena con sietes:\n",
      " [[7 7 7 7 7]\n",
      " [7 7 7 7 7]\n",
      " [7 7 7 7 7]]\n"
     ]
    }
   ],
   "source": [
    "# Crear una matriz de 3x5 llena con el número 7\n",
    "matriz_llena = np.full((3, 5), 7)\n",
    "\n",
    "print(\"Matriz llena con sietes:\\n\", matriz_llena)\n"
   ]
  },
  {
   "cell_type": "markdown",
   "metadata": {},
   "source": [
    "np.matrix\n",
    "\n",
    "La función np.matrix crea un objeto de matriz a partir de una cadena de texto o una secuencia de Python como listas. Las matrices creadas con np.matrix son estrictamente bidimensionales, y las operaciones matriciales como la multiplicación se realizan utilizando el operador *, que es diferente del comportamiento de los arrays ndarray, donde * realiza una multiplicación elemento a elemento."
   ]
  },
  {
   "cell_type": "markdown",
   "metadata": {},
   "source": [
    "np.mat\n",
    "\n",
    "np.mat es un alias para np.matrix, y su función es la misma: facilitar la creación de objetos de matriz. Puede ser más conveniente para convertir arrays existentes en objetos de matriz."
   ]
  },
  {
   "cell_type": "markdown",
   "metadata": {},
   "source": [
    "Creación de una matriz usando np.matrix"
   ]
  },
  {
   "cell_type": "code",
   "execution_count": 8,
   "metadata": {},
   "outputs": [
    {
     "name": "stdout",
     "output_type": "stream",
     "text": [
      "Matriz A:\n",
      " [[1 2]\n",
      " [3 4]]\n",
      "Matriz B:\n",
      " [[5 6]\n",
      " [7 8]]\n"
     ]
    }
   ],
   "source": [
    "# Creación de una matriz a partir de una lista\n",
    "matriz_a = np.matrix([[1, 2], [3, 4]])\n",
    "print(\"Matriz A:\\n\", matriz_a)\n",
    "\n",
    "# Creación de una matriz a partir de una cadena de texto\n",
    "matriz_b = np.matrix('5 6; 7 8')\n",
    "print(\"Matriz B:\\n\", matriz_b)\n"
   ]
  },
  {
   "cell_type": "markdown",
   "metadata": {},
   "source": [
    "Multiplicación de matrices\n",
    "Una de las ventajas de usar np.matrix sobre ndarray es la simplicidad para realizar la multiplicación de matrices usando el operador *."
   ]
  },
  {
   "cell_type": "code",
   "execution_count": 9,
   "metadata": {},
   "outputs": [
    {
     "name": "stdout",
     "output_type": "stream",
     "text": [
      "Resultado de la multiplicación de A y B:\n",
      " [[19 22]\n",
      " [43 50]]\n"
     ]
    }
   ],
   "source": [
    "# Multiplicación de matrices\n",
    "resultado = matriz_a * matriz_b\n",
    "print(\"Resultado de la multiplicación de A y B:\\n\", resultado)\n"
   ]
  },
  {
   "cell_type": "markdown",
   "metadata": {},
   "source": [
    "Conversión de ndarray a np.matrix Usando np.mat\n",
    "Si ya tienes un array ndarray y deseas aprovechar las operaciones específicas de matrices, puedes convertirlo usando np.mat."
   ]
  },
  {
   "cell_type": "code",
   "execution_count": 12,
   "metadata": {},
   "outputs": [
    {
     "name": "stdout",
     "output_type": "stream",
     "text": [
      "Matriz C (convertida de ndarray):\n",
      " [[9 8]\n",
      " [7 6]]\n"
     ]
    }
   ],
   "source": [
    "# Creando un ndarray\n",
    "array_c = np.array([[9, 8], [7, 6]])\n",
    "\n",
    "# Convirtiendo ndarray a np.matrix\n",
    "matriz_c = np.asmatrix(array_c)      #`np.mat` was removed in the NumPy 2.0 release. Use `np.asmatrix` instead.\n",
    "print(\"Matriz C (convertida de ndarray):\\n\", matriz_c)\n"
   ]
  },
  {
   "cell_type": "markdown",
   "metadata": {},
   "source": [
    "Recomendaciones\n",
    "\n",
    "Aunque np.matrix y np.mat pueden ser útiles para ciertas aplicaciones, la comunidad de Numpy recomienda utilizar arrays bidimensionales ndarray para una mayor flexibilidad y consistencia, especialmente para nuevos desarrollos. Esto se debe a que ndarray es la estructura de datos central de Numpy y soporta una gama más amplia de operaciones. Para operaciones matriciales como la multiplicación de matrices, puedes usar np.dot, np.matmul o el operador @ con ndarray, lo cual es preferible en la práctica moderna de programación con Numpy."
   ]
  },
  {
   "cell_type": "markdown",
   "metadata": {},
   "source": [
    "Operaciones con matrices"
   ]
  },
  {
   "cell_type": "markdown",
   "metadata": {},
   "source": [
    "Transposición\n",
    "transpuesta = matriz1.T"
   ]
  },
  {
   "cell_type": "code",
   "execution_count": 17,
   "metadata": {},
   "outputs": [
    {
     "name": "stdout",
     "output_type": "stream",
     "text": [
      "Matriz Original:\n",
      " [[1 2]\n",
      " [3 4]\n",
      " [5 6]]\n",
      "Matriz Transpuesta:\n",
      " [[1 3 5]\n",
      " [2 4 6]]\n"
     ]
    }
   ],
   "source": [
    "import numpy as np\n",
    "\n",
    "# Creación de una matriz\n",
    "matriz1 = np.array([[1, 2], [3, 4], [5, 6]])\n",
    "print(\"Matriz Original:\\n\", matriz1)\n",
    "\n",
    "# Transposición de la matriz\n",
    "transpuesta = matriz1.T\n",
    "print(\"Matriz Transpuesta:\\n\", transpuesta)\n"
   ]
  },
  {
   "cell_type": "markdown",
   "metadata": {},
   "source": [
    "Inversa\n",
    "inversa = matriz1.I"
   ]
  },
  {
   "cell_type": "code",
   "execution_count": 18,
   "metadata": {},
   "outputs": [
    {
     "name": "stdout",
     "output_type": "stream",
     "text": [
      "Inversa de la Matriz:\n",
      " [[ 0.6 -0.7]\n",
      " [-0.2  0.4]]\n",
      "Producto de Matriz por su Inversa:\n",
      " [[ 1.00000000e+00 -1.11022302e-16]\n",
      " [ 1.11022302e-16  1.00000000e+00]]\n"
     ]
    }
   ],
   "source": [
    "# Creación de una matriz cuadrada\n",
    "matriz_cuadrada = np.array([[4, 7], [2, 6]])\n",
    "\n",
    "# Cálculo de la inversa\n",
    "inversa = np.linalg.inv(matriz_cuadrada)\n",
    "print(\"Inversa de la Matriz:\\n\", inversa)\n",
    "\n",
    "# Verificación A * A^-1 = I\n",
    "producto = np.dot(matriz_cuadrada, inversa)\n",
    "print(\"Producto de Matriz por su Inversa:\\n\", producto)\n"
   ]
  },
  {
   "cell_type": "markdown",
   "metadata": {},
   "source": [
    "Determinante\n",
    "determinante = np.linalg.det(matriz1)"
   ]
  },
  {
   "cell_type": "code",
   "execution_count": 19,
   "metadata": {},
   "outputs": [
    {
     "name": "stdout",
     "output_type": "stream",
     "text": [
      "Determinante de la Matriz: 10.000000000000002\n"
     ]
    }
   ],
   "source": [
    "# Creación de una matriz cuadrada\n",
    "matriz_cuadrada = np.array([[4, 7], [2, 6]])\n",
    "\n",
    "# Cálculo del determinante\n",
    "determinante = np.linalg.det(matriz_cuadrada)\n",
    "print(\"Determinante de la Matriz:\", determinante)\n"
   ]
  }
 ],
 "metadata": {
  "kernelspec": {
   "display_name": "Python 3",
   "language": "python",
   "name": "python3"
  },
  "language_info": {
   "codemirror_mode": {
    "name": "ipython",
    "version": 3
   },
   "file_extension": ".py",
   "mimetype": "text/x-python",
   "name": "python",
   "nbconvert_exporter": "python",
   "pygments_lexer": "ipython3",
   "version": "3.12.4"
  }
 },
 "nbformat": 4,
 "nbformat_minor": 2
}
