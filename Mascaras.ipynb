{
 "cells": [
  {
   "cell_type": "code",
   "execution_count": 1,
   "metadata": {},
   "outputs": [
    {
     "name": "stdout",
     "output_type": "stream",
     "text": [
      "Clases con alta demanda: [False False  True  True False]\n"
     ]
    }
   ],
   "source": [
    "import numpy as np\n",
    "\n",
    "# Número de participantes en cinco clases deportivas durante una semana\n",
    "participantes = np.array([12, 7, 25, 19, 9])\n",
    "\n",
    "# Creación de una máscara para identificar clases con alta demanda\n",
    "alta_demanda = participantes > 15\n",
    "\n",
    "print(\"Clases con alta demanda:\", alta_demanda)\n"
   ]
  },
  {
   "cell_type": "code",
   "execution_count": 2,
   "metadata": {},
   "outputs": [
    {
     "name": "stdout",
     "output_type": "stream",
     "text": [
      "Número de participantes en clases de alta demanda: [25 19]\n"
     ]
    }
   ],
   "source": [
    "# Usando la máscara para seleccionar el número de participantes en clases de alta demanda\n",
    "participantes_alta_demanda = participantes[alta_demanda]\n",
    "\n",
    "print(\"Número de participantes en clases de alta demanda:\", participantes_alta_demanda)\n"
   ]
  },
  {
   "cell_type": "code",
   "execution_count": 3,
   "metadata": {},
   "outputs": [
    {
     "name": "stdout",
     "output_type": "stream",
     "text": [
      "[25 19]\n",
      "[25 19]\n"
     ]
    }
   ],
   "source": [
    "#Tambien pordemos escribir el codigo dentro del corchete (aprendido video Bryan)\n",
    "print(participantes[participantes >15])\n",
    "alta_demanda2= participantes[participantes >15]\n",
    "print(alta_demanda2)"
   ]
  },
  {
   "cell_type": "code",
   "execution_count": 4,
   "metadata": {},
   "outputs": [
    {
     "data": {
      "text/plain": [
       "numpy.ndarray"
      ]
     },
     "execution_count": 4,
     "metadata": {},
     "output_type": "execute_result"
    }
   ],
   "source": [
    "type(participantes)   #Comprobando informacion por mi cuenta\n",
    "type(alta_demanda)\n",
    "type(participantes_alta_demanda)"
   ]
  },
  {
   "cell_type": "markdown",
   "metadata": {},
   "source": [
    "np.triu\n",
    "La función np.triu devuelve la parte triangular superior de un array, es decir, toma un array y devuelve un nuevo array con los elementos por debajo de la diagonal k-ésima igualados a cero, esencialmente manteniendo la parte triangular superior de la matriz. "
   ]
  },
  {
   "cell_type": "code",
   "execution_count": 5,
   "metadata": {},
   "outputs": [
    {
     "name": "stdout",
     "output_type": "stream",
     "text": [
      "Resultados en formato triangular superior:\n",
      " [[0 2 1 3]\n",
      " [0 0 4 1]\n",
      " [0 0 0 5]\n",
      " [0 0 0 0]]\n"
     ]
    }
   ],
   "source": [
    "# Matriz de resultados de partidos entre 4 equipos\n",
    "resultados = np.array([[0, 2, 1, 3],\n",
    "                       [2, 0, 4, 1],\n",
    "                       [1, 4, 0, 5],\n",
    "                       [3, 1, 5, 0]])\n",
    "\n",
    "# Mantenemos solo la parte superior para simplificar el análisis\n",
    "resultados_triangular = np.triu(resultados)\n",
    "\n",
    "print(\"Resultados en formato triangular superior:\\n\", resultados_triangular)\n"
   ]
  },
  {
   "cell_type": "markdown",
   "metadata": {},
   "source": [
    "np.ones_like\n",
    "La función np.ones_like crea un nuevo array con la misma forma y tipo que un array dado, llenándolo todo con unos. Es útil para crear máscaras iniciales o arrays de pesos cuando trabajamos con operaciones que involucran matrices o arrays de dimensiones específicas."
   ]
  },
  {
   "cell_type": "code",
   "execution_count": 6,
   "metadata": {},
   "outputs": [
    {
     "name": "stdout",
     "output_type": "stream",
     "text": [
      "Nueva agenda de entrenamientos:\n",
      " [2 2 2 2 2 2 2]\n"
     ]
    }
   ],
   "source": [
    "# Ejemplo de un plan de entrenamiento para una semana (7 días)\n",
    "plan_entrenamiento = np.array([3, 3, 3, 3, 3, 3, 3])  # 3 horas por día\n",
    "\n",
    "# Usando np.ones_like para crear una nueva agenda con el mismo formato\n",
    "nueva_agenda = np.ones_like(plan_entrenamiento) * 2  # Ahora con 2 horas por día\n",
    "\n",
    "print(\"Nueva agenda de entrenamientos:\\n\", nueva_agenda)\n"
   ]
  },
  {
   "cell_type": "markdown",
   "metadata": {},
   "source": [
    "Otros usos avanzados de máscaras\n",
    "Las máscaras no se limitan a condiciones simples; pueden combinarse usando operadores lógicos como & (y), | (o), ~ (no), para construir condiciones más complejas."
   ]
  },
  {
   "cell_type": "markdown",
   "metadata": {},
   "source": [
    "Combinación de máscaras"
   ]
  },
  {
   "cell_type": "markdown",
   "metadata": {},
   "source": [
    "Selección de atletas para un programa de entrenamiento especial\n",
    "Supongamos que el Club Deportivo Deporte y Vida quiere seleccionar atletas para un programa de entrenamiento especial basado en dos criterios: la asistencia regular a las sesiones de entrenamiento y un nivel mínimo de rendimiento.\n",
    "\n",
    "Consideraremos una asistencia superior al 80% como regular.\n",
    "\n",
    "Un nivel de rendimiento se mide en puntos, donde 50 puntos es el mínimo requerido."
   ]
  },
  {
   "cell_type": "code",
   "execution_count": 7,
   "metadata": {},
   "outputs": [
    {
     "name": "stdout",
     "output_type": "stream",
     "text": [
      "Atletas seleccionados para el programa especial: [ True  True False False  True False]\n"
     ]
    }
   ],
   "source": [
    "# Datos ficticios de asistencia (en porcentaje) y rendimiento (en puntos) de atletas\n",
    "asistencia = np.array([85, 90, 75, 60, 95, 80])\n",
    "rendimiento = np.array([55, 60, 45, 50, 65, 48])\n",
    "\n",
    "# Máscaras para cada condición\n",
    "mascara_asistencia = asistencia > 80\n",
    "mascara_rendimiento = rendimiento >= 50\n",
    "\n",
    "# Combinación de máscaras para identificar atletas que cumplen ambos criterios\n",
    "mascara_combinada = mascara_asistencia & mascara_rendimiento\n",
    "\n",
    "print(\"Atletas seleccionados para el programa especial:\", mascara_combinada)\n",
    "# En este ejemplo, la combinación de máscaras permite identificar atletas que cumplen con ambos \n",
    "# criterios establecidos para la selección en el programa de entrenamiento.\n"
   ]
  },
  {
   "cell_type": "code",
   "execution_count": 8,
   "metadata": {},
   "outputs": [
    {
     "name": "stdout",
     "output_type": "stream",
     "text": [
      "[ True  True False False  True False]\n",
      "[ True  True False  True  True False]\n",
      "[ True  True False False  True False]\n",
      "[ True  True False False  True False]\n"
     ]
    }
   ],
   "source": [
    "print(mascara_asistencia)\n",
    "print(mascara_rendimiento)\n",
    "print(mascara_combinada)\n",
    "probando_combinacion=(asistencia>80) & (rendimiento>=50) #Podemos utilizarlo de manera directa\n",
    "print(probando_combinacion)"
   ]
  },
  {
   "cell_type": "code",
   "execution_count": 9,
   "metadata": {},
   "outputs": [],
   "source": [
    "#Ejemplo. Invento datos para ver si entendi\n",
    "deportistas_miejemplo=np.array(['Diego','Carlos','Armando','Fernando','Andres','Miguel'])"
   ]
  },
  {
   "cell_type": "code",
   "execution_count": 10,
   "metadata": {},
   "outputs": [
    {
     "name": "stdout",
     "output_type": "stream",
     "text": [
      "['Diego' 'Carlos' 'Andres']\n",
      "['Diego' 'Carlos' 'Andres']\n"
     ]
    }
   ],
   "source": [
    "deportista_invitados = deportistas_miejemplo[mascara_combinada] #Sigo con mi ejemplo de aprendizaje.\n",
    "print(deportista_invitados)\n",
    "print(deportistas_miejemplo[(asistencia>80) & (rendimiento>=50)]) #Mas directo aun"
   ]
  },
  {
   "cell_type": "markdown",
   "metadata": {},
   "source": [
    "Asignar un valor usando una máscara\n",
    "Las máscaras también se pueden utilizar para asignar valores a elementos específicos de un array, lo que las hace útiles para la limpieza y preparación de datos."
   ]
  },
  {
   "cell_type": "markdown",
   "metadata": {},
   "source": [
    "Ajuste del plan de entrenamiento basado en rendimiento\n",
    "Imaginemos que el Club Deportivo Deporte y Vida decide aumentar las horas de entrenamiento para aquellos atletas cuyo rendimiento está por debajo del umbral deseado, como medida para mejorar su desempeño."
   ]
  },
  {
   "cell_type": "code",
   "execution_count": 11,
   "metadata": {},
   "outputs": [
    {
     "name": "stdout",
     "output_type": "stream",
     "text": [
      "Horas de entrenamiento ajustadas: [5 5 7 5 5 7]\n"
     ]
    }
   ],
   "source": [
    "# Horas actuales de entrenamiento por atleta\n",
    "horas_entrenamiento = np.array([5, 5, 5, 5, 5, 5])\n",
    "\n",
    "# Aumentamos las horas de entrenamiento para atletas con rendimiento bajo\n",
    "# Usando la máscara de rendimiento negada (~), para seleccionar rendimientos bajos\n",
    "horas_entrenamiento[~mascara_rendimiento] += 2\n",
    "#Al utilizar el (~) se cambian los valores boleanos, aplicando la adicion (suma) a los que ahora son True pero\n",
    "# originalmente eran False\n",
    "print(\"Horas de entrenamiento ajustadas:\", horas_entrenamiento)\n",
    "#En este ejemplo, utilizamos la máscara para asignar un valor específico (en este caso, aumentar las horas \n",
    "# de entrenamiento) solo a aquellos atletas que no cumplen con el criterio de rendimiento establecido.\n"
   ]
  }
 ],
 "metadata": {
  "kernelspec": {
   "display_name": "Python 3",
   "language": "python",
   "name": "python3"
  },
  "language_info": {
   "codemirror_mode": {
    "name": "ipython",
    "version": 3
   },
   "file_extension": ".py",
   "mimetype": "text/x-python",
   "name": "python",
   "nbconvert_exporter": "python",
   "pygments_lexer": "ipython3",
   "version": "3.12.4"
  }
 },
 "nbformat": 4,
 "nbformat_minor": 2
}
