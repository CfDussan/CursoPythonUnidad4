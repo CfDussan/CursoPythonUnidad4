{
 "cells": [
  {
   "cell_type": "markdown",
   "metadata": {},
   "source": [
    "Métodos para medidas estadísticas"
   ]
  },
  {
   "cell_type": "markdown",
   "metadata": {},
   "source": [
    "Promedio (media)\n",
    "np.mean(array, axis=None)"
   ]
  },
  {
   "cell_type": "code",
   "execution_count": 1,
   "metadata": {},
   "outputs": [
    {
     "name": "stdout",
     "output_type": "stream",
     "text": [
      "Promedio de asistencia a clases de natación: 20.0\n"
     ]
    }
   ],
   "source": [
    "import numpy as np\n",
    "\n",
    "asistencia_natacion = np.array([18, 20, 22, 19, 21])\n",
    "promedio_asistencia = np.mean(asistencia_natacion)\n",
    "\n",
    "print(\"Promedio de asistencia a clases de natación:\", promedio_asistencia)\n"
   ]
  },
  {
   "cell_type": "markdown",
   "metadata": {},
   "source": [
    "Desviación estándar (DS) y varianza\n",
    "np.std(array, axis=None): calcula la desviación estándar, proporcionando una medida de la dispersión de los datos respecto a su media.\n",
    "\n",
    "np.var(array, axis=None): calcula la varianza de los elementos, cuantificando su dispersión cuadrática respecto a la media."
   ]
  },
  {
   "cell_type": "code",
   "execution_count": 2,
   "metadata": {},
   "outputs": [
    {
     "name": "stdout",
     "output_type": "stream",
     "text": [
      "Promedio de asistencia a clases de natación: 20.0\n"
     ]
    }
   ],
   "source": [
    "import numpy as np\n",
    "\n",
    "asistencia_natacion = np.array([18, 20, 22, 19, 21])\n",
    "promedio_asistencia = np.mean(asistencia_natacion)\n",
    "\n",
    "print(\"Promedio de asistencia a clases de natación:\", promedio_asistencia)\n"
   ]
  },
  {
   "cell_type": "markdown",
   "metadata": {},
   "source": [
    "Mediana\n",
    "np.median(array, axis=None)"
   ]
  },
  {
   "cell_type": "code",
   "execution_count": 3,
   "metadata": {},
   "outputs": [
    {
     "name": "stdout",
     "output_type": "stream",
     "text": [
      "Mediana de tiempos de carrera: 5.0\n"
     ]
    }
   ],
   "source": [
    "# Supongamos que queremos encontrar la mediana del tiempo de carrera en una competición de atletismo.\n",
    "import numpy as np\n",
    "\n",
    "tiempos_carrera = np.array([5.1, 4.9, 5.0, 5.2, 4.8, 5.1, 5.0])\n",
    "mediana_tiempos = np.median(tiempos_carrera)\n",
    "\n",
    "print(\"Mediana de tiempos de carrera:\", mediana_tiempos)\n"
   ]
  },
  {
   "cell_type": "markdown",
   "metadata": {},
   "source": [
    "Percentil\n",
    "Los percentiles indican el valor bajo el cual cae un cierto porcentaje de observaciones en un grupo. Son útiles para entender la distribución de los datos\n",
    "\n",
    "np.percentile(array, q, axis=None): calcula el q-ésimo percentil de los datos, donde q está en el rango de 0 a 100. Es útil para entender la dispersión y la forma de la distribución de los datos."
   ]
  },
  {
   "cell_type": "markdown",
   "metadata": {},
   "source": [
    "Supongamos que queremos calcular el percentil 25 y 75 para los resultados de una prueba de fitness."
   ]
  },
  {
   "cell_type": "code",
   "execution_count": 4,
   "metadata": {},
   "outputs": [
    {
     "name": "stdout",
     "output_type": "stream",
     "text": [
      "Percentil 25 y 75 de los resultados de fitness: [63.75 81.25]\n"
     ]
    }
   ],
   "source": [
    "import numpy as np\n",
    "\n",
    "resultados_fitness = np.array([55, 60, 65, 70, 75, 80, 85, 90])\n",
    "percentiles = np.percentile(resultados_fitness, [25, 75])\n",
    "\n",
    "print(\"Percentil 25 y 75 de los resultados de fitness:\", percentiles)\n"
   ]
  },
  {
   "cell_type": "markdown",
   "metadata": {},
   "source": [
    "Máximos y mínimos\n",
    "np.max(array, axis=None) y np.min(array, axis=None): identifican los valores máximos y mínimos en el array. Son esenciales para comprender el rango de valores que pueden tomar los datos."
   ]
  },
  {
   "cell_type": "code",
   "execution_count": 5,
   "metadata": {},
   "outputs": [
    {
     "name": "stdout",
     "output_type": "stream",
     "text": [
      "Máxima puntuación en gimnasia: 9.8\n",
      "Mínima puntuación en gimnasia: 9.2\n"
     ]
    }
   ],
   "source": [
    "#Supongamos que queremos encontrar las puntuaciones máxima y mínima en competiciones de gimnasia.\n",
    "import numpy as np\n",
    "\n",
    "puntuaciones_gimnasia = np.array([9.5, 9.8, 9.2, 9.4, 9.6, 9.7])\n",
    "max_puntuacion = np.max(puntuaciones_gimnasia)\n",
    "min_puntuacion = np.min(puntuaciones_gimnasia)\n",
    "\n",
    "print(\"Máxima puntuación en gimnasia:\", max_puntuacion)\n",
    "print(\"Mínima puntuación en gimnasia:\", min_puntuacion)\n"
   ]
  },
  {
   "cell_type": "markdown",
   "metadata": {},
   "source": [
    "Creación de arrays de números aleatorios y simulaciones"
   ]
  },
  {
   "cell_type": "markdown",
   "metadata": {},
   "source": [
    "Generación de números aleatorios\n",
    "np.random.rand(dimensiones)\n",
    "Esta función genera valores aleatorios en una distribución uniforme en el intervalo [0,1). Es útil para simular probabilidades o seleccionar muestras de manera equitativa."
   ]
  },
  {
   "cell_type": "code",
   "execution_count": null,
   "metadata": {},
   "outputs": [],
   "source": [
    "#Supongamos que el Club Deportivo Deporte y Vida organiza un evento donde los participantes pueden probar diferentes actividades deportivas de manera aleatoria.\n",
    "\n",
    "import numpy as np\n",
    "# Generamos probabilidades aleatorias para 5 participantes y 3 actividades\n",
    "probabilidades = np.random.rand(5, 3)\n",
    "print(\"Probabilidades aleatorias de participación:\\n\", probabilidades)\n"
   ]
  },
  {
   "cell_type": "markdown",
   "metadata": {},
   "source": [
    "np.random.randn(dimensiones)\n",
    "\n",
    "np.random.randn genera valores aleatorios de una distribución normal estándar (Gaussiana) con media 0 y varianza 1. Esta función es útil para simular variaciones naturales en mediciones o rendimientos."
   ]
  },
  {
   "cell_type": "code",
   "execution_count": 6,
   "metadata": {},
   "outputs": [
    {
     "name": "stdout",
     "output_type": "stream",
     "text": [
      "Mejoras simuladas en el rendimiento de los atletas:\n",
      " [ 1.7639816  -1.23622419 -0.77575712  0.14670392  0.75769403]\n"
     ]
    }
   ],
   "source": [
    "# Imaginemos que queremos simular la mejora en el rendimiento de los atletas del club después de un periodo de entrenamiento intensivo.\n",
    "import numpy as np\n",
    "\n",
    "# Simulamos la mejora en el rendimiento de 5 atletas\n",
    "mejora_rendimiento = np.random.randn(5)\n",
    "\n",
    "print(\"Mejoras simuladas en el rendimiento de los atletas:\\n\", mejora_rendimiento)\n"
   ]
  },
  {
   "cell_type": "markdown",
   "metadata": {},
   "source": [
    "np.random.randint(low, high=None, size=None)\n",
    "Esta función retorna enteros aleatorios desde low (inclusive) hasta high (exclusivo). Es ideal para simular conteos, selecciones aleatorias de un conjunto con límites definidos, o asignaciones aleatorias."
   ]
  },
  {
   "cell_type": "code",
   "execution_count": 7,
   "metadata": {},
   "outputs": [
    {
     "name": "stdout",
     "output_type": "stream",
     "text": [
      "Asignación aleatoria de atletas a equipos:\n",
      " [3 3 3 2 1 2 3 2 2 2]\n"
     ]
    }
   ],
   "source": [
    "#El Club Deportivo Deporte y Vida organiza un torneo interno y necesita asignar aleatoriamente a los atletas a diferentes equipos.\n",
    "import numpy as np\n",
    "\n",
    "# Supongamos que hay 10 atletas y queremos asignarlos a 3 equipos\n",
    "asignacion_equipos = np.random.randint(1, 4, size=10)\n",
    "\n",
    "print(\"Asignación aleatoria de atletas a equipos:\\n\", asignacion_equipos)\n"
   ]
  }
 ],
 "metadata": {
  "kernelspec": {
   "display_name": "Python 3",
   "language": "python",
   "name": "python3"
  },
  "language_info": {
   "codemirror_mode": {
    "name": "ipython",
    "version": 3
   },
   "file_extension": ".py",
   "mimetype": "text/x-python",
   "name": "python",
   "nbconvert_exporter": "python",
   "pygments_lexer": "ipython3",
   "version": "3.12.4"
  }
 },
 "nbformat": 4,
 "nbformat_minor": 2
}
