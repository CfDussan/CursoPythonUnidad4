{
 "cells": [
  {
   "cell_type": "markdown",
   "metadata": {},
   "source": [
    "Creando Arrays"
   ]
  },
  {
   "cell_type": "code",
   "execution_count": 1,
   "metadata": {},
   "outputs": [],
   "source": [
    "import numpy as np"
   ]
  },
  {
   "cell_type": "code",
   "execution_count": 2,
   "metadata": {},
   "outputs": [],
   "source": [
    "edad_miembros=np.array([22,19,24,28,26,30,23])"
   ]
  },
  {
   "cell_type": "code",
   "execution_count": 3,
   "metadata": {},
   "outputs": [
    {
     "name": "stdout",
     "output_type": "stream",
     "text": [
      "Edad de los miembros del equipo de futbol: [22 19 24 28 26 30 23]\n"
     ]
    }
   ],
   "source": [
    "print('Edad de los miembros del equipo de futbol:', edad_miembros)"
   ]
  },
  {
   "cell_type": "code",
   "execution_count": 4,
   "metadata": {},
   "outputs": [
    {
     "name": "stdout",
     "output_type": "stream",
     "text": [
      "Dias en que el club está abierto: [ 1  2  3  4  5  6  7  8  9 10 11 12 13 14 15 16 17 18 19 20 21 22 23 24\n",
      " 25 26 27 28 29 30]\n"
     ]
    }
   ],
   "source": [
    "dias_abiertos=np.arange(1,31) #Asuminedo que un mes tenga 30 dias\n",
    "print('Dias en que el club está abierto:',dias_abiertos)"
   ]
  },
  {
   "cell_type": "code",
   "execution_count": 5,
   "metadata": {},
   "outputs": [
    {
     "name": "stdout",
     "output_type": "stream",
     "text": [
      "Puntos de tiempo durante una hora de entrenamiento: [ 0.          6.66666667 13.33333333 20.         26.66666667 33.33333333\n",
      " 40.         46.66666667 53.33333333 60.        ]\n"
     ]
    }
   ],
   "source": [
    "puntos_tiempo=np.linspace(0,60,10) #De 0 a 60 minutos, 10 intervalos\n",
    "print('Puntos de tiempo durante una hora de entrenamiento:', puntos_tiempo)"
   ]
  },
  {
   "cell_type": "code",
   "execution_count": 6,
   "metadata": {},
   "outputs": [
    {
     "name": "stdout",
     "output_type": "stream",
     "text": [
      "Asistencia a la clase de natación durante una semana: [False False False  True False  True False]\n"
     ]
    }
   ],
   "source": [
    "asistencia_natacion=np.random.rand(7) > 0.5 # Suponiendo una probabilidad del 50%\n",
    "print('Asistencia a la clase de natación durante una semana:', asistencia_natacion)"
   ]
  },
  {
   "cell_type": "code",
   "execution_count": 7,
   "metadata": {},
   "outputs": [
    {
     "name": "stdout",
     "output_type": "stream",
     "text": [
      "Mejora en el rendimiento de los nadadores (tiempos de vuelta): [-1.90503069  0.18676912 -0.1750589   0.07379586 -2.84516032]\n"
     ]
    }
   ],
   "source": [
    "mejora_rendimiento = np.random.randn(5)  # 5 nadadores\n",
    "\n",
    "print(\"Mejora en el rendimiento de los nadadores (tiempos de vuelta):\", mejora_rendimiento)"
   ]
  },
  {
   "cell_type": "markdown",
   "metadata": {},
   "source": [
    "Uso de shape"
   ]
  },
  {
   "cell_type": "code",
   "execution_count": 8,
   "metadata": {},
   "outputs": [
    {
     "name": "stdout",
     "output_type": "stream",
     "text": [
      "Registro de asistencia:\n",
      " [[1 0 1 1 0]\n",
      " [0 1 1 0 1]]\n"
     ]
    }
   ],
   "source": [
    "# Registro de asistencia: filas representan deportes [Natación, Tenis],\n",
    "\n",
    "# columnas representan días de la semana [Lunes a Viernes]\n",
    "\n",
    "asistencia = np.array([\n",
    "\n",
    "    [1, 0, 1, 1, 0],  # Natación\n",
    "\n",
    "    [0, 1, 1, 0, 1]   # Tenis\n",
    "\n",
    "])\n",
    "\n",
    "\n",
    "print(\"Registro de asistencia:\\n\", asistencia)"
   ]
  },
  {
   "cell_type": "code",
   "execution_count": 9,
   "metadata": {},
   "outputs": [
    {
     "name": "stdout",
     "output_type": "stream",
     "text": [
      "Shape del array de asistencia: (2, 5)\n"
     ]
    }
   ],
   "source": [
    "print(\"Shape del array de asistencia:\", asistencia.shape)"
   ]
  },
  {
   "cell_type": "markdown",
   "metadata": {},
   "source": [
    "Manipulacion de Arrays\n",
    "Uso de reshape"
   ]
  },
  {
   "cell_type": "markdown",
   "metadata": {},
   "source": [
    "array.reshape(newshape*): cambia la forma de un array sin cambiar sus datos. "
   ]
  },
  {
   "cell_type": "code",
   "execution_count": 10,
   "metadata": {},
   "outputs": [
    {
     "name": "stdout",
     "output_type": "stream",
     "text": [
      "Asistencia original: [1 0 1 1 0 1 1 0 1 1]\n"
     ]
    }
   ],
   "source": [
    "# Registro de asistencia para 2 semanas de clases de natación (10 días)\n",
    "asistencia_natacion = np.array([1, 0, 1, 1, 0, 1, 1, 0, 1, 1])\n",
    "\n",
    "print(\"Asistencia original:\", asistencia_natacion)"
   ]
  },
  {
   "cell_type": "code",
   "execution_count": 11,
   "metadata": {},
   "outputs": [
    {
     "name": "stdout",
     "output_type": "stream",
     "text": [
      "Asistencia reorganizada (2 semanas, 5 días):\n",
      " [[1 0 1 1 0]\n",
      " [1 1 0 1 1]]\n"
     ]
    }
   ],
   "source": [
    "# Cambiando la forma del array para que tenga 2 filas (semanas) y 5 columnas (días)\n",
    "asistencia_reshaped = asistencia_natacion.reshape(2, 5)\n",
    "\n",
    "print(\"Asistencia reorganizada (2 semanas, 5 días):\\n\", asistencia_reshaped)"
   ]
  },
  {
   "cell_type": "markdown",
   "metadata": {},
   "source": [
    "Creando una copia"
   ]
  },
  {
   "cell_type": "code",
   "execution_count": 12,
   "metadata": {},
   "outputs": [
    {
     "name": "stdout",
     "output_type": "stream",
     "text": [
      "Asistencia copiada y modificada:\n",
      " [[1 0 1 1 0]\n",
      " [0 1 0 1 1]]\n",
      "Asistencia original sin cambios:\n",
      " [[1 0 1 1 0]\n",
      " [1 1 0 1 1]]\n"
     ]
    }
   ],
   "source": [
    "# Creando una copia del array de asistencia reorganizado\n",
    "asistencia_copiada = asistencia_reshaped.copy() # el nombre original del archivo es asistencia_reshaped\n",
    "\n",
    "# Simulamos una corrección en los datos: cambiamos la asistencia del primer día de la segunda semana\n",
    "asistencia_copiada[1, 0] = 0\n",
    "\n",
    "print(\"Asistencia copiada y modificada:\\n\", asistencia_copiada) #La copia deberia llamarse asistencia_reshaped_copiada para mayor claridad\n",
    "print(\"Asistencia original sin cambios:\\n\", asistencia_reshaped)"
   ]
  },
  {
   "cell_type": "markdown",
   "metadata": {},
   "source": [
    "Operaciones con Arrays"
   ]
  },
  {
   "cell_type": "markdown",
   "metadata": {},
   "source": [
    "Suma (+)"
   ]
  },
  {
   "cell_type": "code",
   "execution_count": 13,
   "metadata": {},
   "outputs": [
    {
     "name": "stdout",
     "output_type": "stream",
     "text": [
      "Total de horas gastadas en deportes: [2.5 4.  3.  2.5 3.5]\n"
     ]
    }
   ],
   "source": [
    "horas_natacion = np.array([1, 2, 1, 1.5, 2])  # Horas por día de lunes a viernes\n",
    "horas_tenis = np.array([1.5, 2, 2, 1, 1.5])\n",
    "total_horas = horas_natacion + horas_tenis\n",
    "\n",
    "print(\"Total de horas gastadas en deportes:\", total_horas)"
   ]
  },
  {
   "cell_type": "markdown",
   "metadata": {},
   "source": [
    "Resta (-)"
   ]
  },
  {
   "cell_type": "code",
   "execution_count": 14,
   "metadata": {},
   "outputs": [
    {
     "name": "stdout",
     "output_type": "stream",
     "text": [
      "Diferencia de horas entre natación y tenis: [-0.5  0.  -1.   0.5  0.5]\n"
     ]
    }
   ],
   "source": [
    "diferencia_horas = horas_natacion - horas_tenis\n",
    "print(\"Diferencia de horas entre natación y tenis:\", diferencia_horas)"
   ]
  },
  {
   "cell_type": "markdown",
   "metadata": {},
   "source": [
    "Multiplicación (*)"
   ]
  },
  {
   "cell_type": "code",
   "execution_count": 15,
   "metadata": {},
   "outputs": [
    {
     "name": "stdout",
     "output_type": "stream",
     "text": [
      "Horas ajustadas por intensidad (Natación): [1.1  2.2  1.1  1.65 2.2 ]\n",
      "Horas ajustadas por intensidad (Tenis): [1.8 2.4 2.4 1.2 1.8]\n"
     ]
    }
   ],
   "source": [
    "ajuste_natacion = horas_natacion * 1.1\n",
    "ajuste_tenis = horas_tenis * 1.2\n",
    "\n",
    "print(\"Horas ajustadas por intensidad (Natación):\", ajuste_natacion)\n",
    "print(\"Horas ajustadas por intensidad (Tenis):\", ajuste_tenis)"
   ]
  },
  {
   "cell_type": "code",
   "execution_count": 17,
   "metadata": {},
   "outputs": [
    {
     "name": "stdout",
     "output_type": "stream",
     "text": [
      "[1.5 4.  2.  1.5 3. ]\n"
     ]
    }
   ],
   "source": [
    "#Probando epor cuenta propia multiplicacion entre arrays\n",
    "multiplicacion_horas = horas_natacion * horas_tenis\n",
    "print(multiplicacion_horas)"
   ]
  },
  {
   "cell_type": "markdown",
   "metadata": {},
   "source": [
    "División (/)"
   ]
  },
  {
   "cell_type": "code",
   "execution_count": 18,
   "metadata": {},
   "outputs": [
    {
     "name": "stdout",
     "output_type": "stream",
     "text": [
      "Promedio de horas por deporte por día: [0.5 0.8 0.6 0.5 0.7]\n"
     ]
    }
   ],
   "source": [
    "promedio_natacion = total_horas / 5  # Suponiendo 5 días a la semana\n",
    "print(\"Promedio de horas por deporte por día:\", promedio_natacion)"
   ]
  },
  {
   "cell_type": "code",
   "execution_count": 19,
   "metadata": {},
   "outputs": [
    {
     "name": "stdout",
     "output_type": "stream",
     "text": [
      "[0.66666667 1.         0.5        1.5        1.33333333]\n"
     ]
    }
   ],
   "source": [
    "#Probando entre arrays\n",
    "division_horas= horas_natacion / horas_tenis #No tiene sentido, solo como prueba\n",
    "print(division_horas)"
   ]
  },
  {
   "cell_type": "markdown",
   "metadata": {},
   "source": [
    "Multiplicaion de matrices\n",
    "np.matmul"
   ]
  },
  {
   "cell_type": "code",
   "execution_count": 20,
   "metadata": {},
   "outputs": [
    {
     "name": "stdout",
     "output_type": "stream",
     "text": [
      "Rendimiento total por deporte: [[1.62  1.24 ]\n",
      " [2.125 1.67 ]]\n"
     ]
    }
   ],
   "source": [
    "# Habilidades del equipo por deporte [natación, tenis]\n",
    "habilidades = np.array([[0.8, 0.6],  # Eficiencia\n",
    "                        [0.9, 0.95]])  # Técnica\n",
    "\n",
    "# Efectividad de entrenamiento [Eficiencia, Técnica]\n",
    "efectividad_entrenamiento = np.array([[1.2, 0.8],  \n",
    "\n",
    "                                      [1.1, 1.0]])\n",
    "\n",
    "# Cálculo del rendimiento total\n",
    "rendimiento_total = np.matmul(habilidades, efectividad_entrenamiento)\n",
    "print(\"Rendimiento total por deporte:\", rendimiento_total)"
   ]
  },
  {
   "cell_type": "code",
   "execution_count": 23,
   "metadata": {},
   "outputs": [
    {
     "name": "stdout",
     "output_type": "stream",
     "text": [
      "[[0.8  0.6 ]\n",
      " [0.9  0.95]]\n",
      "[[1.2 0.8]\n",
      " [1.1 1. ]]\n",
      "[[1.296  0.744 ]\n",
      " [1.9125 1.5865]]\n"
     ]
    }
   ],
   "source": [
    "print(habilidades)\n",
    "print(efectividad_entrenamiento)\n",
    "probando_multiplicacion_tradicional=habilidades*rendimiento_total\n",
    "print(probando_multiplicacion_tradicional) #Es diferente no funciona como multiplicacion de matrices"
   ]
  },
  {
   "cell_type": "markdown",
   "metadata": {},
   "source": [
    "# Habilidades del equipo por deporte [natación, tenis]\n",
    "habilidades = np.array([[0.8, 0.6],  # Eficiencia\n",
    "                        [0.9, 0.95]])  # Técnica\n",
    "\n",
    "# Efectividad de entrenamiento [Eficiencia, Técnica]\n",
    "efectividad_entrenamiento = np.array([[1.2, 0.8],  \n",
    "\n",
    "                                      [1.1, 1.0]])\n",
    "\n",
    "# Cálculo del rendimiento total\n",
    "rendimiento_total = np.matmul(habilidades, efectividad_entrenamiento)\n",
    "print(\"Rendimiento total por deporte:\", rendimiento_total)"
   ]
  },
  {
   "cell_type": "code",
   "execution_count": 29,
   "metadata": {},
   "outputs": [
    {
     "name": "stdout",
     "output_type": "stream",
     "text": [
      "0.96 0.66 1.62\n"
     ]
    }
   ],
   "source": [
    "a = 0.8 * 1.2\n",
    "b = 0.6 * 1.1\n",
    "print(a, b, a + b)\n"
   ]
  },
  {
   "cell_type": "markdown",
   "metadata": {},
   "source": [
    "Aquí se muestra un cálculo individual:\n",
    "\n",
    "𝑎=0.8×1.2=0.96\n",
    "a=0.8×1.2=0.96\n",
    "𝑏=0.6×1.1=0.66\n",
    "b=0.6×1.1=0.66\n",
    "𝑎+𝑏=0.96+0.66=1.62\n",
    "a+b=0.96+0.66=1.62\n",
    "Esto corresponde a una de las entradas en el resultado de la matriz."
   ]
  },
  {
   "cell_type": "markdown",
   "metadata": {},
   "source": [
    "Indexación, slicing y reshaping\n",
    "array[idx] → Indexación"
   ]
  },
  {
   "cell_type": "code",
   "execution_count": 24,
   "metadata": {},
   "outputs": [
    {
     "name": "stdout",
     "output_type": "stream",
     "text": [
      "Edad del tercer miembro: 19\n"
     ]
    }
   ],
   "source": [
    "edades_natacion = np.array([20, 22, 19, 21, 23, 24])\n",
    "# Accediendo al tercer miembro del equipo\n",
    "edad_tercer_miembro = edades_natacion[2]  # Recuerda que la indexación comienza en 0\n",
    "print(\"Edad del tercer miembro:\", edad_tercer_miembro)"
   ]
  },
  {
   "cell_type": "markdown",
   "metadata": {},
   "source": [
    "array[start:stop:step] → Slicing "
   ]
  },
  {
   "cell_type": "code",
   "execution_count": 25,
   "metadata": {},
   "outputs": [
    {
     "name": "stdout",
     "output_type": "stream",
     "text": [
      "Edades de los primeros tres miembros: [20 22 19]\n"
     ]
    }
   ],
   "source": [
    "# Seleccionando las edades de los primeros tres miembros\n",
    "primeras_tres_edades = edades_natacion[0:3]  # O edades_natacion[:3]\n",
    "print(\"Edades de los primeros tres miembros:\", primeras_tres_edades)"
   ]
  },
  {
   "cell_type": "markdown",
   "metadata": {},
   "source": [
    "reshape() → Reshaping\n",
    "\n",
    "Reshaping permite cambiar la forma de un array sin cambiar sus datos. Es útil cuando necesitas organizar los datos de manera diferente para análisis o visualización."
   ]
  },
  {
   "cell_type": "code",
   "execution_count": 26,
   "metadata": {},
   "outputs": [
    {
     "name": "stdout",
     "output_type": "stream",
     "text": [
      "Edades reorganizadas:\n",
      " [[20 22 19]\n",
      " [21 23 24]]\n"
     ]
    }
   ],
   "source": [
    "# Cambiando la forma del array a 2 filas y 3 columnas\n",
    "edades_reshaped = edades_natacion.reshape(2, 3)\n",
    "print(\"Edades reorganizadas:\\n\", edades_reshaped)"
   ]
  },
  {
   "cell_type": "markdown",
   "metadata": {},
   "source": [
    "Funciones Universales (ufuncs)"
   ]
  },
  {
   "cell_type": "markdown",
   "metadata": {},
   "source": [
    "Suma total de puntos en un torneo\n",
    "Imaginemos que el Club Deportivo Deporte y Vida organiza un torneo interno de tenis en el que participan varios jugadores, y queremos calcular el total de puntos ganados por todos los jugadores durante el torneo. Cada array representa los puntos ganados por cada jugador en diferentes partidos."
   ]
  },
  {
   "cell_type": "code",
   "execution_count": 27,
   "metadata": {},
   "outputs": [
    {
     "name": "stdout",
     "output_type": "stream",
     "text": [
      "El total de puntos ganados por todos los jugadores en el torneo es: 153\n"
     ]
    }
   ],
   "source": [
    "# Puntos ganados por cada jugador en 5 partidos\n",
    "puntos_jugadores = np.array([\n",
    "    [15, 12, 9, 7, 6],  # Jugador 1\n",
    "    [10, 14, 6, 8, 12], # Jugador 2\n",
    "    [7, 9, 12, 15, 11]  # Jugador 3\n",
    "])\n",
    "\n",
    "# Calculamos el total de puntos ganados en el torneo\n",
    "total_puntos = np.sum(puntos_jugadores)\n",
    "\n",
    "print(f\"El total de puntos ganados por todos los jugadores en el torneo es: {total_puntos}\")"
   ]
  },
  {
   "cell_type": "markdown",
   "metadata": {},
   "source": [
    "Funciones matemáticas\n",
    "Podríamos calcular el seno de ángulos dados en radianes, lo cual podría ser útil en análisis biomecánicos de movimientos deportivos."
   ]
  },
  {
   "cell_type": "code",
   "execution_count": 28,
   "metadata": {},
   "outputs": [
    {
     "name": "stdout",
     "output_type": "stream",
     "text": [
      "Seno de los ángulos: [ 0.0000000e+00  1.0000000e+00  1.2246468e-16 -1.0000000e+00\n",
      " -2.4492936e-16]\n"
     ]
    }
   ],
   "source": [
    "angulos = np.array([0, np.pi/2, np.pi, 3*np.pi/2, 2*np.pi])  # Ángulos en radianes\n",
    "\n",
    "# Calculando el seno de los ángulos\n",
    "seno_angulos = np.sin(angulos)\n",
    "\n",
    "print(\"Seno de los ángulos:\", seno_angulos)"
   ]
  }
 ],
 "metadata": {
  "kernelspec": {
   "display_name": "Python 3",
   "language": "python",
   "name": "python3"
  },
  "language_info": {
   "codemirror_mode": {
    "name": "ipython",
    "version": 3
   },
   "file_extension": ".py",
   "mimetype": "text/x-python",
   "name": "python",
   "nbconvert_exporter": "python",
   "pygments_lexer": "ipython3",
   "version": "3.12.4"
  }
 },
 "nbformat": 4,
 "nbformat_minor": 2
}
