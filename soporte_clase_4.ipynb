{
 "cells": [
  {
   "cell_type": "markdown",
   "metadata": {},
   "source": [
    "# Soporte Clase 4: Numpy\n",
    "\n",
    "- Numerical Python: Como su nombre lo indica es una biblioteca especializada en Estadisticas, Algebra Lineal y Matematicas en general. \n",
    "- Base sobre la cual se construye Pandas \n",
    "- Arrays y Matrices son sus clases/objetos principales"
   ]
  },
  {
   "cell_type": "markdown",
   "metadata": {},
   "source": [
    "## Creación de un Virtual Environment\n",
    "\n",
    "- Utilidad:\n",
    "  - Nos permite contenerizar las dependencias de nuestro proyecto y documentarlas\n",
    "  - Nos permite utilizar diferencias versiones (v1.41.4 vs v2.1.12 por ej) en distintos proyectos\n",
    "\n",
    "- Creación de un virtual environment o \"venv\" en python: \n",
    "  - python -m venv .venv (el ultimo nombre queda a elección del creador, es el nombre del venv creado)\n",
    "  \n",
    "- Activación del venv:\n",
    "  - Windows: nombre_del_entorno\\Scripts\\activate\n",
    "  - Linux/Mac: source nombre_del_entorno/bin/activate\n",
    "\n",
    "- Instalación de dependencias:\n",
    "  - pip install {dependencia}. \n",
    "  - Ejemplo: pip install numpy\n",
    "  \n",
    "- Documentación de las dependencias:\n",
    "  - pip freeze > requirements.txt\n",
    "  \n",
    "- Desactivar el venv:\n",
    "  - deactivate\n",
    "\n",
    "- Configuración adicional en Git/Github:\n",
    "  - Agregar al archivo .gitignore la carpeta del nombre del venv:\n",
    "  - ej: .venv/\n",
    "  - Esto evitara subir todas las dependencias al repositorio lo que es una mala práctica. \n",
    "  - En su lugar se sube requirements.txt para que quien descargue el repo pueda clonar las dependencias haciendo: \n",
    "  - pip install -r requirements.txt\n",
    "\n",
    "\n"
   ]
  },
  {
   "cell_type": "markdown",
   "metadata": {},
   "source": [
    "## Crear un venv directamente desde el notebook"
   ]
  },
  {
   "cell_type": "code",
   "execution_count": null,
   "metadata": {},
   "outputs": [],
   "source": [
    "! python -m venv .venv"
   ]
  },
  {
   "cell_type": "markdown",
   "metadata": {},
   "source": [
    "- En Mac/Linux: "
   ]
  },
  {
   "cell_type": "code",
   "execution_count": null,
   "metadata": {},
   "outputs": [],
   "source": [
    "! source .venv/bin/activate"
   ]
  },
  {
   "cell_type": "markdown",
   "metadata": {},
   "source": [
    "- En Windows"
   ]
  },
  {
   "cell_type": "code",
   "execution_count": null,
   "metadata": {},
   "outputs": [],
   "source": [
    "! .venv\\Scripts\\activate"
   ]
  },
  {
   "cell_type": "code",
   "execution_count": null,
   "metadata": {},
   "outputs": [],
   "source": [
    "! pip install numpy"
   ]
  },
  {
   "cell_type": "code",
   "execution_count": 2,
   "metadata": {},
   "outputs": [
    {
     "name": "stdout",
     "output_type": "stream",
     "text": [
      "appnope==0.1.4\n",
      "asttokens==2.4.1\n",
      "comm==0.2.2\n",
      "contourpy==1.2.1\n",
      "coverage==7.5.4\n",
      "cycler==0.12.1\n",
      "debugpy==1.8.2\n",
      "decorator==5.1.1\n",
      "executing==2.0.1\n",
      "fonttools==4.53.1\n",
      "ipykernel==6.29.5\n",
      "ipython==8.26.0\n",
      "jedi==0.19.1\n",
      "joblib==1.4.2\n",
      "jupyter_client==8.6.2\n",
      "jupyter_core==5.7.2\n",
      "kiwisolver==1.4.5\n",
      "matplotlib==3.9.1\n",
      "matplotlib-inline==0.1.7\n",
      "missing_mga==1.1.3\n",
      "nest-asyncio==1.6.0\n",
      "numpy==2.0.0\n",
      "packaging==24.1\n",
      "pandas==2.2.2\n",
      "parso==0.8.4\n",
      "pexpect==4.9.0\n",
      "pillow==10.4.0\n",
      "platformdirs==4.2.2\n",
      "prompt_toolkit==3.0.47\n",
      "psutil==6.0.0\n",
      "psycopg2==2.9.9\n",
      "ptyprocess==0.7.0\n",
      "pure-eval==0.2.2\n",
      "Pygments==2.18.0\n",
      "pyparsing==3.1.2\n",
      "python-dateutil==2.9.0.post0\n",
      "python-dotenv==1.0.1\n",
      "pytz==2024.1\n",
      "pyzmq==26.0.3\n",
      "scikit-learn==1.5.1\n",
      "scipy==1.14.0\n",
      "seaborn==0.13.2\n",
      "six==1.16.0\n",
      "SQLAlchemy==2.0.31\n",
      "stack-data==0.6.3\n",
      "threadpoolctl==3.5.0\n",
      "tornado==6.4.1\n",
      "traitlets==5.14.3\n",
      "typing_extensions==4.12.2\n",
      "tzdata==2024.1\n",
      "UpSetPlot==0.9.0\n",
      "wcwidth==0.2.13\n"
     ]
    }
   ],
   "source": [
    "! pip freeze"
   ]
  },
  {
   "cell_type": "code",
   "execution_count": 1,
   "metadata": {},
   "outputs": [],
   "source": [
    "! pip freeze > requirements.txt"
   ]
  },
  {
   "cell_type": "markdown",
   "metadata": {},
   "source": [
    "- Para instalar los requerimentos del proyecto. Si existe un archivo requierements.txt"
   ]
  },
  {
   "cell_type": "code",
   "execution_count": 3,
   "metadata": {},
   "outputs": [
    {
     "name": "stdout",
     "output_type": "stream",
     "text": [
      "Requirement already satisfied: appnope==0.1.4 in /Users/mgobea/Documents/Henry/.venv/lib/python3.11/site-packages (from -r requirements.txt (line 1)) (0.1.4)\n",
      "Requirement already satisfied: asttokens==2.4.1 in /Users/mgobea/Documents/Henry/.venv/lib/python3.11/site-packages (from -r requirements.txt (line 2)) (2.4.1)\n",
      "Requirement already satisfied: comm==0.2.2 in /Users/mgobea/Documents/Henry/.venv/lib/python3.11/site-packages (from -r requirements.txt (line 3)) (0.2.2)\n",
      "Requirement already satisfied: contourpy==1.2.1 in /Users/mgobea/Documents/Henry/.venv/lib/python3.11/site-packages (from -r requirements.txt (line 4)) (1.2.1)\n",
      "Requirement already satisfied: coverage==7.5.4 in /Users/mgobea/Documents/Henry/.venv/lib/python3.11/site-packages (from -r requirements.txt (line 5)) (7.5.4)\n",
      "Requirement already satisfied: cycler==0.12.1 in /Users/mgobea/Documents/Henry/.venv/lib/python3.11/site-packages (from -r requirements.txt (line 6)) (0.12.1)\n",
      "Requirement already satisfied: debugpy==1.8.2 in /Users/mgobea/Documents/Henry/.venv/lib/python3.11/site-packages (from -r requirements.txt (line 7)) (1.8.2)\n",
      "Requirement already satisfied: decorator==5.1.1 in /Users/mgobea/Documents/Henry/.venv/lib/python3.11/site-packages (from -r requirements.txt (line 8)) (5.1.1)\n",
      "Requirement already satisfied: executing==2.0.1 in /Users/mgobea/Documents/Henry/.venv/lib/python3.11/site-packages (from -r requirements.txt (line 9)) (2.0.1)\n",
      "Requirement already satisfied: fonttools==4.53.1 in /Users/mgobea/Documents/Henry/.venv/lib/python3.11/site-packages (from -r requirements.txt (line 10)) (4.53.1)\n",
      "Requirement already satisfied: ipykernel==6.29.5 in /Users/mgobea/Documents/Henry/.venv/lib/python3.11/site-packages (from -r requirements.txt (line 11)) (6.29.5)\n",
      "Requirement already satisfied: ipython==8.26.0 in /Users/mgobea/Documents/Henry/.venv/lib/python3.11/site-packages (from -r requirements.txt (line 12)) (8.26.0)\n",
      "Requirement already satisfied: jedi==0.19.1 in /Users/mgobea/Documents/Henry/.venv/lib/python3.11/site-packages (from -r requirements.txt (line 13)) (0.19.1)\n",
      "Requirement already satisfied: joblib==1.4.2 in /Users/mgobea/Documents/Henry/.venv/lib/python3.11/site-packages (from -r requirements.txt (line 14)) (1.4.2)\n",
      "Requirement already satisfied: jupyter_client==8.6.2 in /Users/mgobea/Documents/Henry/.venv/lib/python3.11/site-packages (from -r requirements.txt (line 15)) (8.6.2)\n",
      "Requirement already satisfied: jupyter_core==5.7.2 in /Users/mgobea/Documents/Henry/.venv/lib/python3.11/site-packages (from -r requirements.txt (line 16)) (5.7.2)\n",
      "Requirement already satisfied: kiwisolver==1.4.5 in /Users/mgobea/Documents/Henry/.venv/lib/python3.11/site-packages (from -r requirements.txt (line 17)) (1.4.5)\n",
      "Requirement already satisfied: matplotlib==3.9.1 in /Users/mgobea/Documents/Henry/.venv/lib/python3.11/site-packages (from -r requirements.txt (line 18)) (3.9.1)\n",
      "Requirement already satisfied: matplotlib-inline==0.1.7 in /Users/mgobea/Documents/Henry/.venv/lib/python3.11/site-packages (from -r requirements.txt (line 19)) (0.1.7)\n",
      "Requirement already satisfied: missing_mga==1.1.3 in /Users/mgobea/Documents/Henry/.venv/lib/python3.11/site-packages (from -r requirements.txt (line 20)) (1.1.3)\n",
      "Requirement already satisfied: nest-asyncio==1.6.0 in /Users/mgobea/Documents/Henry/.venv/lib/python3.11/site-packages (from -r requirements.txt (line 21)) (1.6.0)\n",
      "Requirement already satisfied: numpy==2.0.0 in /Users/mgobea/Documents/Henry/.venv/lib/python3.11/site-packages (from -r requirements.txt (line 22)) (2.0.0)\n",
      "Requirement already satisfied: packaging==24.1 in /Users/mgobea/Documents/Henry/.venv/lib/python3.11/site-packages (from -r requirements.txt (line 23)) (24.1)\n",
      "Requirement already satisfied: pandas==2.2.2 in /Users/mgobea/Documents/Henry/.venv/lib/python3.11/site-packages (from -r requirements.txt (line 24)) (2.2.2)\n",
      "Requirement already satisfied: parso==0.8.4 in /Users/mgobea/Documents/Henry/.venv/lib/python3.11/site-packages (from -r requirements.txt (line 25)) (0.8.4)\n",
      "Requirement already satisfied: pexpect==4.9.0 in /Users/mgobea/Documents/Henry/.venv/lib/python3.11/site-packages (from -r requirements.txt (line 26)) (4.9.0)\n",
      "Requirement already satisfied: pillow==10.4.0 in /Users/mgobea/Documents/Henry/.venv/lib/python3.11/site-packages (from -r requirements.txt (line 27)) (10.4.0)\n",
      "Requirement already satisfied: platformdirs==4.2.2 in /Users/mgobea/Documents/Henry/.venv/lib/python3.11/site-packages (from -r requirements.txt (line 28)) (4.2.2)\n",
      "Requirement already satisfied: prompt_toolkit==3.0.47 in /Users/mgobea/Documents/Henry/.venv/lib/python3.11/site-packages (from -r requirements.txt (line 29)) (3.0.47)\n",
      "Requirement already satisfied: psutil==6.0.0 in /Users/mgobea/Documents/Henry/.venv/lib/python3.11/site-packages (from -r requirements.txt (line 30)) (6.0.0)\n",
      "Requirement already satisfied: psycopg2==2.9.9 in /Users/mgobea/Documents/Henry/.venv/lib/python3.11/site-packages (from -r requirements.txt (line 31)) (2.9.9)\n",
      "Requirement already satisfied: ptyprocess==0.7.0 in /Users/mgobea/Documents/Henry/.venv/lib/python3.11/site-packages (from -r requirements.txt (line 32)) (0.7.0)\n",
      "Requirement already satisfied: pure-eval==0.2.2 in /Users/mgobea/Documents/Henry/.venv/lib/python3.11/site-packages (from -r requirements.txt (line 33)) (0.2.2)\n",
      "Requirement already satisfied: Pygments==2.18.0 in /Users/mgobea/Documents/Henry/.venv/lib/python3.11/site-packages (from -r requirements.txt (line 34)) (2.18.0)\n",
      "Requirement already satisfied: pyparsing==3.1.2 in /Users/mgobea/Documents/Henry/.venv/lib/python3.11/site-packages (from -r requirements.txt (line 35)) (3.1.2)\n",
      "Requirement already satisfied: python-dateutil==2.9.0.post0 in /Users/mgobea/Documents/Henry/.venv/lib/python3.11/site-packages (from -r requirements.txt (line 36)) (2.9.0.post0)\n",
      "Requirement already satisfied: python-dotenv==1.0.1 in /Users/mgobea/Documents/Henry/.venv/lib/python3.11/site-packages (from -r requirements.txt (line 37)) (1.0.1)\n",
      "Requirement already satisfied: pytz==2024.1 in /Users/mgobea/Documents/Henry/.venv/lib/python3.11/site-packages (from -r requirements.txt (line 38)) (2024.1)\n",
      "Requirement already satisfied: pyzmq==26.0.3 in /Users/mgobea/Documents/Henry/.venv/lib/python3.11/site-packages (from -r requirements.txt (line 39)) (26.0.3)\n",
      "Requirement already satisfied: scikit-learn==1.5.1 in /Users/mgobea/Documents/Henry/.venv/lib/python3.11/site-packages (from -r requirements.txt (line 40)) (1.5.1)\n",
      "Requirement already satisfied: scipy==1.14.0 in /Users/mgobea/Documents/Henry/.venv/lib/python3.11/site-packages (from -r requirements.txt (line 41)) (1.14.0)\n",
      "Requirement already satisfied: seaborn==0.13.2 in /Users/mgobea/Documents/Henry/.venv/lib/python3.11/site-packages (from -r requirements.txt (line 42)) (0.13.2)\n",
      "Requirement already satisfied: six==1.16.0 in /Users/mgobea/Documents/Henry/.venv/lib/python3.11/site-packages (from -r requirements.txt (line 43)) (1.16.0)\n",
      "Requirement already satisfied: SQLAlchemy==2.0.31 in /Users/mgobea/Documents/Henry/.venv/lib/python3.11/site-packages (from -r requirements.txt (line 44)) (2.0.31)\n",
      "Requirement already satisfied: stack-data==0.6.3 in /Users/mgobea/Documents/Henry/.venv/lib/python3.11/site-packages (from -r requirements.txt (line 45)) (0.6.3)\n",
      "Requirement already satisfied: threadpoolctl==3.5.0 in /Users/mgobea/Documents/Henry/.venv/lib/python3.11/site-packages (from -r requirements.txt (line 46)) (3.5.0)\n",
      "Requirement already satisfied: tornado==6.4.1 in /Users/mgobea/Documents/Henry/.venv/lib/python3.11/site-packages (from -r requirements.txt (line 47)) (6.4.1)\n",
      "Requirement already satisfied: traitlets==5.14.3 in /Users/mgobea/Documents/Henry/.venv/lib/python3.11/site-packages (from -r requirements.txt (line 48)) (5.14.3)\n",
      "Requirement already satisfied: typing_extensions==4.12.2 in /Users/mgobea/Documents/Henry/.venv/lib/python3.11/site-packages (from -r requirements.txt (line 49)) (4.12.2)\n",
      "Requirement already satisfied: tzdata==2024.1 in /Users/mgobea/Documents/Henry/.venv/lib/python3.11/site-packages (from -r requirements.txt (line 50)) (2024.1)\n",
      "Requirement already satisfied: UpSetPlot==0.9.0 in /Users/mgobea/Documents/Henry/.venv/lib/python3.11/site-packages (from -r requirements.txt (line 51)) (0.9.0)\n",
      "Requirement already satisfied: wcwidth==0.2.13 in /Users/mgobea/Documents/Henry/.venv/lib/python3.11/site-packages (from -r requirements.txt (line 52)) (0.2.13)\n"
     ]
    }
   ],
   "source": [
    "! pip install -r requirements.txt"
   ]
  },
  {
   "cell_type": "markdown",
   "metadata": {},
   "source": [
    "- Para desactivar el venv en Mac/Linux/Windows"
   ]
  },
  {
   "cell_type": "code",
   "execution_count": null,
   "metadata": {},
   "outputs": [],
   "source": [
    "! deactivate"
   ]
  },
  {
   "cell_type": "code",
   "execution_count": 4,
   "metadata": {},
   "outputs": [],
   "source": [
    "import numpy as np # Convención: Numpy se importa \"as np\""
   ]
  },
  {
   "cell_type": "markdown",
   "metadata": {},
   "source": [
    "**np.array: estructura de datos de alto rendimiento conocida como array, que permite realizar operaciones numéricas de manera eficiente.**"
   ]
  },
  {
   "cell_type": "markdown",
   "metadata": {},
   "source": [
    "## Resumen:\n",
    "\n",
    "- La importancia de Numpy radica en su capacidad para proporcionar una base sólida y eficiente para el análisis numérico y la manipulación de datos en Python, habilitando a los usuarios a realizar tareas complejas de manera más rápida, con menos código y de forma más intuitiva en comparación con las capacidades nativas de Python."
   ]
  },
  {
   "cell_type": "markdown",
   "metadata": {},
   "source": [
    "## características de los arrays:\n",
    "\n",
    "1. **Homogeneidad de tipo**: todos los elementos de un array deben ser del mismo tipo, lo que permite a Numpy almacenar los datos de manera más eficiente y realizar cálculos más rápidos.\n",
    "\n",
    "2. **Tamaño fijo en la creación**: a diferencia de las listas de Python, el tamaño de un array de Numpy es fijo en el momento de su creación. Aunque esto puede parecer una limitación, es precisamente lo que permite a Numpy ser tan eficiente.\n",
    "\n",
    "3. **Operaciones vectorizadas**: Numpy permite realizar operaciones sobre arrays completos sin necesidad de bucles explícitos, lo que mejora significativamente la legibilidad del código y el rendimiento.\n",
    "\n"
   ]
  },
  {
   "cell_type": "code",
   "execution_count": 7,
   "metadata": {},
   "outputs": [
    {
     "data": {
      "text/plain": [
       "array([1, 2, 3, 4, 5, 6, 7, 8, 9])"
      ]
     },
     "execution_count": 7,
     "metadata": {},
     "output_type": "execute_result"
    }
   ],
   "source": [
    "array_numeros = np.array([1,2,3,4,5,6,7,8,9])\n",
    "lista_numeros = [1,2,3,4,5,6,7,8,9]\n",
    "array_numeros"
   ]
  },
  {
   "cell_type": "code",
   "execution_count": 6,
   "metadata": {},
   "outputs": [
    {
     "data": {
      "text/plain": [
       "numpy.ndarray"
      ]
     },
     "execution_count": 6,
     "metadata": {},
     "output_type": "execute_result"
    }
   ],
   "source": [
    "type(array_numeros)"
   ]
  },
  {
   "cell_type": "code",
   "execution_count": 8,
   "metadata": {},
   "outputs": [
    {
     "data": {
      "text/plain": [
       "[1, 2, 3, 4, 5, 6, 7, 8, 9]"
      ]
     },
     "execution_count": 8,
     "metadata": {},
     "output_type": "execute_result"
    }
   ],
   "source": [
    "lista_numeros"
   ]
  },
  {
   "cell_type": "code",
   "execution_count": 9,
   "metadata": {},
   "outputs": [
    {
     "data": {
      "text/plain": [
       "list"
      ]
     },
     "execution_count": 9,
     "metadata": {},
     "output_type": "execute_result"
    }
   ],
   "source": [
    "type(lista_numeros)"
   ]
  },
  {
   "cell_type": "code",
   "execution_count": 10,
   "metadata": {},
   "outputs": [
    {
     "data": {
      "text/plain": [
       "array(['a', 'b', 'c', 'd', 'e', 'f', 'g', 'h', 'i'], dtype='<U1')"
      ]
     },
     "execution_count": 10,
     "metadata": {},
     "output_type": "execute_result"
    }
   ],
   "source": [
    "array_letras = np.array([\"a\",\"b\",\"c\",\"d\",\"e\",\"f\",\"g\",\"h\",\"i\"])\n",
    "array_letras"
   ]
  },
  {
   "cell_type": "code",
   "execution_count": 14,
   "metadata": {},
   "outputs": [
    {
     "data": {
      "text/plain": [
       "array(['Hola', ',', ' ', 'Mundo', '!!!'], dtype='<U5')"
      ]
     },
     "execution_count": 14,
     "metadata": {},
     "output_type": "execute_result"
    }
   ],
   "source": [
    "array_palabras = np.array([\"Hola\",\",\",\" \",\"Mundo\",\"!!!\"])\n",
    "array_palabras"
   ]
  },
  {
   "cell_type": "markdown",
   "metadata": {},
   "source": [
    "**El dtype cuando trabajamos con arrays de strings nos indica el largo máximo de nuestro array**"
   ]
  },
  {
   "cell_type": "code",
   "execution_count": 15,
   "metadata": {},
   "outputs": [
    {
     "data": {
      "text/plain": [
       "array([3, 4, 5, 6])"
      ]
     },
     "execution_count": 15,
     "metadata": {},
     "output_type": "execute_result"
    }
   ],
   "source": [
    "# Slicing sobre arrays\n",
    "array_numeros[2:6]"
   ]
  },
  {
   "cell_type": "code",
   "execution_count": 16,
   "metadata": {},
   "outputs": [
    {
     "data": {
      "text/plain": [
       "array(['f', 'g', 'h', 'i'], dtype='<U1')"
      ]
     },
     "execution_count": 16,
     "metadata": {},
     "output_type": "execute_result"
    }
   ],
   "source": [
    "array_letras[5:]"
   ]
  },
  {
   "cell_type": "code",
   "execution_count": 17,
   "metadata": {},
   "outputs": [
    {
     "data": {
      "text/plain": [
       "array(['Hola', ',', ' '], dtype='<U5')"
      ]
     },
     "execution_count": 17,
     "metadata": {},
     "output_type": "execute_result"
    }
   ],
   "source": [
    "array_palabras[:3]"
   ]
  },
  {
   "cell_type": "markdown",
   "metadata": {},
   "source": [
    "## Mutabilidad y forma fija:\n",
    "\n",
    "- **El array de NumPy es mutable, lo que significa que sus elementos pueden cambiarse después de su creación. Sin embargo, la estructura de un array de NumPy (es decir, su tamaño y forma) es fija una vez que se ha creado.**"
   ]
  },
  {
   "cell_type": "code",
   "execution_count": 18,
   "metadata": {},
   "outputs": [
    {
     "data": {
      "text/plain": [
       "array([[1, 2, 3],\n",
       "       [4, 5, 6]])"
      ]
     },
     "execution_count": 18,
     "metadata": {},
     "output_type": "execute_result"
    }
   ],
   "source": [
    "# Array de dos dimensiones o matriz\n",
    "matriz = np.array([[1,2,3],\n",
    "                    [4,5,6]])\n",
    "matriz"
   ]
  },
  {
   "cell_type": "code",
   "execution_count": 19,
   "metadata": {},
   "outputs": [
    {
     "data": {
      "text/plain": [
       "(2, 3)"
      ]
     },
     "execution_count": 19,
     "metadata": {},
     "output_type": "execute_result"
    }
   ],
   "source": [
    "matriz.shape"
   ]
  },
  {
   "cell_type": "code",
   "execution_count": 20,
   "metadata": {},
   "outputs": [
    {
     "data": {
      "text/plain": [
       "array([1, 2, 3, 4, 5, 6, 7, 8, 9])"
      ]
     },
     "execution_count": 20,
     "metadata": {},
     "output_type": "execute_result"
    }
   ],
   "source": [
    "array_numeros"
   ]
  },
  {
   "cell_type": "code",
   "execution_count": 21,
   "metadata": {},
   "outputs": [
    {
     "data": {
      "text/plain": [
       "(9,)"
      ]
     },
     "execution_count": 21,
     "metadata": {},
     "output_type": "execute_result"
    }
   ],
   "source": [
    "# Array tradicional - Array\n",
    "array_numeros.shape"
   ]
  },
  {
   "cell_type": "code",
   "execution_count": 60,
   "metadata": {},
   "outputs": [
    {
     "data": {
      "text/plain": [
       "(2, 3)"
      ]
     },
     "execution_count": 60,
     "metadata": {},
     "output_type": "execute_result"
    }
   ],
   "source": [
    "matriz.shape"
   ]
  },
  {
   "cell_type": "code",
   "execution_count": 22,
   "metadata": {},
   "outputs": [
    {
     "data": {
      "text/plain": [
       "array([[[1, 2, 3],\n",
       "        [4, 5, 6]],\n",
       "\n",
       "       [[7, 8, 9],\n",
       "        [0, 1, 2]]])"
      ]
     },
     "execution_count": 22,
     "metadata": {},
     "output_type": "execute_result"
    }
   ],
   "source": [
    "# Array de 3 dimensiones (o más) o Tensor\n",
    "tensor = np.array([[[1,2,3],\n",
    "                    [4,5,6]],\n",
    "                    [[7,8,9],\n",
    "                     [0,1,2]]])\n",
    "tensor"
   ]
  },
  {
   "cell_type": "code",
   "execution_count": 23,
   "metadata": {},
   "outputs": [
    {
     "data": {
      "text/plain": [
       "(2, 2, 3)"
      ]
     },
     "execution_count": 23,
     "metadata": {},
     "output_type": "execute_result"
    }
   ],
   "source": [
    "tensor.shape"
   ]
  },
  {
   "cell_type": "markdown",
   "metadata": {},
   "source": [
    "## Otras formas de crear arrays con Numpy"
   ]
  },
  {
   "cell_type": "code",
   "execution_count": 27,
   "metadata": {},
   "outputs": [
    {
     "data": {
      "text/plain": [
       "array([  0,   2,   4,   6,   8,  10,  12,  14,  16,  18,  20,  22,  24,\n",
       "        26,  28,  30,  32,  34,  36,  38,  40,  42,  44,  46,  48,  50,\n",
       "        52,  54,  56,  58,  60,  62,  64,  66,  68,  70,  72,  74,  76,\n",
       "        78,  80,  82,  84,  86,  88,  90,  92,  94,  96,  98, 100])"
      ]
     },
     "execution_count": 27,
     "metadata": {},
     "output_type": "execute_result"
    }
   ],
   "source": [
    "# Array en función de un rango np.arange()\n",
    "array_rango = np.arange(start=0, stop=102, step=2) # El último del stop no se incluye. Igual que en las listas! \n",
    "array_rango"
   ]
  },
  {
   "cell_type": "code",
   "execution_count": 31,
   "metadata": {},
   "outputs": [
    {
     "data": {
      "text/plain": [
       "array([  0.        ,   2.04081633,   4.08163265,   6.12244898,\n",
       "         8.16326531,  10.20408163,  12.24489796,  14.28571429,\n",
       "        16.32653061,  18.36734694,  20.40816327,  22.44897959,\n",
       "        24.48979592,  26.53061224,  28.57142857,  30.6122449 ,\n",
       "        32.65306122,  34.69387755,  36.73469388,  38.7755102 ,\n",
       "        40.81632653,  42.85714286,  44.89795918,  46.93877551,\n",
       "        48.97959184,  51.02040816,  53.06122449,  55.10204082,\n",
       "        57.14285714,  59.18367347,  61.2244898 ,  63.26530612,\n",
       "        65.30612245,  67.34693878,  69.3877551 ,  71.42857143,\n",
       "        73.46938776,  75.51020408,  77.55102041,  79.59183673,\n",
       "        81.63265306,  83.67346939,  85.71428571,  87.75510204,\n",
       "        89.79591837,  91.83673469,  93.87755102,  95.91836735,\n",
       "        97.95918367, 100.        ])"
      ]
     },
     "execution_count": 31,
     "metadata": {},
     "output_type": "execute_result"
    }
   ],
   "source": [
    "# Array en función de un rango y una cantidad de puntos en ese rango\n",
    "array_linspace = np.linspace(start=0, stop=100, num=50) # El último está incluido y la  distancia entre los puntos será equidistante\n",
    "array_linspace"
   ]
  },
  {
   "cell_type": "code",
   "execution_count": 32,
   "metadata": {},
   "outputs": [
    {
     "data": {
      "text/plain": [
       "array([0.88954817, 0.69903809, 0.90391918, 0.17690333, 0.924214  ,\n",
       "       0.05619852, 0.66731046, 0.05673624, 0.76424427, 0.78260994,\n",
       "       0.62925361, 0.68531362, 0.16522934, 0.40943084, 0.42634073,\n",
       "       0.89767716, 0.73918295, 0.98705621, 0.23877305, 0.54354414,\n",
       "       0.79853768, 0.12273567, 0.25599824, 0.40717055, 0.89511568,\n",
       "       0.25691353, 0.69878438, 0.65583654, 0.63576075, 0.62503437,\n",
       "       0.30427869, 0.7425191 , 0.86433774, 0.15645581, 0.63676824,\n",
       "       0.36514816, 0.34752217, 0.01247781, 0.3489608 , 0.59513984,\n",
       "       0.61648091, 0.24966458, 0.23570815, 0.32536511, 0.0407741 ,\n",
       "       0.45368101, 0.1236673 , 0.67298027, 0.12904412, 0.52213279,\n",
       "       0.98912576, 0.01845408, 0.1976067 , 0.01888776, 0.59980959,\n",
       "       0.5772454 , 0.84217367, 0.04977527, 0.46035023, 0.80852614,\n",
       "       0.89489959, 0.05409475, 0.91036685, 0.62857761, 0.83720037,\n",
       "       0.65294954, 0.39113994, 0.43659249, 0.10663666, 0.29364426,\n",
       "       0.98014329, 0.75640174, 0.38341873, 0.02914034, 0.3566601 ,\n",
       "       0.24400403, 0.60633136, 0.99007277, 0.25595624, 0.63075417,\n",
       "       0.681155  , 0.42842544, 0.35944711, 0.65943581, 0.11125891,\n",
       "       0.77419949, 0.74152703, 0.65040985, 0.20161594, 0.342712  ,\n",
       "       0.23401526, 0.22918796, 0.83384455, 0.76933574, 0.67825753,\n",
       "       0.27301834, 0.44828817, 0.10297254, 0.34334606, 0.99456101])"
      ]
     },
     "execution_count": 32,
     "metadata": {},
     "output_type": "execute_result"
    }
   ],
   "source": [
    "# Array aleatorio relleno de floats entre ceros y unos\n",
    "array_aleatorio = np.random.rand(100)\n",
    "array_aleatorio"
   ]
  },
  {
   "cell_type": "code",
   "execution_count": 33,
   "metadata": {},
   "outputs": [
    {
     "data": {
      "text/plain": [
       "array([[0.91196183, 0.22985724],\n",
       "       [0.68777482, 0.66504032],\n",
       "       [0.12822361, 0.49263261],\n",
       "       [0.44557139, 0.50470394],\n",
       "       [0.25336683, 0.74571969],\n",
       "       [0.8793878 , 0.03773779],\n",
       "       [0.61326575, 0.16494707],\n",
       "       [0.32756765, 0.03556412],\n",
       "       [0.77481451, 0.15940965],\n",
       "       [0.29285869, 0.52402636]])"
      ]
     },
     "execution_count": 33,
     "metadata": {},
     "output_type": "execute_result"
    }
   ],
   "source": [
    "matriz_aleatoria = np.random.rand(10,2) # Matriz 10x2: 10 filas y 2 columnas\n",
    "matriz_aleatoria"
   ]
  },
  {
   "cell_type": "code",
   "execution_count": 34,
   "metadata": {},
   "outputs": [
    {
     "data": {
      "text/plain": [
       "(10, 2)"
      ]
     },
     "execution_count": 34,
     "metadata": {},
     "output_type": "execute_result"
    }
   ],
   "source": [
    "matriz_aleatoria.shape"
   ]
  },
  {
   "cell_type": "code",
   "execution_count": 35,
   "metadata": {},
   "outputs": [
    {
     "data": {
      "text/plain": [
       "array([[0.22618624, 0.65434984, 0.29754246, 0.93490722, 0.07719094,\n",
       "        0.15144537, 0.64343897, 0.25710677, 0.97716053, 0.45126419],\n",
       "       [0.01656778, 0.30868863, 0.37894966, 0.73084004, 0.58300147,\n",
       "        0.67552823, 0.30293432, 0.18839085, 0.04724687, 0.35953092]])"
      ]
     },
     "execution_count": 35,
     "metadata": {},
     "output_type": "execute_result"
    }
   ],
   "source": [
    "matriz_aleatoria2 = np.random.rand(2,10) # Matriz 2x10: 2 filas y 10 columnas\n",
    "matriz_aleatoria2"
   ]
  },
  {
   "cell_type": "code",
   "execution_count": 36,
   "metadata": {},
   "outputs": [
    {
     "data": {
      "text/plain": [
       "array([[22.61862401, 65.43498422, 29.75424564, 93.49072178,  7.71909401,\n",
       "        15.14453708, 64.34389749, 25.71067735, 97.71605325, 45.12641919],\n",
       "       [ 1.65677807, 30.86886281, 37.89496637, 73.08400395, 58.30014676,\n",
       "        67.55282313, 30.29343226, 18.8390853 ,  4.72468734, 35.95309246]])"
      ]
     },
     "execution_count": 36,
     "metadata": {},
     "output_type": "execute_result"
    }
   ],
   "source": [
    "# Si quiero rellenarlo de numeros entre 0 y 100 multiplico mi matriz por 100\n",
    "matriz_aleatoria2 = matriz_aleatoria2 * 100\n",
    "matriz_aleatoria2"
   ]
  },
  {
   "cell_type": "code",
   "execution_count": 37,
   "metadata": {},
   "outputs": [
    {
     "data": {
      "text/plain": [
       "array([[False,  True, False,  True, False, False,  True, False,  True,\n",
       "        False],\n",
       "       [False, False, False,  True,  True,  True, False, False, False,\n",
       "        False]])"
      ]
     },
     "execution_count": 37,
     "metadata": {},
     "output_type": "execute_result"
    }
   ],
   "source": [
    "# Quiero saber que valores son mayores a 50 en mi array (Mascaras)\n",
    "matriz_aleatoria2 > 50"
   ]
  },
  {
   "cell_type": "code",
   "execution_count": 38,
   "metadata": {},
   "outputs": [
    {
     "data": {
      "text/plain": [
       "array([65.43498422, 93.49072178, 64.34389749, 97.71605325, 73.08400395,\n",
       "       58.30014676, 67.55282313])"
      ]
     },
     "execution_count": 38,
     "metadata": {},
     "output_type": "execute_result"
    }
   ],
   "source": [
    "matriz_aleatoria2[matriz_aleatoria2 > 50] # Uso la máscara para filtrar. Será clave en Pandas para trabajar con DataFrames! "
   ]
  },
  {
   "cell_type": "markdown",
   "metadata": {},
   "source": [
    "**Aqui podemos comenzar a ver la efectividad y el consumo de recursos optimizado en numpy. Con una lista esto lo tendriamos que haber verificado recorriendo 1 a 1 los valores en un ciclo y creando una nueva lista que contenga los valores.**"
   ]
  },
  {
   "cell_type": "code",
   "execution_count": 39,
   "metadata": {},
   "outputs": [],
   "source": [
    "lista = [28.42977146, 55.9853604 ,  4.15931689,  6.11119903, 59.20436593,\n",
    "        71.30530611, 17.12506507, 19.70496054, 34.1857518 , 33.37139652]"
   ]
  },
  {
   "cell_type": "code",
   "execution_count": 40,
   "metadata": {},
   "outputs": [
    {
     "ename": "TypeError",
     "evalue": "'>' not supported between instances of 'list' and 'int'",
     "output_type": "error",
     "traceback": [
      "\u001b[0;31m---------------------------------------------------------------------------\u001b[0m",
      "\u001b[0;31mTypeError\u001b[0m                                 Traceback (most recent call last)",
      "Cell \u001b[0;32mIn[40], line 1\u001b[0m\n\u001b[0;32m----> 1\u001b[0m \u001b[43mlista\u001b[49m\u001b[43m \u001b[49m\u001b[38;5;241;43m>\u001b[39;49m\u001b[43m \u001b[49m\u001b[38;5;241;43m50\u001b[39;49m\n",
      "\u001b[0;31mTypeError\u001b[0m: '>' not supported between instances of 'list' and 'int'"
     ]
    }
   ],
   "source": [
    "lista > 50"
   ]
  },
  {
   "cell_type": "code",
   "execution_count": null,
   "metadata": {},
   "outputs": [
    {
     "data": {
      "text/plain": [
       "[28.42977146,\n",
       " 55.9853604,\n",
       " 4.15931689,\n",
       " 6.11119903,\n",
       " 59.20436593,\n",
       " 71.30530611,\n",
       " 17.12506507,\n",
       " 19.70496054,\n",
       " 34.1857518,\n",
       " 33.37139652]"
      ]
     },
     "execution_count": 47,
     "metadata": {},
     "output_type": "execute_result"
    }
   ],
   "source": [
    "lista"
   ]
  },
  {
   "cell_type": "code",
   "execution_count": 41,
   "metadata": {},
   "outputs": [
    {
     "data": {
      "text/plain": [
       "[False, True, False, False, True, True, False, False, False, False]"
      ]
     },
     "execution_count": 41,
     "metadata": {},
     "output_type": "execute_result"
    }
   ],
   "source": [
    "boolean_list = []\n",
    "for numero in lista:\n",
    "    if numero > 50:\n",
    "        boolean_list.append(True)\n",
    "    else:\n",
    "        boolean_list.append(False)\n",
    "boolean_list"
   ]
  },
  {
   "cell_type": "code",
   "execution_count": null,
   "metadata": {},
   "outputs": [
    {
     "data": {
      "text/plain": [
       "array([[[0.8410118 , 0.97247134, 0.36163605],\n",
       "        [0.37158435, 0.98336949, 0.93363004],\n",
       "        [0.83074385, 0.1162108 , 0.04192542]],\n",
       "\n",
       "       [[0.75258593, 0.58527701, 0.35259544],\n",
       "        [0.56198904, 0.3831254 , 0.31049587],\n",
       "        [0.48413335, 0.84387341, 0.57318279]],\n",
       "\n",
       "       [[0.11117456, 0.52436694, 0.76565245],\n",
       "        [0.94809957, 0.34127063, 0.61519737],\n",
       "        [0.4322454 , 0.08678264, 0.9307859 ]]])"
      ]
     },
     "execution_count": 37,
     "metadata": {},
     "output_type": "execute_result"
    }
   ],
   "source": [
    "tensor_aleatorio = np.random.rand(3,3,3)\n",
    "tensor_aleatorio"
   ]
  },
  {
   "cell_type": "code",
   "execution_count": null,
   "metadata": {},
   "outputs": [
    {
     "data": {
      "text/plain": [
       "array([ 5.79961726e-01,  7.08597759e-03,  1.02196175e+00, -6.35443355e-01,\n",
       "       -1.20841390e+00,  3.05705369e-01,  1.25530229e-01, -1.11816199e+00,\n",
       "       -2.01853913e+00, -1.11973021e+00, -1.32130522e-01, -2.45517336e-01,\n",
       "       -2.72275984e-01,  6.81142644e-02,  2.13317361e+00, -5.78223089e-01,\n",
       "       -6.86344892e-01,  4.03368944e-01,  1.96918512e+00,  1.16213665e+00,\n",
       "       -5.75219642e-01, -2.51365976e+00,  1.00339783e+00,  2.12802817e-01,\n",
       "       -9.89830724e-01,  9.08017182e-01, -7.03962525e-01, -1.66427553e+00,\n",
       "        3.21908566e-01,  4.03002134e-01,  1.02241384e+00,  9.55779955e-01,\n",
       "        2.81766772e-01,  2.31712608e+00,  7.41631546e-01,  7.34330595e-01,\n",
       "       -5.29286183e-02,  2.01648061e-01, -1.48523255e+00, -5.04501660e-01,\n",
       "        7.60440741e-01,  1.10222896e+00,  6.95707543e-02, -3.01870287e-01,\n",
       "       -5.52986119e-01,  1.59566777e+00, -4.07285608e-01,  1.65480591e+00,\n",
       "        1.11708263e+00, -4.84725094e-01,  3.43062981e-01,  1.45180316e+00,\n",
       "       -3.01717770e-03, -2.60116274e+00,  1.57231897e+00,  1.14894018e+00,\n",
       "        1.21854865e+00,  4.09323709e-01, -5.60842099e-01,  5.15654171e-01,\n",
       "        3.38191529e-01, -9.81513683e-01, -4.64039087e-01,  5.42876970e-01,\n",
       "        9.72781424e-01,  9.58977919e-01,  1.24997321e+00,  3.34347249e-01,\n",
       "        2.19914738e+00,  7.80723925e-01, -5.31557984e-01,  2.21193564e+00,\n",
       "        1.78897801e+00, -2.59928813e-01,  1.78579693e+00,  7.69234612e-01,\n",
       "        4.34043541e-01,  6.68266570e-01, -1.59023052e+00, -9.84429126e-01,\n",
       "       -8.53108474e-01, -2.20167408e+00, -5.70462290e-01,  1.09789251e-01,\n",
       "       -9.38806261e-01,  1.00521844e+00,  5.81733167e-01, -1.69856739e-02,\n",
       "        5.70319953e-01, -4.16068108e-01, -2.64496544e-01,  1.10468714e+00,\n",
       "        1.50338746e+00,  8.37408480e-01,  5.31175731e-01, -1.91771853e-01,\n",
       "        1.41820554e+00, -9.92732693e-02,  1.30730083e+00, -3.32897795e-02,\n",
       "       -5.38516395e-01, -6.67382488e-02,  1.00520723e+00,  8.40259847e-01,\n",
       "        7.35449839e-01, -5.26215255e-01, -6.09745774e-01, -3.33166747e-01,\n",
       "       -3.84266616e-01, -4.54697436e-01, -1.20471561e+00,  2.09204524e+00,\n",
       "        1.21727802e+00, -3.50540084e-01, -3.43236066e-01, -5.95746127e-02,\n",
       "       -8.17393800e-02, -8.21885641e-01, -4.48169823e-01,  1.02962348e+00,\n",
       "       -4.78842781e-02,  7.99579765e-02,  5.46502847e-01, -7.97098366e-01,\n",
       "        4.95591300e-01, -4.50685520e-01,  2.79734476e-01, -2.87103027e+00,\n",
       "       -1.80369716e+00,  6.40048164e-01,  2.23844726e-01, -7.67922323e-01,\n",
       "        1.94069159e-02,  1.14301509e+00,  3.65838844e-01, -5.19747746e-02,\n",
       "       -3.31199031e-01, -9.89758223e-03, -1.29637996e+00, -1.57915035e+00,\n",
       "       -1.94076026e+00,  1.92041550e+00,  6.69563260e-01,  2.30859622e-02,\n",
       "       -9.31776831e-01,  5.03168714e-01, -9.11375403e-01, -1.60444014e-01,\n",
       "       -1.68064064e+00,  1.09252800e+00, -5.87086825e-01,  8.86516978e-02,\n",
       "        1.32289986e+00, -8.29248866e-01,  4.81018772e-01,  7.32348048e-01,\n",
       "        1.19156288e+00, -2.52634899e+00, -1.20612739e+00, -6.64042734e-01,\n",
       "       -8.06649060e-01, -3.88035641e-01,  1.56643598e+00,  6.25477720e-01,\n",
       "       -4.43773644e-01, -7.41322272e-01, -1.81263870e+00,  6.03418544e-01,\n",
       "        9.18751619e-02, -2.34731609e+00, -4.01139784e-02,  6.62458665e-01,\n",
       "        1.96462801e+00,  1.00521805e+00,  6.97159633e-01,  1.59752571e-01,\n",
       "        8.25485251e-03,  2.68244362e-01,  2.33100127e+00,  3.09303885e-01,\n",
       "        3.97598309e-02,  3.73007726e-01, -1.40459168e+00,  3.45794272e-01,\n",
       "        2.81958709e+00, -2.03346601e+00,  1.75967020e+00,  1.63643076e-01,\n",
       "        1.94624083e+00, -1.91826094e+00, -8.81202341e-01,  1.57082043e+00,\n",
       "       -1.11367719e+00,  1.85793870e+00, -1.74327244e+00, -4.53169664e-01,\n",
       "       -1.05682333e+00, -2.02977717e+00, -1.11922456e+00,  5.64438836e-02,\n",
       "        1.10518772e+00,  5.32308427e-01, -1.37954868e-01,  7.66623385e-01,\n",
       "        4.22277856e-01, -5.40748758e-01, -6.87048950e-01, -2.76138682e-01,\n",
       "        2.41651018e-01, -1.24898211e+00,  2.21346875e-01, -4.06771840e-01,\n",
       "        1.28807087e+00, -3.71768150e-01, -1.78566916e-01,  1.11445759e+00,\n",
       "       -7.51756142e-02, -2.18254215e+00, -7.99842274e-01, -1.42049139e+00,\n",
       "       -1.09954171e+00,  6.22690574e-01, -8.02254687e-02,  1.65901937e+00,\n",
       "        7.05959797e-01, -6.75801697e-02,  5.12500024e-01,  7.57192553e-02,\n",
       "        1.49379723e+00,  3.40862238e-01,  1.83307679e-01,  7.22458574e-01,\n",
       "        6.08024719e-01, -2.43476235e-01,  1.17650604e+00,  2.10582854e+00,\n",
       "       -1.55267020e-01,  1.12350877e+00, -1.60713251e+00,  1.49294463e-02,\n",
       "        1.22882388e+00, -2.99211050e-01, -5.03571861e-01, -2.29726868e+00,\n",
       "       -4.56115826e-01,  9.10404356e-01, -1.52456030e-01,  5.40575855e-01,\n",
       "       -1.50338545e+00, -3.59906917e-01, -5.91443513e-02,  6.13669680e-01,\n",
       "       -4.20088061e-01,  4.05557141e-01,  1.80422116e+00, -1.97077095e-02,\n",
       "        1.06929434e+00,  9.69017453e-01, -5.66594681e-01, -1.23992171e+00,\n",
       "       -5.76471659e-02, -1.93143526e+00,  8.75528684e-01, -5.48330250e-01,\n",
       "       -7.54967288e-01, -5.08548583e-01, -6.94246142e-01,  3.70361978e-02,\n",
       "        3.85799977e-01,  9.15881138e-01,  7.52561321e-01, -8.27956344e-01,\n",
       "        3.91466740e-01, -3.88783942e-02,  2.46750069e+00,  1.60454027e+00,\n",
       "        4.69178912e-01,  1.80936866e+00, -7.73122830e-01, -1.49869702e+00,\n",
       "       -1.40535537e+00,  1.11186487e+00,  5.01325616e-01, -9.07783068e-01,\n",
       "        2.22468254e-01, -4.99377335e-01, -1.07245828e+00, -1.67082834e-01,\n",
       "       -2.95549543e-01, -2.98289202e-01, -1.25129331e+00,  1.29188098e-01,\n",
       "       -2.40118859e+00, -2.58395443e+00,  4.08326256e-01,  8.62589647e-01,\n",
       "        7.41419885e-01,  1.07447205e+00,  5.65705887e-01,  8.53870468e-01,\n",
       "        1.73120313e+00, -7.47432495e-01,  8.53813161e-01, -2.84893752e-01,\n",
       "        5.22845314e-01,  1.80628612e+00,  1.26924644e+00,  5.70022708e-02,\n",
       "       -5.22563272e-01, -8.01093378e-01,  3.59806839e-01, -1.07516767e+00,\n",
       "       -1.05725044e+00,  2.89122877e-01, -1.50475744e-01,  6.17527569e-01,\n",
       "       -1.42076262e+00, -3.27553872e-01, -1.07168852e-01,  2.72534452e-01,\n",
       "       -9.44221089e-01,  9.87609833e-01, -1.44650738e+00,  3.84323313e-01,\n",
       "        1.37791979e+00,  8.12257442e-01, -7.51244325e-01,  9.52555944e-01,\n",
       "       -9.21439563e-01, -6.83982260e-01,  1.09057683e-01,  7.65010272e-01,\n",
       "       -1.00432983e+00, -6.41734861e-01,  1.85709197e+00, -1.39305567e+00,\n",
       "       -1.52953039e+00, -1.13540987e+00,  8.74745817e-02,  5.68655975e-01,\n",
       "        7.05724167e-01, -9.97327179e-01,  2.19501966e+00, -4.43778817e-01,\n",
       "        1.52402421e+00,  1.89358602e-01,  3.24915853e-01, -5.33945685e-02,\n",
       "       -6.09732509e-02,  3.96098690e-01,  2.96491057e-01,  1.43144470e-01,\n",
       "       -1.43327063e+00,  3.02191823e-01, -4.84986525e-01, -1.69980801e+00,\n",
       "       -1.56740677e+00, -1.38693760e-01, -3.59561052e-01, -5.25282916e-01,\n",
       "        5.85437885e-01, -2.05991842e+00,  2.54362663e+00, -1.46931143e-01,\n",
       "        1.58214853e+00,  2.30657145e-01,  3.33856385e-01, -1.85069236e-01,\n",
       "        4.87313965e-01,  1.25352751e+00, -5.78550728e-01, -1.93221845e-01,\n",
       "        3.66005358e-01, -1.00203656e+00, -1.74304660e+00,  1.64375523e+00,\n",
       "        2.95270319e-01, -8.09592224e-01,  5.23009851e-01, -5.71610527e-02,\n",
       "       -5.52814878e-01,  8.30962798e-01,  5.14904555e-01, -1.31931096e-01,\n",
       "        1.59575653e+00,  1.03111845e-01,  1.87843962e-01, -1.29858779e+00,\n",
       "        1.41862010e+00, -5.74764712e-02, -2.89823389e+00,  3.55400522e-01,\n",
       "       -6.14043838e-03, -1.81025903e+00, -1.61162289e+00,  7.75314857e-01,\n",
       "       -1.37384174e+00, -7.80997813e-01, -6.76734642e-01,  1.83692088e+00,\n",
       "        5.58106834e-01,  1.45832093e-01, -2.02532195e+00,  6.34435320e-01,\n",
       "       -1.84102656e+00,  1.44324070e-01,  8.81957817e-01,  1.09032091e-01,\n",
       "        1.07050205e+00,  5.33558307e-01, -7.55004971e-01,  3.96131923e-01,\n",
       "        5.79958648e-01,  8.70568057e-02,  1.72185675e+00, -1.82707911e+00,\n",
       "       -4.23728584e-01,  1.13329042e+00,  1.24161212e+00,  4.64534565e-01,\n",
       "       -1.54277045e-01, -8.32994315e-01,  1.97474674e+00,  2.77645323e-01,\n",
       "       -5.98702198e-01, -5.59940334e-01,  1.66065098e-01, -1.08694350e+00,\n",
       "        3.20621721e-01, -7.82251323e-01,  1.79653066e+00, -3.95574872e-03,\n",
       "        1.02497965e+00, -1.66531947e+00, -2.99594678e-01,  7.56497381e-02,\n",
       "       -7.51115064e-01, -1.24335431e+00,  1.31436639e-01,  8.76906917e-01,\n",
       "        1.93915169e+00,  2.05417799e+00,  1.92946791e+00,  2.29091769e-01,\n",
       "       -1.81380346e+00,  2.02252768e+00, -2.46614320e-02,  1.20911058e+00,\n",
       "       -3.81683818e-01,  4.78537042e-01, -9.90209411e-01, -2.47050119e-01,\n",
       "        2.25171616e-01,  1.20756302e-01, -3.21859598e-01,  1.65460104e+00,\n",
       "       -3.40865155e-01, -8.63199786e-01,  2.72155625e+00,  6.55058495e-01,\n",
       "        1.12767626e+00, -9.75945440e-01,  7.75952313e-01,  3.54093220e-01,\n",
       "        7.80819532e-01,  9.84122314e-01,  8.66009687e-01, -2.05546313e+00,\n",
       "       -4.16496396e-01,  4.52409729e-01, -6.09873914e-01, -5.40947869e-01,\n",
       "       -6.03364431e-01, -1.19383195e-01, -7.96014327e-01, -4.91982676e-01,\n",
       "       -1.19778330e-01, -7.39208754e-01, -2.07157501e-01,  4.04816837e-01,\n",
       "        5.95879154e-01, -8.35975198e-01,  1.68198189e+00,  2.15169868e+00,\n",
       "        2.95921748e-01, -1.36111830e+00, -7.64932500e-01,  4.69257414e-02,\n",
       "       -1.89065730e-01, -1.38629536e+00, -6.66067590e-01,  4.65513542e-01,\n",
       "       -2.83006518e-02,  2.57640360e-01,  3.02465189e-01,  3.77096403e-01,\n",
       "        5.69225845e-02, -1.23386041e-01, -6.69901362e-01, -6.92575543e-01,\n",
       "       -9.92387297e-01,  1.22810443e+00,  7.39326811e-01, -4.64728890e-01,\n",
       "        8.44164164e-01,  2.97712728e-01, -9.90573249e-01, -1.03947491e+00,\n",
       "        1.17058314e+00, -1.58796171e-02,  4.78522170e-01, -4.40784708e-01,\n",
       "       -3.35275329e-01,  1.51660904e-01, -8.93053447e-01, -1.00440865e+00,\n",
       "        3.60969929e-01, -1.68105135e+00,  4.73928805e-01,  2.34741302e+00,\n",
       "        4.43437948e-01,  7.95031698e-01,  9.92302147e-01, -1.60938111e+00,\n",
       "        1.52935307e-01,  1.74505632e+00, -5.00492845e-01, -1.50658280e+00,\n",
       "       -1.02018638e+00,  6.84428513e-01,  3.02407439e-01, -7.18798180e-01,\n",
       "        1.14899373e+00,  2.34280468e-01,  9.29620124e-01,  2.24404762e-01,\n",
       "        3.62285237e-01, -2.11971610e-01, -1.15896032e+00,  6.15438921e-02,\n",
       "       -2.46928265e-01,  8.96740955e-01, -7.49340265e-01, -7.51350461e-01,\n",
       "        4.78926183e-02, -5.55973001e-01,  2.00820470e-01, -6.94586694e-01,\n",
       "       -7.84252999e-01, -4.93850283e-01, -3.05511791e-01, -1.59913217e+00,\n",
       "        5.60422097e-02, -1.68911142e+00,  7.44099149e-01,  1.96837852e+00,\n",
       "        1.05412683e+00, -4.55978940e-01,  8.21378359e-01, -9.44547129e-01,\n",
       "        1.35913097e+00,  4.82432976e-01,  6.20348680e-01,  2.11150225e-01,\n",
       "       -5.95387982e-01,  1.31158843e-02,  1.21171447e-02, -5.61056462e-01,\n",
       "       -1.41615741e+00, -1.03644004e+00, -1.88435635e+00,  2.08852169e-01,\n",
       "        2.93634896e-01,  4.84128708e-01,  9.84130967e-01,  5.58280507e-01,\n",
       "        4.33698214e-01,  6.66347714e-01,  1.33364640e-01,  1.33483226e+00,\n",
       "       -1.19840029e+00, -1.96020633e+00,  3.56955490e-01, -6.92365662e-01,\n",
       "        1.58056331e+00,  1.22533446e+00,  1.04839986e+00,  1.25364260e-01,\n",
       "       -7.38738382e-01,  3.43390637e-01, -2.11547032e+00,  9.81166563e-01,\n",
       "        6.12939135e-01, -1.83080686e+00, -7.24519502e-01, -1.67215367e-01,\n",
       "       -5.90014153e-01,  6.19451720e-01, -1.36139552e+00, -1.49979514e-01,\n",
       "       -9.17276223e-01,  3.01064574e-01, -2.49635019e-01, -8.04976032e-01,\n",
       "        6.51933919e-01, -1.61357842e-01,  1.90514153e+00, -5.61515757e-02,\n",
       "        9.78809818e-01, -2.78150523e-01, -2.91311831e-01,  1.98169727e+00,\n",
       "       -6.62785230e-03,  8.01804224e-02,  1.40026032e-01,  1.34424609e+00,\n",
       "        1.22334603e+00,  8.15080848e-01,  2.35237934e+00,  3.61830379e-02,\n",
       "       -1.23000285e+00,  1.21056896e+00,  8.62308879e-01,  1.21016347e+00,\n",
       "       -9.18890298e-01,  2.15326872e-01,  1.81958727e+00,  1.12391943e+00,\n",
       "       -2.50726809e-01, -8.34365579e-01,  2.08787499e-01, -6.83501163e-01,\n",
       "        1.15475628e+00, -2.71554314e+00, -1.00147517e+00, -1.09336327e+00,\n",
       "       -1.93140113e+00, -1.19450153e+00,  9.38234269e-01, -1.07758136e+00,\n",
       "       -3.68764260e-01,  5.51842717e-02, -1.30945818e-02, -9.11238519e-03,\n",
       "       -8.41343742e-01, -7.79103153e-01,  1.39166015e-01, -1.13625947e-02,\n",
       "        1.09601834e+00,  1.02386624e+00, -2.52689976e-03,  1.45739060e-01,\n",
       "        2.83392238e-02,  2.36016693e-01, -4.23661672e-01, -2.10185514e+00,\n",
       "       -7.47723291e-01, -6.36118591e-01,  9.25899566e-01,  3.86513238e-01,\n",
       "        1.26007066e+00,  2.42151981e-01, -9.28815663e-01, -8.57458698e-01,\n",
       "       -2.16814665e-01, -3.84120116e-01,  2.34793124e+00, -4.08722326e-01,\n",
       "       -7.83187649e-01, -2.72479411e-01, -2.51707185e-01, -1.38676011e+00,\n",
       "        1.27719963e-01,  2.53120723e-02,  6.17782544e-01,  9.77041723e-03,\n",
       "       -1.40791784e-01, -1.31680308e+00, -6.81996047e-01, -1.68901055e+00,\n",
       "       -1.06040811e+00,  3.57299774e-01,  6.01401239e-01,  8.48063384e-01,\n",
       "       -2.68326465e-01,  4.08730654e-01,  1.00348900e+00, -5.45336674e-01,\n",
       "        1.43753820e+00, -7.57363949e-02, -5.83298305e-01, -2.52947286e+00,\n",
       "       -4.18145586e-02,  1.10083024e+00,  1.03236865e+00,  4.87165200e-01,\n",
       "        4.71752349e-01,  7.40486078e-01, -3.04860990e+00, -3.83561425e-01,\n",
       "        7.76368001e-01,  1.29786121e+00, -7.29362894e-01, -5.08573682e-02,\n",
       "       -1.78777753e+00, -2.14994929e-01,  5.12927661e-01, -9.05352908e-01,\n",
       "        6.22849525e-01,  1.83530109e-01,  2.48734899e-01, -9.75219663e-01,\n",
       "        1.95923676e+00, -1.02271329e+00, -4.47477483e-01, -9.40960975e-01,\n",
       "       -8.34245594e-01,  2.40202894e-01, -5.60307919e-01,  6.56426638e-02,\n",
       "       -4.73524023e-01, -9.19243937e-01,  1.34433107e+00, -1.87340967e+00,\n",
       "        1.16756216e+00, -1.24056091e-01,  8.94631195e-01, -2.69636941e-01,\n",
       "        3.39477558e+00, -2.61130355e-01,  1.36058030e+00, -1.74057377e-02,\n",
       "        2.01803723e+00,  1.72988794e+00, -4.80132980e-01,  1.94482233e-01,\n",
       "       -2.14961938e-01, -2.19790486e+00,  1.58647849e+00, -1.73189523e+00,\n",
       "       -1.26508320e+00,  8.31930001e-03,  1.47562939e-01,  6.67126161e-01,\n",
       "       -7.28934313e-01,  9.31031389e-01,  8.24822090e-02, -2.14984348e-01,\n",
       "       -3.50980154e-01, -1.07880090e+00, -1.01281472e+00,  1.04060411e+00,\n",
       "        5.21416213e-01,  3.00650085e-01, -8.98663682e-01, -1.30604136e-01,\n",
       "        1.04608196e-02, -1.95839190e-01, -3.63126146e-01, -8.93844690e-01,\n",
       "        3.30787896e-01,  3.87353984e-01, -3.50952248e-01,  1.46876573e+00,\n",
       "        9.75405553e-01, -1.80887376e+00, -3.20690111e-01,  9.60003936e-01,\n",
       "       -4.12407195e-01, -2.32379562e+00,  1.21176568e-01, -4.37960836e-01,\n",
       "        2.10884411e+00,  5.44018381e-01, -1.37244883e-01,  9.84930846e-01,\n",
       "       -9.83836424e-01,  3.72523635e-01,  6.86679417e-01,  1.16642730e+00,\n",
       "       -8.79913025e-01,  1.05958138e+00,  5.75242069e-01,  7.42533463e-01,\n",
       "        8.99858130e-01,  8.84837918e-01, -7.05597601e-01, -9.05054083e-01,\n",
       "        3.07037581e-01, -3.58026080e-01,  1.44909616e+00,  9.34970464e-01,\n",
       "       -8.65200254e-03, -1.15234839e+00, -8.78121886e-01, -7.89164957e-01,\n",
       "        9.88185035e-01, -2.56586399e-01,  5.79363386e-01, -1.31110906e+00,\n",
       "        1.48840997e+00,  5.38319081e-01, -3.65036090e-01, -6.47618808e-01,\n",
       "       -7.94816539e-02, -5.71435258e-01,  1.07192705e-01, -1.26783696e-01,\n",
       "       -4.20732406e-01, -2.84502621e-01, -7.15254060e-01,  9.72848926e-01,\n",
       "       -9.24479675e-01,  2.79297905e-01,  4.19205837e-01,  2.01536359e-01,\n",
       "        1.53252200e+00,  1.51702599e+00, -2.23811637e-01, -1.51873794e+00,\n",
       "        8.57766332e-01, -7.44743685e-01,  2.05193546e-01, -1.41805050e+00,\n",
       "       -1.22875112e+00, -1.09756602e+00,  1.35557675e-01, -3.29549948e-01,\n",
       "        1.25119490e+00, -6.56957773e-01, -7.14936199e-01, -8.80322166e-01,\n",
       "        9.77597632e-01,  2.72712243e-01,  7.37073836e-01,  6.28221865e-01,\n",
       "       -9.95415015e-01,  7.82312803e-02,  2.18827689e+00, -1.56086095e+00,\n",
       "        7.34510791e-01,  1.71419934e+00, -1.82473954e-01, -4.26469803e-01,\n",
       "       -1.53967881e+00, -5.27253842e-01, -4.00043604e-01, -2.50659813e-01,\n",
       "        3.64421499e-01, -7.69966379e-01, -5.80788065e-01, -1.67210832e+00,\n",
       "        7.77721874e-01,  8.08343062e-01,  3.35353833e-01, -1.77851092e+00,\n",
       "       -2.76952028e-01, -7.26725154e-01,  9.89064886e-01,  9.92098076e-01,\n",
       "        4.61368737e-01, -1.89179323e-01,  1.92156170e-01,  6.33395448e-01,\n",
       "       -2.02167982e-01,  4.90872973e-01, -3.27903952e-01, -1.57097850e-01,\n",
       "       -4.97920832e-01, -1.55669385e+00,  1.29151047e+00,  9.09026279e-01,\n",
       "        1.27468733e+00,  3.30717899e-01,  4.37537763e-01,  3.52118372e+00,\n",
       "        7.91596355e-01, -3.19594726e-01, -1.40705142e+00, -1.19881386e+00,\n",
       "        8.52054628e-02, -8.93177437e-01,  2.40883776e-02, -1.33732098e+00,\n",
       "       -9.07055556e-01, -5.44965200e-01, -1.75262847e+00,  1.07013784e+00,\n",
       "       -9.06969011e-01,  3.30771874e-01,  1.09667613e+00,  2.69133966e-01,\n",
       "        2.38408768e-03,  7.26292548e-01, -5.98297607e-01, -1.25149888e+00,\n",
       "       -1.75730533e+00, -2.52583757e-01,  1.67521262e+00, -1.54894495e+00,\n",
       "       -1.25090623e+00, -2.15334237e-01,  1.26563081e-01,  7.31233044e-01,\n",
       "       -9.89078751e-01,  8.20395866e-01, -1.48777802e+00, -1.36968169e+00,\n",
       "        8.33064252e-02,  2.60124257e-01,  3.79514669e-01, -8.20828085e-01,\n",
       "       -4.30238715e-01, -1.46532739e+00,  2.74447403e-01, -1.37965590e-01,\n",
       "        1.61838483e-01, -2.65778561e-01,  5.39767086e-03,  3.06621784e-01,\n",
       "       -5.32897598e-01, -2.93671261e-02, -5.00378799e-01,  9.20932174e-01,\n",
       "       -5.09206483e-01,  4.84025175e-01, -1.36778686e-02, -1.69273246e+00,\n",
       "       -8.63051042e-01,  1.58279847e-01, -1.96156284e+00, -5.61540401e-01,\n",
       "       -4.35858911e-01,  1.10571961e+00, -7.26879051e-01,  5.85389664e-01,\n",
       "       -1.73297265e-01,  3.16301076e+00, -1.09065875e-01, -1.78768422e+00,\n",
       "       -1.16332260e+00, -6.95435357e-01, -3.14098216e+00, -1.12368710e+00,\n",
       "        9.31177772e-01, -1.14352029e+00, -1.24071593e+00,  2.56994297e-01,\n",
       "        1.19700210e+00,  1.95753477e+00,  1.23968172e+00,  1.87808147e+00,\n",
       "       -5.51013725e-01, -2.74907205e-01, -9.75535020e-01, -1.31154933e-02,\n",
       "       -9.85816614e-01,  1.87124066e+00, -1.16521202e+00, -1.33513548e+00,\n",
       "        1.66301728e-01,  2.94642936e-01,  3.69428569e-01, -8.42613845e-01,\n",
       "        6.27769426e-01, -1.10088982e+00, -2.62369678e-01,  8.80723925e-01,\n",
       "        1.93011740e+00, -3.29362369e-01,  7.94769222e-01, -5.48152597e-02,\n",
       "        4.43190447e-02, -8.90112940e-02,  5.94337931e-01, -1.22424843e+00,\n",
       "        9.09315473e-01, -6.11131933e-02, -6.19848271e-01,  1.00764638e-01,\n",
       "       -4.61723701e-01, -2.02854065e+00, -1.63824885e-02, -7.08310280e-01,\n",
       "        3.05695547e-01,  8.01402084e-01, -1.72218432e+00, -7.03478683e-01,\n",
       "        8.84262462e-01,  8.91093814e-01,  7.08191684e-01, -3.27481256e-01,\n",
       "       -7.35456527e-01, -9.34438395e-01,  4.25058124e-01,  1.42407968e+00,\n",
       "        5.06730367e-01,  7.93154001e-01, -3.83450094e-01, -1.15537814e+00])"
      ]
     },
     "execution_count": 49,
     "metadata": {},
     "output_type": "execute_result"
    }
   ],
   "source": [
    "# np.random.randn(dimensiones) seleccion aleatoria de valores pero que devuelve una distrubución normal o campana de gauss\n",
    "campana = np.random.randn(1000)\n",
    "campana"
   ]
  },
  {
   "cell_type": "code",
   "execution_count": 73,
   "metadata": {},
   "outputs": [],
   "source": [
    "# Ajustar las opciones de impresión de NumPy para evitar la notación científica\n",
    "np.set_printoptions(suppress=True, precision=8)"
   ]
  },
  {
   "cell_type": "code",
   "execution_count": 72,
   "metadata": {},
   "outputs": [
    {
     "data": {
      "text/plain": [
       "array([-0.63743854,  0.43250142,  1.79103499, -0.50128383,  1.55911786,\n",
       "       -0.28379831,  1.94462479,  0.75250138,  0.18936553, -1.39890651,\n",
       "        0.46132149,  0.59501906, -0.72294415, -0.01005826,  1.25635023,\n",
       "        0.37189436,  1.48391889,  0.51802168,  0.21800425,  0.57316267,\n",
       "       -1.00465945,  0.09162573,  0.7191761 , -1.06750477, -1.54392208,\n",
       "        0.98610165, -0.44216935,  0.03478377,  0.22388853, -0.24394521,\n",
       "       -1.6772908 ,  0.10993803,  1.60248904,  0.24864646, -0.91250446,\n",
       "       -1.53341767,  1.92465533,  0.91118843, -0.28399036,  1.09825871,\n",
       "        0.88304207,  0.94698172, -0.18234655,  0.16798806,  0.75780206,\n",
       "       -1.41334675, -0.23651349, -0.80812416, -0.12933457, -0.59977477,\n",
       "        1.32439453,  0.89884387,  0.28398542,  0.53138274,  0.39123974,\n",
       "        1.32373128,  1.48149769, -0.18211387,  0.88370689, -1.00471338,\n",
       "       -1.48867598,  0.01703424,  0.9056486 ,  0.3174629 ,  0.69824741,\n",
       "       -0.5099592 , -0.02311149, -0.60337049, -0.56503216,  2.98739991,\n",
       "        0.9254308 , -1.536981  , -0.5462783 , -0.61782868,  0.03274935,\n",
       "       -1.35800224,  0.69180136,  1.02167143,  1.34365488,  0.82048705,\n",
       "       -0.88939436,  0.8680911 ,  0.12121219,  1.74413606,  1.82195264,\n",
       "       -0.36666538, -0.67166539, -1.69190124, -0.36637016,  0.17566909,\n",
       "        0.94728019, -0.07113112, -0.85976768, -0.60716841, -1.41541332,\n",
       "       -0.42670905, -0.06413891, -0.5700807 , -0.28786692, -0.32562026,\n",
       "        0.77976896,  0.37833569, -0.63125626, -2.34420161,  0.43063633,\n",
       "       -1.27680342, -0.0138041 ,  0.35059005, -1.22578571, -0.2224096 ,\n",
       "       -0.34596931, -0.20442812, -0.33776564, -0.50366748, -1.12689501,\n",
       "       -0.03655676, -0.28747425,  0.43558922, -0.48618946,  0.78280389,\n",
       "        0.50916757,  1.46362087, -0.41396169,  0.56002196,  0.11959102,\n",
       "       -0.82383014, -2.22953174, -0.37447446,  0.0449974 , -1.02438983,\n",
       "       -0.7997684 , -1.6809092 ,  0.97278085, -0.09167774, -0.3538079 ,\n",
       "       -0.74254305,  1.79887474, -0.23070961,  1.07598273, -0.9542295 ,\n",
       "        1.84931005, -1.02417478, -1.44241022,  0.73356438, -1.56473535,\n",
       "        2.14408588, -0.16816185,  0.39928843,  1.61506581,  1.49101307,\n",
       "       -2.26965133, -0.84271312,  0.32748766, -0.80177986, -1.27476761,\n",
       "       -1.21319015, -0.8817812 ,  0.38418677, -1.08845324,  0.28111619,\n",
       "       -0.69104858, -0.15950555, -1.24711399, -2.06903646,  0.31792011,\n",
       "       -0.23469987, -1.78726753,  0.47733126,  0.02198164, -1.62208076,\n",
       "        3.15719223,  1.54259944, -1.67417974, -1.34137804, -1.50580404,\n",
       "       -1.19631636,  0.08497508, -0.95552839, -0.1828069 , -1.26051596,\n",
       "        1.97074319, -1.2164233 , -0.67629267,  0.85624669, -0.48577212,\n",
       "        0.2783934 ,  0.7763936 , -0.32675271,  1.12822695, -1.46453923,\n",
       "       -1.06979917, -0.76657056,  1.32965841, -1.78060021,  2.07969198,\n",
       "        0.72553887,  1.09404365, -2.09904994, -0.12153965, -0.43675187,\n",
       "       -0.30023231,  0.30708407,  1.55095281,  0.04775048, -0.17787832,\n",
       "       -0.60930312,  0.12016453, -0.49312742,  1.70974678, -1.67567588,\n",
       "        1.33378246, -1.56119495,  1.06731263,  0.41310609, -0.14584607,\n",
       "       -0.11437993,  0.51208979, -0.30952604, -0.12054627,  0.00383539,\n",
       "       -1.25626276,  0.85279252,  1.80884492,  2.16223911,  0.12945746,\n",
       "       -0.13980743,  0.78412481, -1.05837689, -2.62181527, -0.23721154,\n",
       "       -1.2089272 ,  0.50791253,  1.34219889,  2.34576827, -0.07655935,\n",
       "       -1.14224769,  0.47426473, -1.05062611,  0.1891898 , -0.70120289,\n",
       "       -0.2720401 , -0.80338667, -0.21786236,  0.8714548 , -0.26171635,\n",
       "        0.50393134,  0.54741771,  0.16163646,  0.81280569,  2.38638713,\n",
       "       -1.52885178, -0.73088382, -0.70922177,  0.46250697,  0.62691997,\n",
       "        2.1047582 , -0.77182984, -2.44164722, -0.19241549,  1.393782  ,\n",
       "        0.4310677 , -0.97315717, -0.98479158,  0.21052554, -0.44364956,\n",
       "        0.27784678,  0.28786897,  1.06362854, -0.60813057,  0.26207869,\n",
       "        1.05750599, -1.72245927, -1.74486669,  0.4733477 ,  2.75173708,\n",
       "        2.19657692, -0.18528646, -0.19295707,  0.59744949,  0.40102568,\n",
       "        0.34338334, -0.49400868, -0.22614576, -0.78788257,  0.21979564,\n",
       "        0.53563407,  0.90076321,  0.59106786,  0.51863096, -1.39163986,\n",
       "       -0.42268767,  0.8961032 , -0.32786429, -2.43846682,  0.51422257,\n",
       "       -0.09730045, -0.95980395,  0.93664198,  0.79693019,  0.08726711,\n",
       "       -1.98869515, -0.45309277,  1.81934103, -0.6850044 , -0.23652662,\n",
       "        1.69205783, -1.28007201,  0.19816032,  0.72168333, -1.69838274,\n",
       "       -2.51793144, -0.23424682,  0.12632304,  0.99681982,  0.10442196,\n",
       "        1.7540295 ,  1.46091988, -2.0626188 ,  0.41170329, -0.2409807 ,\n",
       "        0.82768464, -0.88684427,  0.26006846,  1.97881619,  0.17408621,\n",
       "        0.58895506, -0.33067394,  0.02538138, -0.38532801,  0.42395967,\n",
       "       -0.34589283,  0.58163488, -0.97759527,  0.66680958,  0.86985422,\n",
       "        0.08452844, -0.68768168,  0.76361075,  0.27459618, -0.79748446,\n",
       "       -0.58443792,  0.24070065, -0.13040123,  0.18934961,  1.81934766,\n",
       "       -0.20796352, -1.47732964, -0.46024217,  0.56489636,  2.09062647,\n",
       "       -0.75180443,  0.0045549 , -0.73632305,  1.00402936,  0.01019093,\n",
       "        1.35654466, -1.26492036,  0.80613616,  0.50782683, -1.36133188,\n",
       "        0.28884214, -0.60834843, -0.35643867, -0.69009896,  0.59842121,\n",
       "        0.39817432,  0.32422434,  0.40920735, -0.78376708,  0.52149679,\n",
       "        0.34334585, -0.07428732,  0.66691106,  1.80445629, -1.22121112,\n",
       "        1.26067623,  0.10668478,  1.08402551, -0.97537206, -0.58084976,\n",
       "       -1.58242334,  0.89760139, -0.28312513,  1.41673787,  1.09391538,\n",
       "       -0.77056096, -0.38546806, -0.7971144 , -1.36475763,  0.32604264,\n",
       "       -1.22434016,  0.05016294,  0.55368326,  0.65041423,  1.05321888,\n",
       "       -0.74962909, -0.5571036 ,  0.50672475,  0.01423615, -1.21151608,\n",
       "       -0.57819962,  0.86003386, -0.86736444,  0.72871415,  0.28430996,\n",
       "       -0.17084895,  0.672265  , -0.25859684,  0.56026609, -0.19870359,\n",
       "        0.61347142,  0.37749131, -1.34533699, -0.19024869,  0.38638459,\n",
       "       -0.55245676,  1.14658987, -2.33372625,  0.19070311,  1.1478764 ,\n",
       "        0.12031004,  0.99851512, -0.90675354, -0.02519253,  0.80125654,\n",
       "        0.34691287,  1.69859347,  0.66578426, -0.46630831,  1.28860042,\n",
       "        0.8225497 , -1.07273602, -0.86039332, -1.00475274, -0.3571484 ,\n",
       "       -0.85757194,  0.46313925,  0.74945729,  1.20145366,  0.84420344,\n",
       "       -1.9125637 ,  1.07594403,  0.51102775, -0.04288854, -1.25035434,\n",
       "       -1.13762505,  0.18650365,  0.87745836,  0.04161964, -0.0896063 ,\n",
       "        1.08880964, -0.17400138, -1.93486708,  0.82895637, -1.02504798,\n",
       "        0.05681848, -1.57471109,  0.1687954 ,  0.733305  ,  0.82709069,\n",
       "        1.82327643,  0.14783211,  0.48518093,  0.25377198, -0.23679271,\n",
       "        0.73799384,  0.10918335,  0.64923482, -0.04220792, -1.98296945,\n",
       "       -0.62064466, -2.6082134 , -0.35108167,  1.93845876,  0.29094197,\n",
       "        1.60505962,  0.26246126, -0.35540742,  0.05313409, -0.06757944,\n",
       "        0.55741537,  0.02786314,  0.77401016,  0.35871107,  1.21006847,\n",
       "       -0.27062135, -1.0008106 ,  1.76807736,  0.71482663,  0.13668197,\n",
       "        1.45965951,  0.82090301,  0.25669352,  0.08855285, -1.44992768,\n",
       "        0.52067807, -0.76318655, -0.44913916, -0.12545155, -0.8398042 ,\n",
       "        0.93766978,  0.51024665, -0.10492739,  1.07821837, -0.8317725 ,\n",
       "       -0.75717879,  0.07547617,  0.0099372 , -1.12933547,  0.66273618,\n",
       "        1.51217529,  0.39291273,  1.8640472 , -0.46261593, -0.5802875 ,\n",
       "       -0.89497396,  0.17568871, -2.01855411,  1.58549865, -0.38925215,\n",
       "       -0.36309739,  0.08981362, -0.02572721, -0.35918418, -0.78392403,\n",
       "        1.61327168,  0.04298692, -0.53086497,  0.89971231,  0.74617237,\n",
       "       -0.25568104, -0.46469503, -2.79726766, -0.89060465,  1.23790409,\n",
       "        0.2708242 , -0.74522125, -0.49576146, -0.12976036,  0.39851017,\n",
       "       -0.44842287, -0.59975464,  0.67677303,  0.0660194 , -1.29938791,\n",
       "       -0.20984118,  0.10198943, -1.01508762,  0.62963239, -0.79805795,\n",
       "        0.4281075 ,  3.28645149, -1.0824355 , -1.58287797,  0.75566638,\n",
       "        0.70152157, -0.10615703, -0.37480663, -0.74574247, -1.4507238 ,\n",
       "       -0.78277397,  0.15068839,  0.67477702,  1.48488811,  0.32432437,\n",
       "       -1.46528763,  0.63181906, -0.0611559 , -1.38725777,  1.26489598,\n",
       "        0.36839342, -0.44486259, -0.98730658,  0.44488003, -0.16098284,\n",
       "        0.520775  ,  0.85943144,  0.2144623 , -0.18003383,  1.12253973,\n",
       "       -0.94251696, -0.47128915, -1.47221542,  2.1055784 , -2.22732771,\n",
       "       -1.22303303,  1.26206244,  0.58552143,  0.17889364,  0.52989879,\n",
       "       -0.16400553,  1.48909396,  0.33523628,  0.94692417, -0.23214106,\n",
       "       -1.23809624,  0.29884349,  0.66630402,  1.10460368, -1.04879338,\n",
       "        0.42184263, -1.84028286, -0.06285041, -0.10943726,  0.6993541 ,\n",
       "        0.26192405, -2.16131566,  1.75823203, -0.91815373,  0.93922791,\n",
       "        0.31703384, -0.07758957, -0.41562788, -0.3214356 , -1.58944323,\n",
       "       -0.58565507, -0.65772689, -0.42098924, -0.67894102,  0.99683471,\n",
       "       -1.18783626, -0.1853863 , -0.14575518, -0.28718329, -0.51130142,\n",
       "        1.41578359,  0.905935  ,  0.99666728, -1.31468145, -1.53055843,\n",
       "        0.5133477 , -0.0653516 ,  1.67909299,  2.547812  ,  0.98150785,\n",
       "       -0.17244875, -0.276207  , -0.69004536, -1.48349706,  0.11289026,\n",
       "       -1.00395981,  1.34514935,  2.88164075, -1.0019686 ,  1.78899994,\n",
       "        1.2416402 ,  0.99507431,  0.73795053, -1.77755085, -1.88874208,\n",
       "        0.7311375 , -0.61893663, -0.44715172, -1.36518082,  0.68895773,\n",
       "        0.29506981, -1.16305558,  0.03834397, -1.03483344, -0.42105249,\n",
       "       -1.00637587, -0.78160615,  1.31407549, -0.08068331,  1.12666985,\n",
       "       -0.70086351,  0.17719217,  0.37064791,  0.74945501,  0.33576757,\n",
       "        0.21272366, -0.61266319,  1.62730442, -0.59311496, -0.52354757,\n",
       "        1.08878757,  0.33738388,  0.63912917,  0.87906052,  0.07227337,\n",
       "       -0.54171331, -0.40905182, -1.43172424, -0.7210246 ,  0.49283513,\n",
       "        1.84546159, -0.12671282,  0.11632949, -0.76825683,  0.66770793,\n",
       "        0.60408753,  1.09628351,  0.57923187,  1.41502195,  0.08511389,\n",
       "        1.03208154, -1.80545595, -0.95402662, -0.65796908, -1.44715735,\n",
       "        0.10156236, -0.75024437, -0.13151932,  0.33818726,  0.70370296,\n",
       "       -1.2592571 ,  2.03374148,  0.00867751, -0.5315516 ,  1.22880058,\n",
       "       -0.19630982, -2.13553275,  0.08034533, -0.31365184,  0.2227918 ,\n",
       "       -1.59489157,  0.48957636, -0.23350291, -0.23835934,  0.24466814,\n",
       "       -0.62151695,  1.49383757, -1.73841079,  0.8060555 ,  0.05937317,\n",
       "        0.74938617,  0.33785378,  0.63248501,  0.26255584, -1.08691215,\n",
       "        0.88498702,  2.60606594,  0.45452783,  0.6450002 , -0.15998605,\n",
       "       -0.54507815, -0.94408265,  0.12957613,  0.09224426,  1.49815122,\n",
       "        1.49762029, -1.0146517 , -0.79816711,  0.22818969, -0.7793748 ,\n",
       "        0.07941038,  1.33533502,  1.2015935 , -0.80498072, -0.24656776,\n",
       "       -1.65120623,  0.59851882,  0.83315003,  0.59726641, -1.56296908,\n",
       "        1.7391236 , -1.11569654,  0.75078933,  0.29069318,  0.70020142,\n",
       "       -0.34971093,  0.04100784, -0.08940046, -0.58466212,  0.74189876,\n",
       "       -1.27483771,  0.3894289 , -1.42692128,  0.57600913, -0.39190375,\n",
       "        1.0641267 ,  0.63136633,  0.18840056,  2.06456027,  0.86221997,\n",
       "       -0.5496406 ,  0.55705609,  0.07099776, -1.31803576,  0.75887432,\n",
       "       -1.21745082, -1.06512549,  0.24927265, -0.74909954,  1.32685666,\n",
       "        0.14537979,  0.29539245,  1.41923724,  0.57801393,  0.72700355,\n",
       "       -1.19575019,  1.32557236,  0.00225012, -1.56890569, -0.59841142,\n",
       "        1.30630098, -0.37960439,  0.16595979,  0.088184  , -1.01570514,\n",
       "        0.16452394,  0.26452738, -0.84876758, -0.781597  ,  1.91022787,\n",
       "        0.85949408, -0.8612088 ,  0.37301415, -0.42021831, -0.61473072,\n",
       "        0.63350963, -0.03237168,  1.01977332, -0.01227161,  0.89330922,\n",
       "       -0.0628863 , -0.24168912,  1.90822133, -0.02204837,  0.20577343,\n",
       "       -0.36391416,  0.74914193, -0.68493221, -1.1055059 ,  0.74628778,\n",
       "       -0.38991685, -0.1532971 ,  0.08746056,  1.62768462, -0.74778108,\n",
       "       -0.10778086, -0.20848682,  0.82130256, -1.4764876 ,  0.77881727,\n",
       "       -0.56899143,  0.72289316,  1.25360121, -1.53831017,  1.54532284,\n",
       "       -1.74657717,  1.05029267,  2.39544373,  1.20807575, -1.19175469,\n",
       "        0.99089338,  0.25571927, -0.67732873, -2.14540452,  1.49554071,\n",
       "        0.50244525,  0.02521792, -0.2904846 , -0.17836132,  0.61537559,\n",
       "        0.10905902,  0.08049964, -0.34344324, -0.13273522, -0.17436985,\n",
       "       -1.38107334,  0.15818514,  0.32767947, -1.92842816,  1.89911206,\n",
       "       -1.08943272, -0.45918294,  0.17695163,  0.13612796,  0.60249584,\n",
       "        0.1146017 , -1.43119195,  1.14714983,  0.95117536,  1.24781584,\n",
       "       -2.07047164, -1.07526654,  1.31590048, -1.15011443, -0.43575306,\n",
       "        1.20741401, -1.13847623, -0.30778063,  2.93107519,  0.26727633,\n",
       "       -1.28032169, -0.57678221, -2.48898225,  0.32183579,  0.6167941 ,\n",
       "        1.25815689, -0.54233364,  0.58815313, -0.91136382,  0.76687868,\n",
       "        0.21372397,  0.93627156,  0.6475894 ,  1.716574  ,  0.97180267,\n",
       "       -0.15827158,  0.45442305, -0.8276283 ,  0.61780911, -0.83945329,\n",
       "       -0.52155136, -0.77200094, -0.36077555,  0.68478876,  0.60284919,\n",
       "       -0.22947518,  1.49142804,  1.44973056, -1.068827  ,  1.32409021,\n",
       "       -1.9662646 , -0.30647201, -1.72431113,  1.9366137 , -0.47716376,\n",
       "        1.28948778, -1.37873273,  0.06398255, -1.30942456,  0.57681193,\n",
       "        0.50734058,  0.69033155,  0.09512879, -0.48060988,  0.21644072,\n",
       "        0.2131957 ,  1.59296408,  0.04803787, -0.22335525,  1.33150869,\n",
       "        2.03223061,  0.13245415,  1.42711944,  0.64598812,  0.37383746,\n",
       "       -0.68881581, -1.04103223,  0.91897897, -0.75503408, -1.26213955,\n",
       "       -0.0312452 ,  0.38426075,  0.52304923,  0.31925534,  1.79675638,\n",
       "       -2.52195501,  1.02559543,  1.35852142, -0.89827771, -1.45134301,\n",
       "       -1.14619382,  0.50133379,  0.14306296,  0.40161822,  0.13077818,\n",
       "        0.32581598,  1.70185041, -0.74277132, -0.09440638, -2.01486821,\n",
       "        1.18509589, -0.94046251, -1.56975103,  0.2881156 , -0.93770768,\n",
       "        0.79006178,  1.95253633, -0.47860334,  0.49157052,  0.0529583 ,\n",
       "       -0.62408683,  0.30893487,  0.24683198, -0.10472546, -0.64583349,\n",
       "       -0.08862685, -1.63114032, -0.41102368,  0.97668702, -0.05970912,\n",
       "        1.04053   ,  0.7464308 , -0.72082176,  0.38808674,  0.94360354,\n",
       "        1.11265348,  0.13512614,  0.28740596,  0.16824888,  0.98999603,\n",
       "        0.56792224, -1.00983827, -0.71689489,  0.05959349,  1.41922924])"
      ]
     },
     "execution_count": 72,
     "metadata": {},
     "output_type": "execute_result"
    }
   ],
   "source": [
    "campana = np.random.randn(1000)\n",
    "campana"
   ]
  },
  {
   "cell_type": "markdown",
   "metadata": {},
   "source": [
    "**¿Como verificamos que se trata de una distribución normal?**\n"
   ]
  },
  {
   "cell_type": "code",
   "execution_count": 74,
   "metadata": {},
   "outputs": [],
   "source": [
    "# Descargamos matplotlib con pip install matplotlib y luego lo importamos\n",
    "import matplotlib.pyplot as plt"
   ]
  },
  {
   "cell_type": "code",
   "execution_count": 75,
   "metadata": {},
   "outputs": [
    {
     "data": {
      "image/png": "[encoded data removed]",
      "text/plain": [
       "<Figure size 640x480 with 1 Axes>"
      ]
     },
     "metadata": {},
     "output_type": "display_data"
    }
   ],
   "source": [
    "plt.hist(campana) # Vemos que estamos frente a una campana de Gauss o distribución normal.\n",
    "plt.show()"
   ]
  },
  {
   "cell_type": "code",
   "execution_count": 80,
   "metadata": {},
   "outputs": [
    {
     "data": {
      "text/plain": [
       "array([-0.48025268, -0.04253881,  0.55418018, ..., -0.45408475,\n",
       "       -0.93155848,  0.68393913])"
      ]
     },
     "execution_count": 80,
     "metadata": {},
     "output_type": "execute_result"
    }
   ],
   "source": [
    "campana = np.random.randn(100000) # Mientras más elementos más normal se ve.\n",
    "campana"
   ]
  },
  {
   "cell_type": "code",
   "execution_count": 81,
   "metadata": {},
   "outputs": [
    {
     "data": {
      "image/png": "[encoded data removed]",
      "text/plain": [
       "<Figure size 640x480 with 1 Axes>"
      ]
     },
     "metadata": {},
     "output_type": "display_data"
    }
   ],
   "source": [
    "plt.hist(campana) # Vemos que estamos frente a una campana de Gauss o distribución normal.\n",
    "plt.show()"
   ]
  },
  {
   "cell_type": "markdown",
   "metadata": {},
   "source": [
    "#### Otro método para armar arrays aleatorios es: "
   ]
  },
  {
   "cell_type": "code",
   "execution_count": 188,
   "metadata": {},
   "outputs": [
    {
     "data": {
      "text/plain": [
       "array([35, 37, 80, 46, 14, 99, 42, 84, 14, 20,  5, 64, 89, 67, 41, 62, 65,\n",
       "       70, 50, 35,  5, 81, 34, 90, 90,  6, 21,  2, 29, 23, 84, 82, 53, 81,\n",
       "       95, 51, 57,  3, 53,  7, 41, 92, 78, 11, 12, 57, 67, 34, 71, 67, 37,\n",
       "       82, 86, 62, 42, 92, 30, 76, 72,  1, 52, 31, 31, 12, 71,  8, 20, 24,\n",
       "       49, 94, 49, 53, 34, 26, 46, 29, 41, 79, 65, 89, 95, 89,  9, 72, 81,\n",
       "        3, 21, 38, 42, 22, 52, 69, 71, 51, 74, 94, 56, 53, 99, 13, 36, 31,\n",
       "       50, 46, 87, 24, 92, 14, 72, 25, 18,  2, 65, 66, 49, 96, 14, 17, 29,\n",
       "       82, 28, 25, 89, 65, 53, 85, 47,  1, 79, 58, 29, 22, 75, 92, 98, 20,\n",
       "       32, 83, 32, 27, 82, 32, 43,  2,  6, 36, 36,  9, 87, 90, 41,  8, 42,\n",
       "       29, 98, 96, 11,  5,  5, 32, 56, 12, 42, 98, 10, 52, 49, 13, 83, 50,\n",
       "       84, 34, 52, 73, 60, 84, 55, 18, 22, 94,  4, 99,  4, 73, 68, 55, 58,\n",
       "       93, 45, 10, 33, 28,  4, 70, 32, 89, 74, 35, 34, 94, 97, 48, 85, 58,\n",
       "       98, 39, 70, 91, 92, 92, 45, 67, 98, 68, 11, 27, 92, 37, 58, 88, 12,\n",
       "        6,  5, 39, 59, 22, 53, 11, 91, 46, 37, 65, 70, 43, 10, 84, 51, 69,\n",
       "        1,  3, 24, 61, 52, 93, 85, 61, 71, 36, 72,  6, 54, 50, 80, 12, 81,\n",
       "       50, 87, 84, 40, 78, 14, 24, 80, 14, 83, 62, 12, 83, 27, 66,  8, 58,\n",
       "       81, 83, 14,  5, 94, 65, 32, 94, 62, 39, 61, 20, 16, 54, 60, 15,  9,\n",
       "       96, 91, 29, 87,  2, 69, 17, 40, 55, 17, 14, 52, 63, 83, 85, 35, 64,\n",
       "       78, 31, 86, 54, 32, 22, 95, 53, 39, 25, 60, 40, 20, 59, 19, 93, 23,\n",
       "       41,  8, 83, 57, 52, 47, 40, 56, 35, 71, 68, 96, 98, 18, 29, 83, 44,\n",
       "       71, 58, 84,  5, 41, 72, 29, 67, 38, 27, 95, 38, 34, 19, 48,  7, 60,\n",
       "       74, 26, 36, 52, 47, 37, 96, 17, 31, 86, 33, 59, 70, 38, 16,  1, 56,\n",
       "       81, 43, 66, 16, 99, 19,  6, 32, 36, 13, 57, 55, 81, 80, 84, 37, 44,\n",
       "       58, 35, 38, 90, 12, 32, 88, 85, 73, 19, 29, 48, 81, 38, 89, 97, 40,\n",
       "       83, 92, 50, 79, 21, 62, 30, 11, 35, 95, 55, 21, 95, 21, 84,  8, 75,\n",
       "        4, 86, 22, 21,  4, 97, 89, 44, 34, 66, 90, 77, 98,  1,  7, 17, 49,\n",
       "        6, 73, 97, 28, 47, 36, 97, 10, 37, 65, 35, 12, 64, 73, 29, 59, 42,\n",
       "       87, 84, 93, 46, 48, 55, 10, 45, 80, 50,  4, 87, 54, 19, 90, 52, 98,\n",
       "       14, 39, 94, 87, 91, 30, 88, 89, 17, 53, 39, 68, 53, 38, 65, 15, 29,\n",
       "       14, 92, 59, 48, 92, 80, 60, 32, 65,  9, 23,  8, 46, 12, 48, 34, 78,\n",
       "       36, 60, 26,  4, 88, 30, 25, 63, 64, 24, 75, 43, 70, 94, 98, 37, 88,\n",
       "       95, 55, 94,  1, 68, 81, 42,  9,  1, 38, 21,  2, 23, 14, 80, 73, 79,\n",
       "        4, 50, 23, 96, 41, 83, 61, 11, 74, 82, 60, 54, 60, 48, 82, 16, 52,\n",
       "       96, 24, 58, 51, 93, 46, 37,  6, 28, 56, 82, 83, 76, 29, 25, 14, 82,\n",
       "       61, 64, 76, 20, 52,  3, 96, 45, 33, 92, 73, 85, 55, 70, 28, 67, 19,\n",
       "        5, 18, 61, 73, 29, 50, 82, 69, 33, 69, 82,  6, 12,  3, 79, 17, 92,\n",
       "       72, 39, 68, 58, 16, 12, 40, 63, 14, 82, 89, 62, 59, 66, 28, 76, 49,\n",
       "       18, 11, 23, 59, 91, 24, 59, 95, 49, 18, 93, 75, 60, 88, 95,  5, 22,\n",
       "       72, 45,  9, 34, 68, 54, 96,  6, 42, 69,  5, 48, 91, 53, 96,  5, 23,\n",
       "       61, 78, 57, 86, 99,  2, 83, 93, 48, 19, 98, 25, 71, 98, 59, 56,  8,\n",
       "       94, 55, 19, 99, 21, 27, 40, 74, 74, 73, 43, 85, 79, 19, 25, 34,  5,\n",
       "       10, 34, 76, 38, 99, 14, 34, 52, 32, 38, 84, 25, 73, 98, 26, 44, 21,\n",
       "       86, 16, 14, 64, 46, 64, 14, 20,  6, 36, 77, 23, 47, 92, 85, 27, 71,\n",
       "       30, 29, 61, 48, 98, 35, 60, 13,  6, 72, 50, 97,  5,  9, 35, 15, 42,\n",
       "       31, 19, 47,  4, 89, 93, 84, 30, 68, 37, 46, 20, 36, 67, 41, 42, 17,\n",
       "        1, 18, 66, 57, 83, 41, 26, 54, 58, 17, 73, 78, 99, 58, 42, 59, 55,\n",
       "       85, 36, 77, 88, 91, 29, 43,  2, 95, 67, 14, 15, 64, 92, 97, 80, 95,\n",
       "       96, 64, 71, 60,  3, 97, 16, 48, 55, 70,  6, 31, 78, 46,  6, 75, 26,\n",
       "       99, 64, 94, 98, 85, 49, 70,  5, 85,  6, 86, 95, 22, 24, 21,  4, 30,\n",
       "       10, 92,  2, 58, 96,  8, 57,  6, 41,  9, 55,  4, 16, 65, 71, 60, 49,\n",
       "       11, 94, 21, 43,  3, 20, 25, 46, 94, 90, 59, 32, 48, 14, 91, 27, 84,\n",
       "       80, 62, 11, 20, 80, 17, 59, 18, 62, 16,  6, 91, 33, 72,  9, 36, 47,\n",
       "       43, 95, 16, 85, 54, 44, 15, 44, 76, 59, 50, 33, 34, 22, 43, 90, 69,\n",
       "       12, 20, 87, 49, 32, 29, 34, 19, 41, 39, 40, 15, 24, 50, 55, 33, 13,\n",
       "        6,  9, 66, 81, 24, 33, 77,  6, 32, 34, 14, 79, 33, 36, 51, 94, 25,\n",
       "       57, 73, 67, 31,  1, 63, 21, 57, 48, 38, 27,  5, 98, 43, 21,  9, 59,\n",
       "       84, 51, 37, 69, 45, 54, 60, 79, 44, 65, 66, 94, 81, 27, 60, 75, 86,\n",
       "       94, 24, 44, 80, 21,  5,  3, 29, 96, 67, 90, 46, 49, 13, 20, 54,  1,\n",
       "       94, 84, 13, 92,  8, 18, 53,  4, 86, 47, 82, 85, 90, 28])"
      ]
     },
     "execution_count": 188,
     "metadata": {},
     "output_type": "execute_result"
    }
   ],
   "source": [
    "array_aleatorio_arbitrario = np.random.randint(low=1, high=100, size=1000)\n",
    "array_aleatorio_arbitrario"
   ]
  },
  {
   "cell_type": "code",
   "execution_count": 83,
   "metadata": {},
   "outputs": [
    {
     "data": {
      "text/plain": [
       "(100000,)"
      ]
     },
     "execution_count": 83,
     "metadata": {},
     "output_type": "execute_result"
    }
   ],
   "source": [
    "# El atributo shape de un array nos devuelve las dimensiones del mismo como vimos arriba\n",
    "campana.shape # 1 dimensión de 100000 de largo"
   ]
  },
  {
   "cell_type": "code",
   "execution_count": 43,
   "metadata": {},
   "outputs": [
    {
     "data": {
      "text/plain": [
       "(2, 3)"
      ]
     },
     "execution_count": 43,
     "metadata": {},
     "output_type": "execute_result"
    }
   ],
   "source": [
    "matriz.shape # 2 dimensiones: 2 filas de 3 elementos cada una "
   ]
  },
  {
   "cell_type": "code",
   "execution_count": 86,
   "metadata": {},
   "outputs": [
    {
     "data": {
      "text/plain": [
       "(2, 2, 3)"
      ]
     },
     "execution_count": 86,
     "metadata": {},
     "output_type": "execute_result"
    }
   ],
   "source": [
    "tensor.shape # 3 dimensiones: 2 filas de 2 columnas y 3 de profundididad. "
   ]
  },
  {
   "cell_type": "code",
   "execution_count": 42,
   "metadata": {},
   "outputs": [
    {
     "data": {
      "text/plain": [
       "array([[1, 2, 3],\n",
       "       [4, 5, 6]])"
      ]
     },
     "execution_count": 42,
     "metadata": {},
     "output_type": "execute_result"
    }
   ],
   "source": [
    "# reshape se usa para cambiar la forma por una compatible. Ejemplo: \n",
    "matriz"
   ]
  },
  {
   "cell_type": "code",
   "execution_count": 46,
   "metadata": {},
   "outputs": [
    {
     "data": {
      "text/plain": [
       "array([[1, 2],\n",
       "       [3, 4],\n",
       "       [5, 6]])"
      ]
     },
     "execution_count": 46,
     "metadata": {},
     "output_type": "execute_result"
    }
   ],
   "source": [
    "matriz_reshaped = matriz.reshape(4,2)\n",
    "matriz_reshaped"
   ]
  },
  {
   "cell_type": "code",
   "execution_count": 47,
   "metadata": {},
   "outputs": [
    {
     "data": {
      "text/plain": [
       "array([[1, 2, 3],\n",
       "       [4, 5, 6]])"
      ]
     },
     "execution_count": 47,
     "metadata": {},
     "output_type": "execute_result"
    }
   ],
   "source": [
    "matriz"
   ]
  },
  {
   "cell_type": "code",
   "execution_count": 91,
   "metadata": {},
   "outputs": [
    {
     "data": {
      "text/plain": [
       "array([[1, 2, 3, 4, 5, 6]])"
      ]
     },
     "execution_count": 91,
     "metadata": {},
     "output_type": "execute_result"
    }
   ],
   "source": [
    "matriz.reshape(1,6)"
   ]
  },
  {
   "cell_type": "code",
   "execution_count": 92,
   "metadata": {},
   "outputs": [
    {
     "data": {
      "text/plain": [
       "array([[1],\n",
       "       [2],\n",
       "       [3],\n",
       "       [4],\n",
       "       [5],\n",
       "       [6]])"
      ]
     },
     "execution_count": 92,
     "metadata": {},
     "output_type": "execute_result"
    }
   ],
   "source": [
    "matriz.reshape(6,1)"
   ]
  },
  {
   "cell_type": "code",
   "execution_count": 93,
   "metadata": {},
   "outputs": [
    {
     "data": {
      "text/plain": [
       "array([[1],\n",
       "       [2],\n",
       "       [3],\n",
       "       [4],\n",
       "       [5],\n",
       "       [6]])"
      ]
     },
     "execution_count": 93,
     "metadata": {},
     "output_type": "execute_result"
    }
   ],
   "source": [
    "matriz_copia = matriz.reshape(6,1).copy()\n",
    "matriz_copia"
   ]
  },
  {
   "cell_type": "code",
   "execution_count": 94,
   "metadata": {},
   "outputs": [
    {
     "data": {
      "text/plain": [
       "array([[1, 2, 3],\n",
       "       [4, 5, 6]])"
      ]
     },
     "execution_count": 94,
     "metadata": {},
     "output_type": "execute_result"
    }
   ],
   "source": [
    "matriz"
   ]
  },
  {
   "cell_type": "markdown",
   "metadata": {},
   "source": [
    "## Operaciones con Arrays: "
   ]
  },
  {
   "cell_type": "code",
   "execution_count": 96,
   "metadata": {},
   "outputs": [
    {
     "name": "stdout",
     "output_type": "stream",
     "text": [
      "Total de horas gastadas en deportes: [2.5 4.  3.  2.5 3.5]\n"
     ]
    }
   ],
   "source": [
    "# Suma\n",
    "horas_natacion = np.array([1, 2, 1, 1.5, 2])  # Horas por día de lunes a viernes\n",
    "horas_tenis = np.array([1.5, 2, 2, 1, 1.5])\n",
    "\n",
    "total_horas = horas_natacion + horas_tenis\n",
    "\n",
    "print(\"Total de horas gastadas en deportes:\", total_horas)"
   ]
  },
  {
   "cell_type": "code",
   "execution_count": 97,
   "metadata": {},
   "outputs": [
    {
     "name": "stdout",
     "output_type": "stream",
     "text": [
      "Diferencia de horas entre natación y tenis: [-0.5  0.  -1.   0.5  0.5]\n"
     ]
    }
   ],
   "source": [
    "# Resta\n",
    "diferencia_horas = horas_natacion - horas_tenis\n",
    "\n",
    "print(\"Diferencia de horas entre natación y tenis:\", diferencia_horas)"
   ]
  },
  {
   "cell_type": "code",
   "execution_count": 98,
   "metadata": {},
   "outputs": [
    {
     "name": "stdout",
     "output_type": "stream",
     "text": [
      "Horas ajustadas por intensidad (Natación): [1.1  2.2  1.1  1.65 2.2 ]\n",
      "Horas ajustadas por intensidad (Tenis): [1.8 2.4 2.4 1.2 1.8]\n"
     ]
    }
   ],
   "source": [
    "# Multiplicación\n",
    "ajuste_natacion = horas_natacion * 1.1\n",
    "ajuste_tenis = horas_tenis * 1.2\n",
    "\n",
    "print(\"Horas ajustadas por intensidad (Natación):\", ajuste_natacion)\n",
    "print(\"Horas ajustadas por intensidad (Tenis):\", ajuste_tenis)"
   ]
  },
  {
   "cell_type": "code",
   "execution_count": 100,
   "metadata": {},
   "outputs": [
    {
     "name": "stdout",
     "output_type": "stream",
     "text": [
      "Promedio de horas por deporte por día: [0.5 0.8 0.6 0.5 0.7]\n"
     ]
    }
   ],
   "source": [
    "# División -> promedio de horas dedicadas por día en cada deporte,\n",
    "promedio_natacion = total_horas / 5  # Suponiendo 5 días a la semana\n",
    "\n",
    "print(\"Promedio de horas por deporte por día:\", promedio_natacion)"
   ]
  },
  {
   "cell_type": "code",
   "execution_count": 101,
   "metadata": {},
   "outputs": [
    {
     "name": "stdout",
     "output_type": "stream",
     "text": [
      "Rendimiento total por deporte: [[1.62  1.24 ]\n",
      " [2.125 1.67 ]]\n"
     ]
    }
   ],
   "source": [
    "# np.matmul o multiplicación de matrices: calcular el rendimiento total de dos equipos de deportes (natación y tenis) en diferentes categorías.\n",
    "# Habilidades del equipo por deporte [natación, tenis]\n",
    "\n",
    "habilidades = np.array([[0.8, 0.6],  # Eficiencia\n",
    "                        [0.9, 0.95]])  # Técnica\n",
    "\n",
    "# Efectividad de entrenamiento [Eficiencia, Técnica]\n",
    "efectividad_entrenamiento = np.array([[1.2, 0.8],  \n",
    "                                      [1.1, 1.0]])\n",
    "\n",
    "# Cálculo del rendimiento total\n",
    "rendimiento_total = np.matmul(habilidades, efectividad_entrenamiento)\n",
    "\n",
    "print(\"Rendimiento total por deporte:\", rendimiento_total)"
   ]
  },
  {
   "attachments": {
    "image.png": {
     "image/png": "[encoded data removed]"
    }
   },
   "cell_type": "markdown",
   "metadata": {},
   "source": [
    "![image.png](attachment:image.png)"
   ]
  },
  {
   "attachments": {
    "image.png": {
     "image/png": "[encoded data removed]"
    }
   },
   "cell_type": "markdown",
   "metadata": {},
   "source": [
    "![image.png](attachment:image.png)"
   ]
  },
  {
   "attachments": {
    "image.png": {
     "image/png": "[encoded data removed]"
    }
   },
   "cell_type": "markdown",
   "metadata": {},
   "source": [
    "![image.png](attachment:image.png)"
   ]
  },
  {
   "cell_type": "markdown",
   "metadata": {},
   "source": [
    "## Funciones Universales (ufuncs): son funciones de Numpy que operan en arrays de Numpy elemento por elemento"
   ]
  },
  {
   "cell_type": "code",
   "execution_count": 103,
   "metadata": {},
   "outputs": [
    {
     "name": "stdout",
     "output_type": "stream",
     "text": [
      "El total de puntos ganados por todos los jugadores en el torneo es: 153\n"
     ]
    }
   ],
   "source": [
    "# Funciones Universales (ufuncs): son funciones de Numpy que operan en arrays de Numpy elemento por elemento\n",
    "# Puntos ganados por cada jugador en 5 partidos\n",
    "\n",
    "puntos_jugadores = np.array([\n",
    "    [15, 12, 9, 7, 6],  # Jugador 1\n",
    "    [10, 14, 6, 8, 12], # Jugador 2\n",
    "    [7, 9, 12, 15, 11]  # Jugador 3\n",
    "])\n",
    "\n",
    "# Calculamos el total de puntos ganados en el torneo\n",
    "total_puntos = np.sum(puntos_jugadores)\n",
    "\n",
    "print(f\"El total de puntos ganados por todos los jugadores en el torneo es: {total_puntos}\")"
   ]
  },
  {
   "cell_type": "code",
   "execution_count": 104,
   "metadata": {},
   "outputs": [
    {
     "name": "stdout",
     "output_type": "stream",
     "text": [
      "Seno de los ángulos: [ 0.  1.  0. -1. -0.]\n"
     ]
    }
   ],
   "source": [
    "# Uso de funciones trigonométricas como seno\n",
    "angulos = np.array([0, np.pi/2, np.pi, 3*np.pi/2, 2*np.pi])  # Ángulos en radianes\n",
    "\n",
    "# Calculando el seno de los ángulos\n",
    "seno_angulos = np.sin(angulos)\n",
    "print(\"Seno de los ángulos:\", seno_angulos)"
   ]
  },
  {
   "cell_type": "markdown",
   "metadata": {},
   "source": [
    "## Matrices"
   ]
  },
  {
   "cell_type": "markdown",
   "metadata": {},
   "source": [
    "### Formas de construcción"
   ]
  },
  {
   "cell_type": "code",
   "execution_count": 105,
   "metadata": {},
   "outputs": [
    {
     "data": {
      "text/plain": [
       "array([[15, 12,  9,  7,  6],\n",
       "       [10, 14,  6,  8, 12],\n",
       "       [ 7,  9, 12, 15, 11]])"
      ]
     },
     "execution_count": 105,
     "metadata": {},
     "output_type": "execute_result"
    }
   ],
   "source": [
    "# usando np.array()\n",
    "puntos_jugadores = np.array([\n",
    "    [15, 12, 9, 7, 6],  # Jugador 1\n",
    "    [10, 14, 6, 8, 12], # Jugador 2\n",
    "    [7, 9, 12, 15, 11]  # Jugador 3\n",
    "])\n",
    "puntos_jugadores"
   ]
  },
  {
   "cell_type": "code",
   "execution_count": 109,
   "metadata": {},
   "outputs": [
    {
     "data": {
      "text/plain": [
       "array([[0., 0., 0.],\n",
       "       [0., 0., 0.],\n",
       "       [0., 0., 0.]])"
      ]
     },
     "execution_count": 109,
     "metadata": {},
     "output_type": "execute_result"
    }
   ],
   "source": [
    "# usando np.zeros()\n",
    "matriz_ceros = np.zeros((3,3))\n",
    "matriz_ceros"
   ]
  },
  {
   "cell_type": "code",
   "execution_count": 111,
   "metadata": {},
   "outputs": [
    {
     "data": {
      "text/plain": [
       "array([[1., 1., 1.],\n",
       "       [1., 1., 1.],\n",
       "       [1., 1., 1.]])"
      ]
     },
     "execution_count": 111,
     "metadata": {},
     "output_type": "execute_result"
    }
   ],
   "source": [
    "# usando np.ones()\n",
    "matriz_unos = np.ones((3,3))\n",
    "matriz_unos"
   ]
  },
  {
   "cell_type": "code",
   "execution_count": 113,
   "metadata": {},
   "outputs": [
    {
     "data": {
      "text/plain": [
       "array([[1., 0., 0., 0., 0.],\n",
       "       [0., 1., 0., 0., 0.],\n",
       "       [0., 0., 1., 0., 0.],\n",
       "       [0., 0., 0., 1., 0.],\n",
       "       [0., 0., 0., 0., 1.]])"
      ]
     },
     "execution_count": 113,
     "metadata": {},
     "output_type": "execute_result"
    }
   ],
   "source": [
    "# usando np.eye(): construimos una \"matriz identidad\": matriz rellena de ceros a excepcion de su diagonal principal donde van unos\n",
    "matriz_identidad = np.eye(5)\n",
    "matriz_identidad"
   ]
  },
  {
   "cell_type": "code",
   "execution_count": 115,
   "metadata": {},
   "outputs": [
    {
     "data": {
      "text/plain": [
       "array([[100, 100, 100, 100, 100],\n",
       "       [100, 100, 100, 100, 100],\n",
       "       [100, 100, 100, 100, 100]])"
      ]
     },
     "execution_count": 115,
     "metadata": {},
     "output_type": "execute_result"
    }
   ],
   "source": [
    "# usando np.full(): Crea una matriz de un tamaño especificado y con un valor especificado\n",
    "matriz_full = np.full((3,5), 100)\n",
    "matriz_full"
   ]
  },
  {
   "cell_type": "code",
   "execution_count": 118,
   "metadata": {},
   "outputs": [
    {
     "data": {
      "text/plain": [
       "matrix([[1, 2, 3],\n",
       "        [4, 5, 6]])"
      ]
     },
     "execution_count": 118,
     "metadata": {},
     "output_type": "execute_result"
    }
   ],
   "source": [
    "matriz_matrix = np.matrix(data=[[1,2,3],[4,5,6]]) # Desaconsejado porque se puede discontinuar desde Numpy. Se recomienda armar np.arrays de 2 dimensiones\n",
    "matriz_matrix"
   ]
  },
  {
   "cell_type": "code",
   "execution_count": 125,
   "metadata": {},
   "outputs": [
    {
     "data": {
      "text/plain": [
       "matrix([[1, 2],\n",
       "        [3, 4],\n",
       "        [5, 6]])"
      ]
     },
     "execution_count": 125,
     "metadata": {},
     "output_type": "execute_result"
    }
   ],
   "source": [
    "matriz_matrix2 = np.matrix(data=[[1,2],[3,4],[5,6]])\n",
    "matriz_matrix2"
   ]
  },
  {
   "cell_type": "code",
   "execution_count": 123,
   "metadata": {},
   "outputs": [
    {
     "data": {
      "text/plain": [
       "matrix([[22, 28],\n",
       "        [49, 64]])"
      ]
     },
     "execution_count": 123,
     "metadata": {},
     "output_type": "execute_result"
    }
   ],
   "source": [
    "matriz_matrix * matriz_matrix2 # Hace una multiplicación matricial sin necesidad de usar np.matmul como con los arrays (ventaja de np.matrix)"
   ]
  },
  {
   "cell_type": "code",
   "execution_count": 126,
   "metadata": {},
   "outputs": [
    {
     "ename": "AttributeError",
     "evalue": "`np.mat` was removed in the NumPy 2.0 release. Use `np.asmatrix` instead.",
     "output_type": "error",
     "traceback": [
      "\u001b[0;31m---------------------------------------------------------------------------\u001b[0m",
      "\u001b[0;31mAttributeError\u001b[0m                            Traceback (most recent call last)",
      "Cell \u001b[0;32mIn[126], line 1\u001b[0m\n\u001b[0;32m----> 1\u001b[0m \u001b[43mnp\u001b[49m\u001b[38;5;241;43m.\u001b[39;49m\u001b[43mmat\u001b[49m(matriz)\n",
      "File \u001b[0;32m~/Documents/Henry/.venv/lib/python3.11/site-packages/numpy/__init__.py:397\u001b[0m, in \u001b[0;36m__getattr__\u001b[0;34m(attr)\u001b[0m\n\u001b[1;32m    394\u001b[0m     \u001b[38;5;28;01mraise\u001b[39;00m \u001b[38;5;167;01mAttributeError\u001b[39;00m(__former_attrs__[attr])\n\u001b[1;32m    396\u001b[0m \u001b[38;5;28;01mif\u001b[39;00m attr \u001b[38;5;129;01min\u001b[39;00m __expired_attributes__:\n\u001b[0;32m--> 397\u001b[0m     \u001b[38;5;28;01mraise\u001b[39;00m \u001b[38;5;167;01mAttributeError\u001b[39;00m(\n\u001b[1;32m    398\u001b[0m         \u001b[38;5;124mf\u001b[39m\u001b[38;5;124m\"\u001b[39m\u001b[38;5;124m`np.\u001b[39m\u001b[38;5;132;01m{\u001b[39;00mattr\u001b[38;5;132;01m}\u001b[39;00m\u001b[38;5;124m` was removed in the NumPy 2.0 release. \u001b[39m\u001b[38;5;124m\"\u001b[39m\n\u001b[1;32m    399\u001b[0m         \u001b[38;5;124mf\u001b[39m\u001b[38;5;124m\"\u001b[39m\u001b[38;5;132;01m{\u001b[39;00m__expired_attributes__[attr]\u001b[38;5;132;01m}\u001b[39;00m\u001b[38;5;124m\"\u001b[39m\n\u001b[1;32m    400\u001b[0m     )\n\u001b[1;32m    402\u001b[0m \u001b[38;5;28;01mif\u001b[39;00m attr \u001b[38;5;241m==\u001b[39m \u001b[38;5;124m\"\u001b[39m\u001b[38;5;124mchararray\u001b[39m\u001b[38;5;124m\"\u001b[39m:\n\u001b[1;32m    403\u001b[0m     warnings\u001b[38;5;241m.\u001b[39mwarn(\n\u001b[1;32m    404\u001b[0m         \u001b[38;5;124m\"\u001b[39m\u001b[38;5;124m`np.chararray` is deprecated and will be removed from \u001b[39m\u001b[38;5;124m\"\u001b[39m\n\u001b[1;32m    405\u001b[0m         \u001b[38;5;124m\"\u001b[39m\u001b[38;5;124mthe main namespace in the future. Use an array with a string \u001b[39m\u001b[38;5;124m\"\u001b[39m\n\u001b[1;32m    406\u001b[0m         \u001b[38;5;124m\"\u001b[39m\u001b[38;5;124mor bytes dtype instead.\u001b[39m\u001b[38;5;124m\"\u001b[39m, \u001b[38;5;167;01mDeprecationWarning\u001b[39;00m, stacklevel\u001b[38;5;241m=\u001b[39m\u001b[38;5;241m2\u001b[39m)\n",
      "\u001b[0;31mAttributeError\u001b[0m: `np.mat` was removed in the NumPy 2.0 release. Use `np.asmatrix` instead."
     ]
    }
   ],
   "source": [
    "np.mat(matriz) # np.mat fue removido desde NumPy 2.0"
   ]
  },
  {
   "cell_type": "code",
   "execution_count": 127,
   "metadata": {},
   "outputs": [
    {
     "data": {
      "text/plain": [
       "array([[1, 2, 3],\n",
       "       [4, 5, 6]])"
      ]
     },
     "execution_count": 127,
     "metadata": {},
     "output_type": "execute_result"
    }
   ],
   "source": [
    "matriz"
   ]
  },
  {
   "cell_type": "code",
   "execution_count": 129,
   "metadata": {},
   "outputs": [
    {
     "data": {
      "text/plain": [
       "matrix([[1, 2, 3],\n",
       "        [4, 5, 6]])"
      ]
     },
     "execution_count": 129,
     "metadata": {},
     "output_type": "execute_result"
    }
   ],
   "source": [
    "np.asmatrix(matriz) #Reemplazo de np.mat"
   ]
  },
  {
   "cell_type": "markdown",
   "metadata": {},
   "source": [
    "**Para operaciones matriciales como la multiplicación de matrices, puedes usar np.dot, np.matmul o el operador @ con ndarray**"
   ]
  },
  {
   "cell_type": "markdown",
   "metadata": {},
   "source": [
    "## Operaciones con Matrices"
   ]
  },
  {
   "cell_type": "code",
   "execution_count": 130,
   "metadata": {},
   "outputs": [
    {
     "data": {
      "text/plain": [
       "array([[1, 2, 3],\n",
       "       [4, 5, 6]])"
      ]
     },
     "execution_count": 130,
     "metadata": {},
     "output_type": "execute_result"
    }
   ],
   "source": [
    "matriz"
   ]
  },
  {
   "cell_type": "code",
   "execution_count": 133,
   "metadata": {},
   "outputs": [
    {
     "data": {
      "text/plain": [
       "array([[1, 4],\n",
       "       [2, 5],\n",
       "       [3, 6]])"
      ]
     },
     "execution_count": 133,
     "metadata": {},
     "output_type": "execute_result"
    }
   ],
   "source": [
    "# Su transpuesta\n",
    "matriz_transpuesta = matriz.T\n",
    "matriz_transpuesta"
   ]
  },
  {
   "cell_type": "code",
   "execution_count": 134,
   "metadata": {},
   "outputs": [
    {
     "ename": "LinAlgError",
     "evalue": "Last 2 dimensions of the array must be square",
     "output_type": "error",
     "traceback": [
      "\u001b[0;31m---------------------------------------------------------------------------\u001b[0m",
      "\u001b[0;31mLinAlgError\u001b[0m                               Traceback (most recent call last)",
      "Cell \u001b[0;32mIn[134], line 1\u001b[0m\n\u001b[0;32m----> 1\u001b[0m matriz_inversa \u001b[38;5;241m=\u001b[39m \u001b[43mnp\u001b[49m\u001b[38;5;241;43m.\u001b[39;49m\u001b[43mlinalg\u001b[49m\u001b[38;5;241;43m.\u001b[39;49m\u001b[43minv\u001b[49m\u001b[43m(\u001b[49m\u001b[43mmatriz\u001b[49m\u001b[43m)\u001b[49m\n\u001b[1;32m      2\u001b[0m matriz_inversa\n",
      "File \u001b[0;32m~/Documents/Henry/.venv/lib/python3.11/site-packages/numpy/linalg/_linalg.py:602\u001b[0m, in \u001b[0;36minv\u001b[0;34m(a)\u001b[0m\n\u001b[1;32m    600\u001b[0m a, wrap \u001b[38;5;241m=\u001b[39m _makearray(a)\n\u001b[1;32m    601\u001b[0m _assert_stacked_2d(a)\n\u001b[0;32m--> 602\u001b[0m \u001b[43m_assert_stacked_square\u001b[49m\u001b[43m(\u001b[49m\u001b[43ma\u001b[49m\u001b[43m)\u001b[49m\n\u001b[1;32m    603\u001b[0m t, result_t \u001b[38;5;241m=\u001b[39m _commonType(a)\n\u001b[1;32m    605\u001b[0m signature \u001b[38;5;241m=\u001b[39m \u001b[38;5;124m'\u001b[39m\u001b[38;5;124mD->D\u001b[39m\u001b[38;5;124m'\u001b[39m \u001b[38;5;28;01mif\u001b[39;00m isComplexType(t) \u001b[38;5;28;01melse\u001b[39;00m \u001b[38;5;124m'\u001b[39m\u001b[38;5;124md->d\u001b[39m\u001b[38;5;124m'\u001b[39m\n",
      "File \u001b[0;32m~/Documents/Henry/.venv/lib/python3.11/site-packages/numpy/linalg/_linalg.py:202\u001b[0m, in \u001b[0;36m_assert_stacked_square\u001b[0;34m(*arrays)\u001b[0m\n\u001b[1;32m    200\u001b[0m m, n \u001b[38;5;241m=\u001b[39m a\u001b[38;5;241m.\u001b[39mshape[\u001b[38;5;241m-\u001b[39m\u001b[38;5;241m2\u001b[39m:]\n\u001b[1;32m    201\u001b[0m \u001b[38;5;28;01mif\u001b[39;00m m \u001b[38;5;241m!=\u001b[39m n:\n\u001b[0;32m--> 202\u001b[0m     \u001b[38;5;28;01mraise\u001b[39;00m LinAlgError(\u001b[38;5;124m'\u001b[39m\u001b[38;5;124mLast 2 dimensions of the array must be square\u001b[39m\u001b[38;5;124m'\u001b[39m)\n",
      "\u001b[0;31mLinAlgError\u001b[0m: Last 2 dimensions of the array must be square"
     ]
    }
   ],
   "source": [
    "matriz_inversa = np.linalg.inv(matriz) # Solo tienen inversa las matrices con forma cuadrada. Las rectanguales no. \n",
    "matriz_inversa"
   ]
  },
  {
   "cell_type": "code",
   "execution_count": 149,
   "metadata": {},
   "outputs": [
    {
     "data": {
      "text/plain": [
       "array([[3, 5],\n",
       "       [2, 6]])"
      ]
     },
     "execution_count": 149,
     "metadata": {},
     "output_type": "execute_result"
    }
   ],
   "source": [
    "matriz_cuadrada = np.array([[3,5],[2,6]])\n",
    "matriz_cuadrada"
   ]
  },
  {
   "cell_type": "code",
   "execution_count": 150,
   "metadata": {},
   "outputs": [
    {
     "data": {
      "text/plain": [
       "array([[ 0.75 , -0.625],\n",
       "       [-0.25 ,  0.375]])"
      ]
     },
     "execution_count": 150,
     "metadata": {},
     "output_type": "execute_result"
    }
   ],
   "source": [
    "matriz_inversa = np.linalg.inv(matriz_cuadrada) # Solo tienen inversa las matrices con forma cuadrada. Las rectanguales no. \n",
    "matriz_inversa"
   ]
  },
  {
   "cell_type": "markdown",
   "metadata": {},
   "source": [
    "#### Para verificar que estamos frente a una matriz inversa el producto de la original y la inversa debe ser una matriz inversa"
   ]
  },
  {
   "cell_type": "code",
   "execution_count": 151,
   "metadata": {},
   "outputs": [
    {
     "data": {
      "text/plain": [
       "array([[1., 0.],\n",
       "       [0., 1.]])"
      ]
     },
     "execution_count": 151,
     "metadata": {},
     "output_type": "execute_result"
    }
   ],
   "source": [
    "identidad_producida = np.matmul(matriz_cuadrada, matriz_inversa) # También podría haber usado np.dot()\n",
    "identidad_producida"
   ]
  },
  {
   "cell_type": "code",
   "execution_count": 152,
   "metadata": {},
   "outputs": [
    {
     "data": {
      "text/plain": [
       "np.float64(8.000000000000002)"
      ]
     },
     "execution_count": 152,
     "metadata": {},
     "output_type": "execute_result"
    }
   ],
   "source": [
    "# Determinante de una matriz\n",
    "determinante = np.linalg.det(matriz_cuadrada)\n",
    "determinante"
   ]
  },
  {
   "cell_type": "markdown",
   "metadata": {},
   "source": [
    "## Estadísticas en NumPy\n",
    "\n",
    "- Los métodos estadísticos son claves para hacer data analytics así como el algebra lineal es clave para hacer data science\n",
    "- Los métodos estadísticos de NumPy son la base sobre la que está construidos los métodos estadísticos en Pandas. De allí su similitud que veremos más adelante. "
   ]
  },
  {
   "cell_type": "code",
   "execution_count": 155,
   "metadata": {},
   "outputs": [
    {
     "data": {
      "text/plain": [
       "array([-0.48025268, -0.04253881,  0.55418018, ..., -0.45408475,\n",
       "       -0.93155848,  0.68393913])"
      ]
     },
     "execution_count": 155,
     "metadata": {},
     "output_type": "execute_result"
    }
   ],
   "source": [
    "campana # Array de 100.000 numeros entre el cero y el uno"
   ]
  },
  {
   "cell_type": "markdown",
   "metadata": {},
   "source": [
    "### Medidas de Tendencia Central: Media o Promedio, Mediana y Moda"
   ]
  },
  {
   "cell_type": "code",
   "execution_count": 156,
   "metadata": {},
   "outputs": [
    {
     "data": {
      "text/plain": [
       "np.float64(0.0030848153710382343)"
      ]
     },
     "execution_count": 156,
     "metadata": {},
     "output_type": "execute_result"
    }
   ],
   "source": [
    "# promedio de campana\n",
    "np.mean(campana)"
   ]
  },
  {
   "cell_type": "code",
   "execution_count": 163,
   "metadata": {},
   "outputs": [
    {
     "data": {
      "text/plain": [
       "np.float64(0.0030848153710382343)"
      ]
     },
     "execution_count": 163,
     "metadata": {},
     "output_type": "execute_result"
    }
   ],
   "source": [
    "# promedio de campana - forma 2\n",
    "campana.mean()"
   ]
  },
  {
   "cell_type": "code",
   "execution_count": 157,
   "metadata": {},
   "outputs": [
    {
     "data": {
      "text/plain": [
       "np.float64(0.0022182863362986377)"
      ]
     },
     "execution_count": 157,
     "metadata": {},
     "output_type": "execute_result"
    }
   ],
   "source": [
    "# mediana de campana\n",
    "np.median(campana)"
   ]
  },
  {
   "cell_type": "markdown",
   "metadata": {},
   "source": [
    "**No hay moda en Numpy pero podemos calcularla desde otro package: scipy**"
   ]
  },
  {
   "cell_type": "code",
   "execution_count": 165,
   "metadata": {},
   "outputs": [
    {
     "name": "stdout",
     "output_type": "stream",
     "text": [
      "Collecting scipy\n",
      "  Downloading scipy-1.14.0-cp311-cp311-macosx_14_0_arm64.whl.metadata (60 kB)\n",
      "\u001b[2K     \u001b[90m━━━━━━━━━━━━━━━━━━━━━━━━━━━━━━━━━━━━━━━━\u001b[0m \u001b[32m60.8/60.8 kB\u001b[0m \u001b[31m4.3 MB/s\u001b[0m eta \u001b[36m0:00:00\u001b[0m\n",
      "\u001b[?25hRequirement already satisfied: numpy<2.3,>=1.23.5 in /Users/mgobea/Documents/Henry/.venv/lib/python3.11/site-packages (from scipy) (2.0.0)\n",
      "Downloading scipy-1.14.0-cp311-cp311-macosx_14_0_arm64.whl (23.1 MB)\n",
      "\u001b[2K   \u001b[90m━━━━━━━━━━━━━━━━━━━━━━━━━━━━━━━━━━━━━━━━\u001b[0m \u001b[32m23.1/23.1 MB\u001b[0m \u001b[31m36.5 MB/s\u001b[0m eta \u001b[36m0:00:00\u001b[0ma \u001b[36m0:00:01\u001b[0m\n",
      "\u001b[?25hInstalling collected packages: scipy\n",
      "Successfully installed scipy-1.14.0\n"
     ]
    }
   ],
   "source": [
    "# Instalamos scipy. Uso de Terminal desde Jupyter Notebook! Plus+\n",
    "!pip install scipy"
   ]
  },
  {
   "cell_type": "code",
   "execution_count": 166,
   "metadata": {},
   "outputs": [],
   "source": [
    "# Actualizamos los requirements.txt\n",
    "! pip freeze > requirements.txt"
   ]
  },
  {
   "cell_type": "code",
   "execution_count": 175,
   "metadata": {},
   "outputs": [
    {
     "name": "stdout",
     "output_type": "stream",
     "text": [
      "Moda: 4\n",
      "Frecuencia de la moda: 6\n"
     ]
    }
   ],
   "source": [
    "# Moda de campana\n",
    "from scipy import stats\n",
    "\n",
    "# Creo un array de ejemplo\n",
    "data = np.array([1, 2, 2, 3, 3, 3, 4, 4, 4, 4, 4, 4, 5, 5])\n",
    "\n",
    "# Calcular la moda\n",
    "mode_result = stats.mode(data)\n",
    "\n",
    "print(\"Moda:\", mode_result.mode)\n",
    "print(\"Frecuencia de la moda:\", mode_result.count)"
   ]
  },
  {
   "cell_type": "code",
   "execution_count": 182,
   "metadata": {},
   "outputs": [
    {
     "name": "stdout",
     "output_type": "stream",
     "text": [
      "Moda: 4\n",
      "Frecuencia de la moda: 6\n"
     ]
    }
   ],
   "source": [
    "# Sin usar otra librería\n",
    "# Crear un array de ejemplo\n",
    "data = np.array([1, 2, 2, 3, 3, 3, 4, 4, 4, 4, 4, 4, 5, 5])\n",
    "\n",
    "# Calcular la moda\n",
    "values, counts = np.unique(data, return_counts=True)\n",
    "index = np.argmax(counts)\n",
    "mode = values[index]\n",
    "quantity = counts[index]\n",
    "\n",
    "print(\"Moda:\", mode)\n",
    "print(\"Frecuencia de la moda:\", quantity)"
   ]
  },
  {
   "cell_type": "code",
   "execution_count": 179,
   "metadata": {},
   "outputs": [
    {
     "data": {
      "text/plain": [
       "(array([1, 2, 3, 4, 5]), array([1, 2, 3, 6, 2]))"
      ]
     },
     "execution_count": 179,
     "metadata": {},
     "output_type": "execute_result"
    }
   ],
   "source": [
    "np.unique(data, return_counts=True)"
   ]
  },
  {
   "cell_type": "code",
   "execution_count": 181,
   "metadata": {},
   "outputs": [
    {
     "data": {
      "text/plain": [
       "np.int64(3)"
      ]
     },
     "execution_count": 181,
     "metadata": {},
     "output_type": "execute_result"
    }
   ],
   "source": [
    "np.argmax(counts)"
   ]
  },
  {
   "cell_type": "markdown",
   "metadata": {},
   "source": [
    "#### Maximos y Minimos"
   ]
  },
  {
   "cell_type": "code",
   "execution_count": 176,
   "metadata": {},
   "outputs": [
    {
     "data": {
      "text/plain": [
       "np.float64(4.365662998835399)"
      ]
     },
     "execution_count": 176,
     "metadata": {},
     "output_type": "execute_result"
    }
   ],
   "source": [
    "np.max(campana)"
   ]
  },
  {
   "cell_type": "code",
   "execution_count": 177,
   "metadata": {},
   "outputs": [
    {
     "data": {
      "text/plain": [
       "np.float64(-4.331698738912026)"
      ]
     },
     "execution_count": 177,
     "metadata": {},
     "output_type": "execute_result"
    }
   ],
   "source": [
    "np.min(campana)"
   ]
  },
  {
   "cell_type": "markdown",
   "metadata": {},
   "source": [
    "#### Medidas de dispersión"
   ]
  },
  {
   "cell_type": "code",
   "execution_count": 183,
   "metadata": {},
   "outputs": [
    {
     "data": {
      "text/plain": [
       "np.float64(1.0015403978064326)"
      ]
     },
     "execution_count": 183,
     "metadata": {},
     "output_type": "execute_result"
    }
   ],
   "source": [
    "np.std(campana)"
   ]
  },
  {
   "cell_type": "code",
   "execution_count": 184,
   "metadata": {},
   "outputs": [
    {
     "data": {
      "text/plain": [
       "np.float64(1.003083168438267)"
      ]
     },
     "execution_count": 184,
     "metadata": {},
     "output_type": "execute_result"
    }
   ],
   "source": [
    "np.var(campana)"
   ]
  },
  {
   "cell_type": "markdown",
   "metadata": {},
   "source": [
    "#### Percentiles"
   ]
  },
  {
   "cell_type": "code",
   "execution_count": 185,
   "metadata": {},
   "outputs": [
    {
     "data": {
      "text/plain": [
       "array([-0.67272644,  0.00221829,  0.67469448])"
      ]
     },
     "execution_count": 185,
     "metadata": {},
     "output_type": "execute_result"
    }
   ],
   "source": [
    "percentiles = np.percentile(campana, [25,50,75])\n",
    "percentiles"
   ]
  },
  {
   "cell_type": "code",
   "execution_count": 187,
   "metadata": {},
   "outputs": [
    {
     "data": {
      "text/plain": [
       "np.float64(0.0022182863362986377)"
      ]
     },
     "execution_count": 187,
     "metadata": {},
     "output_type": "execute_result"
    }
   ],
   "source": [
    "np.median(campana) # La mediana es siempre el percentile 50"
   ]
  },
  {
   "cell_type": "markdown",
   "metadata": {},
   "source": [
    "## Funciones de Mascaras"
   ]
  },
  {
   "cell_type": "code",
   "execution_count": 200,
   "metadata": {},
   "outputs": [],
   "source": [
    "# np.triu y np.tril\n",
    "resultados = np.array([[0, 2, 1, 3],\n",
    "                       [2, 0, 4, 1],\n",
    "                       [1, 4, 0, 5],\n",
    "                       [3, 1, 5, 0]])\n",
    "\n",
    "# Nos quedamos solo con la parter superior derecha de la transversal principal para el análisis\n",
    "triangulo_superior = np.triu(resultados)\n",
    "# Nos quedamos solo con la parte inferior izquierda de la transvarsal principal\n",
    "triangulo_inferior = np.tril(resultados)"
   ]
  },
  {
   "cell_type": "code",
   "execution_count": 196,
   "metadata": {},
   "outputs": [
    {
     "data": {
      "text/plain": [
       "array([[0, 2, 1, 3],\n",
       "       [2, 1, 4, 1],\n",
       "       [1, 4, 1, 5],\n",
       "       [3, 1, 5, 0]])"
      ]
     },
     "execution_count": 196,
     "metadata": {},
     "output_type": "execute_result"
    }
   ],
   "source": [
    "resultados"
   ]
  },
  {
   "cell_type": "code",
   "execution_count": 197,
   "metadata": {},
   "outputs": [
    {
     "data": {
      "text/plain": [
       "array([[0, 2, 1, 3],\n",
       "       [0, 1, 4, 1],\n",
       "       [0, 0, 1, 5],\n",
       "       [0, 0, 0, 0]])"
      ]
     },
     "execution_count": 197,
     "metadata": {},
     "output_type": "execute_result"
    }
   ],
   "source": [
    "triangulo_superior"
   ]
  },
  {
   "cell_type": "code",
   "execution_count": 198,
   "metadata": {},
   "outputs": [
    {
     "data": {
      "text/plain": [
       "array([[0, 0, 0, 0],\n",
       "       [2, 1, 0, 0],\n",
       "       [1, 4, 1, 0],\n",
       "       [3, 1, 5, 0]])"
      ]
     },
     "execution_count": 198,
     "metadata": {},
     "output_type": "execute_result"
    }
   ],
   "source": [
    "triangulo_inferior"
   ]
  },
  {
   "cell_type": "code",
   "execution_count": 201,
   "metadata": {},
   "outputs": [
    {
     "data": {
      "text/plain": [
       "array([[ True,  True,  True,  True],\n",
       "       [ True,  True,  True,  True],\n",
       "       [ True,  True,  True,  True],\n",
       "       [ True,  True,  True,  True]])"
      ]
     },
     "execution_count": 201,
     "metadata": {},
     "output_type": "execute_result"
    }
   ],
   "source": [
    "# Si mi diagonal principal son todos ceros entonces: \n",
    "resultados == (triangulo_inferior + triangulo_superior)"
   ]
  },
  {
   "cell_type": "code",
   "execution_count": 202,
   "metadata": {},
   "outputs": [
    {
     "data": {
      "text/plain": [
       "array([[1, 1, 1, 1],\n",
       "       [1, 1, 1, 1],\n",
       "       [1, 1, 1, 1],\n",
       "       [1, 1, 1, 1]])"
      ]
     },
     "execution_count": 202,
     "metadata": {},
     "output_type": "execute_result"
    }
   ],
   "source": [
    "# np.ones_likes() para crear un array de iguales dimensiones todo lleno de unos\n",
    "resultados_unos = np.ones_like(resultados)\n",
    "resultados_unos"
   ]
  },
  {
   "cell_type": "markdown",
   "metadata": {},
   "source": [
    "#### Uso avanzado y combinado de mascaras o filtros"
   ]
  },
  {
   "cell_type": "code",
   "execution_count": 203,
   "metadata": {},
   "outputs": [
    {
     "data": {
      "text/plain": [
       "array([96, 45, 39, 56, 46, 85, 15, 42, 60, 72, 43,  6, 58, 91, 47, 40, 34,\n",
       "       47,  8, 70, 75, 14,  6, 91, 36, 24, 20, 74,  1, 62, 38, 42, 53, 98,\n",
       "       71, 99, 62, 96, 84, 16, 11, 94, 84, 71,  7, 85, 63, 83, 12,  8, 32,\n",
       "       29, 51,  7, 57, 50, 90, 70, 59, 35, 42, 74, 42, 86, 28, 10, 91,  9,\n",
       "       15, 56, 41, 99, 85, 11, 97, 14, 57, 97, 53, 26, 35, 17, 52, 86, 65,\n",
       "       64, 88, 82, 55, 53, 92, 39, 82, 37, 91, 69, 36, 69, 12, 92])"
      ]
     },
     "execution_count": 203,
     "metadata": {},
     "output_type": "execute_result"
    }
   ],
   "source": [
    "array_para_filtrar = np.random.randint(low=1, high=100, size=100)\n",
    "array_para_filtrar"
   ]
  },
  {
   "cell_type": "code",
   "execution_count": 204,
   "metadata": {},
   "outputs": [],
   "source": [
    "condicion1 = array_para_filtrar > 50\n",
    "condicion2 = array_para_filtrar % 2 == 0"
   ]
  },
  {
   "cell_type": "code",
   "execution_count": 205,
   "metadata": {},
   "outputs": [
    {
     "data": {
      "text/plain": [
       "array([ True, False, False,  True, False,  True, False, False,  True,\n",
       "        True, False, False,  True,  True, False, False, False, False,\n",
       "       False,  True,  True, False, False,  True, False, False, False,\n",
       "        True, False,  True, False, False,  True,  True,  True,  True,\n",
       "        True,  True,  True, False, False,  True,  True,  True, False,\n",
       "        True,  True,  True, False, False, False, False,  True, False,\n",
       "        True, False,  True,  True,  True, False, False,  True, False,\n",
       "        True, False, False,  True, False, False,  True, False,  True,\n",
       "        True, False,  True, False,  True,  True,  True, False, False,\n",
       "       False,  True,  True,  True,  True,  True,  True,  True,  True,\n",
       "        True, False,  True, False,  True,  True, False,  True, False,\n",
       "        True])"
      ]
     },
     "execution_count": 205,
     "metadata": {},
     "output_type": "execute_result"
    }
   ],
   "source": [
    "condicion1"
   ]
  },
  {
   "cell_type": "code",
   "execution_count": 206,
   "metadata": {},
   "outputs": [
    {
     "data": {
      "text/plain": [
       "array([ True, False, False,  True,  True, False, False,  True,  True,\n",
       "        True, False,  True,  True, False, False,  True,  True, False,\n",
       "        True,  True, False,  True,  True, False,  True,  True,  True,\n",
       "        True, False,  True,  True,  True, False,  True, False, False,\n",
       "        True,  True,  True,  True, False,  True,  True, False, False,\n",
       "       False, False, False,  True,  True,  True, False, False, False,\n",
       "       False,  True,  True,  True, False, False,  True,  True,  True,\n",
       "        True,  True,  True, False, False, False,  True, False, False,\n",
       "       False, False, False,  True, False, False, False,  True, False,\n",
       "       False,  True,  True, False,  True,  True,  True, False, False,\n",
       "        True, False,  True, False, False, False,  True, False,  True,\n",
       "        True])"
      ]
     },
     "execution_count": 206,
     "metadata": {},
     "output_type": "execute_result"
    }
   ],
   "source": [
    "condicion2"
   ]
  },
  {
   "cell_type": "code",
   "execution_count": 207,
   "metadata": {},
   "outputs": [
    {
     "data": {
      "text/plain": [
       "array([ True, False, False,  True, False, False, False, False,  True,\n",
       "        True, False, False,  True, False, False, False, False, False,\n",
       "       False,  True, False, False, False, False, False, False, False,\n",
       "        True, False,  True, False, False, False,  True, False, False,\n",
       "        True,  True,  True, False, False,  True,  True, False, False,\n",
       "       False, False, False, False, False, False, False, False, False,\n",
       "       False, False,  True,  True, False, False, False,  True, False,\n",
       "        True, False, False, False, False, False,  True, False, False,\n",
       "       False, False, False, False, False, False, False, False, False,\n",
       "       False,  True,  True, False,  True,  True,  True, False, False,\n",
       "        True, False,  True, False, False, False, False, False, False,\n",
       "        True])"
      ]
     },
     "execution_count": 207,
     "metadata": {},
     "output_type": "execute_result"
    }
   ],
   "source": [
    "condicion1 & condicion2"
   ]
  },
  {
   "cell_type": "code",
   "execution_count": 209,
   "metadata": {},
   "outputs": [
    {
     "data": {
      "text/plain": [
       "array([96, 56, 60, 72, 58, 70, 74, 62, 98, 62, 96, 84, 94, 84, 90, 70, 74,\n",
       "       86, 56, 52, 86, 64, 88, 82, 92, 82, 92])"
      ]
     },
     "execution_count": 209,
     "metadata": {},
     "output_type": "execute_result"
    }
   ],
   "source": [
    "original_filtrado = array_para_filtrar[condicion1 & condicion2] # Mayores de 50 y pares!\n",
    "original_filtrado"
   ]
  },
  {
   "cell_type": "markdown",
   "metadata": {},
   "source": [
    "#### Uso de mascaras para separar el comportamiento en un array"
   ]
  },
  {
   "cell_type": "code",
   "execution_count": 210,
   "metadata": {},
   "outputs": [
    {
     "data": {
      "text/plain": [
       "array([5, 5, 7, 5, 5, 7])"
      ]
     },
     "execution_count": 210,
     "metadata": {},
     "output_type": "execute_result"
    }
   ],
   "source": [
    "horas_entrenamiento = np.array([5, 5, 5, 5, 5, 5])\n",
    "mascara_rendimiento = np.array([True, True, False, True, True, False]) # Los True están aprobados, Los False necesitan entrenar más\n",
    "\n",
    "# Aumento 2 hs de entrenamiento a los deportistas que no han aprobado\n",
    "horas_entrenamiento[~mascara_rendimiento] += 2 # La ~ se usa para negar el contenido booleano del array\n",
    "\n",
    "horas_entrenamiento"
   ]
  }
 ],
 "metadata": {
  "kernelspec": {
   "display_name": "Python 3",
   "language": "python",
   "name": "python3"
  },
  "language_info": {
   "codemirror_mode": {
    "name": "ipython",
    "version": 3
   },
   "file_extension": ".py",
   "mimetype": "text/x-python",
   "name": "python",
   "nbconvert_exporter": "python",
   "pygments_lexer": "ipython3",
   "version": "3.11.5"
  }
 },
 "nbformat": 4,
 "nbformat_minor": 2
}
