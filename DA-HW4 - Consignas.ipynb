{
 "cells": [
  {
   "cell_type": "markdown",
   "metadata": {},
   "source": [
    "### Analisis de rendimiento - Fútbol Femenino"
   ]
  },
  {
   "cell_type": "markdown",
   "metadata": {},
   "source": [
    "El equipo de fútbol femenino \"Estrellas FC\" quiere evaluar el rendimiento de sus jugadoras a lo largo de la última temporada para planificar entrenamientos, formaciones y estrategias para los próximos partidos. Como parte del equipo de análisis de datos del club, tu tarea es analizar el conjunto de datos de las asistencias utilizando Python y Numpy.\n",
    "\n",
    "Objetivos:\n",
    "\n",
    "- Analizar la contribución de cada jugadora al equipo.\n",
    "- Identificar las jugadoras con mejor y peor rendimiento.\n",
    "- Evaluar la consistencia del rendimiento de las jugadoras a lo largo de la temporada.\n",
    "- Desarrollar recomendaciones para el entrenamiento y la formación basadas en los resultados."
   ]
  },
  {
   "cell_type": "code",
   "execution_count": 3,
   "metadata": {},
   "outputs": [],
   "source": [
    "# Importa las librerías necesaria para el desarrollo de nuestro ejercicio.\n",
    "\n",
    "import numpy as np"
   ]
  },
  {
   "cell_type": "code",
   "execution_count": 4,
   "metadata": {},
   "outputs": [
    {
     "name": "stdout",
     "output_type": "stream",
     "text": [
      "[[0. 0. 0. 0. 0. 0. 0. 0. 0. 0. 0.]\n",
      " [0. 0. 0. 0. 0. 0. 0. 0. 0. 0. 0.]\n",
      " [0. 0. 0. 0. 0. 0. 0. 0. 0. 0. 0.]\n",
      " [0. 0. 0. 0. 0. 0. 0. 0. 0. 0. 0.]\n",
      " [0. 0. 0. 0. 0. 0. 0. 0. 0. 0. 0.]\n",
      " [0. 0. 0. 0. 0. 0. 0. 0. 0. 0. 0.]\n",
      " [0. 0. 0. 0. 0. 0. 0. 0. 0. 0. 0.]\n",
      " [0. 0. 0. 0. 0. 0. 0. 0. 0. 0. 0.]\n",
      " [0. 0. 0. 0. 0. 0. 0. 0. 0. 0. 0.]\n",
      " [0. 0. 0. 0. 0. 0. 0. 0. 0. 0. 0.]\n",
      " [0. 0. 0. 0. 0. 0. 0. 0. 0. 0. 0.]\n",
      " [0. 0. 0. 0. 0. 0. 0. 0. 0. 0. 0.]\n",
      " [0. 0. 0. 0. 0. 0. 0. 0. 0. 0. 0.]\n",
      " [0. 0. 0. 0. 0. 0. 0. 0. 0. 0. 0.]\n",
      " [0. 0. 0. 0. 0. 0. 0. 0. 0. 0. 0.]\n",
      " [0. 0. 0. 0. 0. 0. 0. 0. 0. 0. 0.]\n",
      " [0. 0. 0. 0. 0. 0. 0. 0. 0. 0. 0.]\n",
      " [0. 0. 0. 0. 0. 0. 0. 0. 0. 0. 0.]\n",
      " [0. 0. 0. 0. 0. 0. 0. 0. 0. 0. 0.]\n",
      " [0. 0. 0. 0. 0. 0. 0. 0. 0. 0. 0.]\n",
      " [0. 0. 0. 0. 0. 0. 0. 0. 0. 0. 0.]\n",
      " [0. 0. 0. 0. 0. 0. 0. 0. 0. 0. 0.]\n",
      " [0. 0. 0. 0. 0. 0. 0. 0. 0. 0. 0.]\n",
      " [0. 0. 0. 0. 0. 0. 0. 0. 0. 0. 0.]\n",
      " [0. 0. 0. 0. 0. 0. 0. 0. 0. 0. 0.]\n",
      " [0. 0. 0. 0. 0. 0. 0. 0. 0. 0. 0.]\n",
      " [0. 0. 0. 0. 0. 0. 0. 0. 0. 0. 0.]\n",
      " [0. 0. 0. 0. 0. 0. 0. 0. 0. 0. 0.]\n",
      " [0. 0. 0. 0. 0. 0. 0. 0. 0. 0. 0.]\n",
      " [0. 0. 0. 0. 0. 0. 0. 0. 0. 0. 0.]]\n"
     ]
    }
   ],
   "source": [
    "# Crea un array bidimensional 'asistencias' para las 11 jugadoras titulares a lo largo de 30 partidos.\n",
    "\n",
    "asistencias_ceros=np.zeros((30,11))\n",
    "print(asistencias_ceros)"
   ]
  },
  {
   "cell_type": "code",
   "execution_count": 5,
   "metadata": {},
   "outputs": [
    {
     "name": "stdout",
     "output_type": "stream",
     "text": [
      "[[ 4  4  1  8  6  3  6  5  5  6  7]\n",
      " [10  2  3  7  2  7  5  2  3  2  2]\n",
      " [ 6  3  4  2  7  2  7  7 10 10  2]\n",
      " [ 4  1  1 10  7  6  2  9  6  6 10]\n",
      " [ 5  6 10  7  2  7  2  8  7  7  7]\n",
      " [ 4  1  9  8  4  6  2  4  7  8  1]\n",
      " [ 7  5  8  3  4  6  9  9  5  2  9]\n",
      " [ 8  2  9  4  5  9  8 10  2  1  9]\n",
      " [10  7  8  9  5  9  3  7  7  2  7]\n",
      " [ 9  5  6  5  1  6 10  4  4  3 10]\n",
      " [ 7  2  9 10  5  6  6  3  9  7  5]\n",
      " [10  7  1  6 10  5 10  7 10  6  5]\n",
      " [ 5  2  3  7  5  8  7  2 10  3  6]\n",
      " [ 1  2  8 10  1 10  2  8  1  6  3]\n",
      " [ 8  6  3  7  9  5  4  7  3  1 10]\n",
      " [ 1  5  6  3  2  9  7  5  5  6  3]\n",
      " [ 7  4  1  7  2  6  2  1 10 10  3]\n",
      " [10  2  3  2 10  1 10 10  4  6  2]\n",
      " [ 2  1  1  2  7  6  3  7  6  1  4]\n",
      " [ 9  4  1  7  5  4  5  9  2  4  8]\n",
      " [ 2  9  8  2  2  2  1  4  7  6  1]\n",
      " [ 3  8  3  1  5  1  6  6  3 10  5]\n",
      " [10  9 10  8  6  2  3  6  5  4  5]\n",
      " [ 2  4  1  3  4  4  8  7  7  8  3]\n",
      " [ 1  7 10 10  7  3  9  8 10  4  4]\n",
      " [ 1  8 10  9  4  7  1  9  1  2  9]\n",
      " [ 1  3  1  3  1  7  7  5  9  6  4]\n",
      " [ 5  2  5  8  4  6  9  5  5  7  1]\n",
      " [ 9  8  5  9 10  9  6  3  7  5  8]\n",
      " [ 5  9 10  3  1  8 10  2  7  7  1]]\n"
     ]
    }
   ],
   "source": [
    "asistencias=np.random.randint(1,11, size=(30,11))\n",
    "print(asistencias)"
   ]
  },
  {
   "cell_type": "code",
   "execution_count": 6,
   "metadata": {},
   "outputs": [
    {
     "name": "stdout",
     "output_type": "stream",
     "text": [
      "[166 138 158 180 143 170 170 179 177 156 154]\n"
     ]
    }
   ],
   "source": [
    "# Calcula el total de asistencias por jugadora a lo largo de la temporada.\n",
    "total_asistencias_por_jugadora = np.sum(asistencias, axis=0) #Axis nos tenermina si por la columna (0) o por fila (1)\n",
    "print(total_asistencias_por_jugadora)"
   ]
  },
  {
   "cell_type": "code",
   "execution_count": 7,
   "metadata": {},
   "outputs": [
    {
     "name": "stdout",
     "output_type": "stream",
     "text": [
      "Jugadora 1: 166 asistencias en total\n",
      "Jugadora 2: 138 asistencias en total\n",
      "Jugadora 3: 158 asistencias en total\n",
      "Jugadora 4: 180 asistencias en total\n",
      "Jugadora 5: 143 asistencias en total\n",
      "Jugadora 6: 170 asistencias en total\n",
      "Jugadora 7: 170 asistencias en total\n",
      "Jugadora 8: 179 asistencias en total\n",
      "Jugadora 9: 177 asistencias en total\n",
      "Jugadora 10: 156 asistencias en total\n",
      "Jugadora 11: 154 asistencias en total\n"
     ]
    }
   ],
   "source": [
    "for i, total in enumerate(total_asistencias_por_jugadora):\n",
    "    print(f\"Jugadora {i+1}: {total} asistencias en total\")"
   ]
  },
  {
   "cell_type": "code",
   "execution_count": 8,
   "metadata": {},
   "outputs": [
    {
     "name": "stdout",
     "output_type": "stream",
     "text": [
      "5\n",
      "7\n"
     ]
    }
   ],
   "source": [
    "# Corrige los datos en el partido número 20, aumenta la cantidad de asistencias de la jugadora 5 en 2.\n",
    "print(asistencias[19,4])\n",
    "asistencias[20-1,5-1]+=2\n",
    "print(asistencias[19,4])"
   ]
  },
  {
   "cell_type": "code",
   "execution_count": 9,
   "metadata": {},
   "outputs": [
    {
     "name": "stdout",
     "output_type": "stream",
     "text": [
      "[5.53 4.6  5.27 6.   4.83 5.67 5.67 5.97 5.9  5.2  5.13]\n"
     ]
    }
   ],
   "source": [
    "# Calcula el promedio de asistencia por jugadora a lo largo de la temporada.\n",
    "\n",
    "promedio_asistencia_por_jugadora=np.mean(asistencias,axis=0)\n",
    "print(np.around(promedio_asistencia_por_jugadora,decimals=2)) #Otra manera de castear"
   ]
  },
  {
   "cell_type": "code",
   "execution_count": 10,
   "metadata": {},
   "outputs": [
    {
     "name": "stdout",
     "output_type": "stream",
     "text": [
      "Jugadora 1: promedio de asistencias 5.53\n",
      "Jugadora 2: promedio de asistencias 4.60\n",
      "Jugadora 3: promedio de asistencias 5.27\n",
      "Jugadora 4: promedio de asistencias 6.00\n",
      "Jugadora 5: promedio de asistencias 4.83\n",
      "Jugadora 6: promedio de asistencias 5.67\n",
      "Jugadora 7: promedio de asistencias 5.67\n",
      "Jugadora 8: promedio de asistencias 5.97\n",
      "Jugadora 9: promedio de asistencias 5.90\n",
      "Jugadora 10: promedio de asistencias 5.20\n",
      "Jugadora 11: promedio de asistencias 5.13\n"
     ]
    }
   ],
   "source": [
    "for i, promedio in enumerate(promedio_asistencia_por_jugadora):\n",
    "    print(f\"Jugadora {i+1}: promedio de asistencias {promedio:.2f}\") #Lo casteo para tener 2 decimales"
   ]
  },
  {
   "cell_type": "code",
   "execution_count": 11,
   "metadata": {},
   "outputs": [
    {
     "name": "stdout",
     "output_type": "stream",
     "text": [
      "[[ 2  9  8  2  2  2  1  4  7  6  1]\n",
      " [ 3  8  3  1  5  1  6  6  3 10  5]\n",
      " [10  9 10  8  6  2  3  6  5  4  5]\n",
      " [ 2  4  1  3  4  4  8  7  7  8  3]\n",
      " [ 1  7 10 10  7  3  9  8 10  4  4]\n",
      " [ 1  8 10  9  4  7  1  9  1  2  9]\n",
      " [ 1  3  1  3  1  7  7  5  9  6  4]\n",
      " [ 5  2  5  8  4  6  9  5  5  7  1]\n",
      " [ 9  8  5  9 10  9  6  3  7  5  8]\n",
      " [ 5  9 10  3  1  8 10  2  7  7  1]]\n"
     ]
    }
   ],
   "source": [
    "# Selecciona y muestra las asistencias de las jugadoras en el final de la temporada (los últimos 10 partidos).\n",
    "\n",
    "print(asistencias[20:30,])"
   ]
  },
  {
   "cell_type": "code",
   "execution_count": 12,
   "metadata": {},
   "outputs": [
    {
     "name": "stdout",
     "output_type": "stream",
     "text": [
      "[[ 2  9  8  2  2  2  1  4  7  6  1]\n",
      " [ 3  8  3  1  5  1  6  6  3 10  5]\n",
      " [10  9 10  8  6  2  3  6  5  4  5]\n",
      " [ 2  4  1  3  4  4  8  7  7  8  3]\n",
      " [ 1  7 10 10  7  3  9  8 10  4  4]\n",
      " [ 1  8 10  9  4  7  1  9  1  2  9]\n",
      " [ 1  3  1  3  1  7  7  5  9  6  4]\n",
      " [ 5  2  5  8  4  6  9  5  5  7  1]\n",
      " [ 9  8  5  9 10  9  6  3  7  5  8]\n",
      " [ 5  9 10  3  1  8 10  2  7  7  1]]\n"
     ]
    }
   ],
   "source": [
    "final_de_temporada=asistencias[-10:,]\n",
    "print(final_de_temporada)"
   ]
  },
  {
   "cell_type": "code",
   "execution_count": 13,
   "metadata": {},
   "outputs": [
    {
     "name": "stdout",
     "output_type": "stream",
     "text": [
      "El inicio de la temporada fue mejor\n"
     ]
    }
   ],
   "source": [
    "# Calcula las asistencias del final de la temporada y comparalo vs las asistencias del inicio. ¿Fue mejor?\n",
    "principio_de_temporada=asistencias[0:10,]\n",
    "if np.sum(principio_de_temporada) > np.sum(final_de_temporada):\n",
    "        print('El inicio de la temporada fue mejor')\n",
    "elif np.sum(asistencias[0:10]) < np.sum(asistencias[-10:,]):\n",
    "    print('El final de la temporada fue mejor')\n",
    "else:\n",
    "    print('El principio y final de la temporada muestran el mismo resultado')\n",
    "    "
   ]
  },
  {
   "cell_type": "code",
   "execution_count": 19,
   "metadata": {},
   "outputs": [
    {
     "name": "stdout",
     "output_type": "stream",
     "text": [
      "[67 36 59 63 43 61 54 65 56 47 64]\n",
      "[39 67 63 56 44 49 60 55 61 59 41]\n"
     ]
    }
   ],
   "source": [
    "print(sum(principio_de_temporada))\n",
    "print(sum(final_de_temporada))"
   ]
  },
  {
   "cell_type": "code",
   "execution_count": 20,
   "metadata": {},
   "outputs": [
    {
     "name": "stdout",
     "output_type": "stream",
     "text": [
      "615\n",
      "594\n"
     ]
    }
   ],
   "source": [
    "print(np.sum(principio_de_temporada))\n",
    "print(np.sum(final_de_temporada))"
   ]
  },
  {
   "cell_type": "code",
   "execution_count": 15,
   "metadata": {},
   "outputs": [
    {
     "name": "stdout",
     "output_type": "stream",
     "text": [
      "[[False False False  True  True False  True False False  True  True]\n",
      " [ True False False  True False  True False False False False False]\n",
      " [ True False False False  True False  True  True  True  True False]\n",
      " [False False False  True  True  True False  True  True  True  True]\n",
      " [False  True  True  True False  True False  True  True  True  True]\n",
      " [False False  True  True False  True False False  True  True False]\n",
      " [ True False  True False False  True  True  True False False  True]\n",
      " [ True False  True False False  True  True  True False False  True]\n",
      " [ True  True  True  True False  True False  True  True False  True]\n",
      " [ True False  True False False  True  True False False False  True]\n",
      " [ True False  True  True False  True  True False  True  True False]\n",
      " [ True  True False  True  True False  True  True  True  True False]\n",
      " [False False False  True False  True  True False  True False  True]\n",
      " [False False  True  True False  True False  True False  True False]\n",
      " [ True  True False  True  True False False  True False False  True]\n",
      " [False False  True False False  True  True False False  True False]\n",
      " [ True False False  True False  True False False  True  True False]\n",
      " [ True False False False  True False  True  True False  True False]\n",
      " [False False False False  True  True False  True  True False False]\n",
      " [ True False False  True  True False False  True False False  True]\n",
      " [False  True  True False False False False False  True  True False]\n",
      " [False  True False False False False  True  True False  True False]\n",
      " [ True  True  True  True  True False False  True False False False]\n",
      " [False False False False False False  True  True  True  True False]\n",
      " [False  True  True  True  True False  True  True  True False False]\n",
      " [False  True  True  True False  True False  True False False  True]\n",
      " [False False False False False  True  True False  True  True False]\n",
      " [False False False  True False  True  True False False  True False]\n",
      " [ True  True False  True  True  True  True False  True False  True]\n",
      " [False  True  True False False  True  True False  True  True False]]\n"
     ]
    }
   ],
   "source": [
    "# Crea una máscara que identificar partidos en los que cualquier jugadora superó las 5 asistencias.\n",
    "\n",
    "mascara_jugadores_rendimiento_superior= asistencias >5\n",
    "print(mascara_jugadores_rendimiento_superior)"
   ]
  },
  {
   "cell_type": "code",
   "execution_count": 16,
   "metadata": {},
   "outputs": [
    {
     "name": "stdout",
     "output_type": "stream",
     "text": [
      "[ 8  6  6  6  7 10  7  7  6  7  7  7 10 10 10  7  6  9  6  6 10  6 10  7\n",
      "  7  8  7  7  7  9  8  6  7  8  7  8  6  9  9  9  8  9  9  8 10  9 10  7\n",
      "  8  9  9  7  7  7  9  6  6 10 10  7  9 10  6  6  9  7 10  7  6 10 10  7\n",
      " 10  6  7  8  7 10  6  8 10 10  8  6  8  6  7  9  7 10  6  9  7  6  7  7\n",
      "  6 10 10 10 10 10 10  6  7  6  7  6  9  7  7  9  8  9  8  7  6  8  6  6\n",
      " 10 10  9 10  8  6  6  8  7  7  8  7 10 10  7  9  8 10  8 10  9  7  9  9\n",
      "  7  7  9  6  8  6  9  7  9  8  9 10  9  6  7  8  9 10  8 10  7  7]\n"
     ]
    }
   ],
   "source": [
    "# Filtra  el valor de esas asistencias en cada partido.\n",
    "\n",
    "valors_superiores=asistencias[mascara_jugadores_rendimiento_superior]\n",
    "print(valors_superiores)"
   ]
  },
  {
   "cell_type": "code",
   "execution_count": 17,
   "metadata": {},
   "outputs": [
    {
     "name": "stdout",
     "output_type": "stream",
     "text": [
      "[10.31555556  6.90666667 11.92888889  8.4         7.53888889  6.22222222\n",
      "  8.75555556  6.43222222  7.55666667  7.02666667  8.78222222]\n",
      "[3.21178386 2.62805378 3.45382236 2.89827535 2.74570371 2.49443826\n",
      " 2.9589788  2.53618261 2.74893919 2.65078605 2.96348144]\n"
     ]
    }
   ],
   "source": [
    "# Calcula la varianza y la desviación estándar de las asistencias por jugadora\n",
    "\n",
    "varianza_jugadores=np.var(asistencias, axis=0)\n",
    "desviacion_estandar_jugadores=np.std(asistencias, axis=0)\n",
    "print(varianza_jugadores)\n",
    "print(desviacion_estandar_jugadores)\n",
    "\n"
   ]
  },
  {
   "cell_type": "code",
   "execution_count": 18,
   "metadata": {},
   "outputs": [
    {
     "name": "stdout",
     "output_type": "stream",
     "text": [
      "Para la jugadora 1 la varianza es de 10.32 y la desviacion estandar de 3.21\n",
      "Para la jugadora 2 la varianza es de 6.91 y la desviacion estandar de 2.63\n",
      "Para la jugadora 3 la varianza es de 11.93 y la desviacion estandar de 3.45\n",
      "Para la jugadora 4 la varianza es de 8.40 y la desviacion estandar de 2.90\n",
      "Para la jugadora 5 la varianza es de 7.54 y la desviacion estandar de 2.75\n",
      "Para la jugadora 6 la varianza es de 6.22 y la desviacion estandar de 2.49\n",
      "Para la jugadora 7 la varianza es de 8.76 y la desviacion estandar de 2.96\n",
      "Para la jugadora 8 la varianza es de 6.43 y la desviacion estandar de 2.54\n",
      "Para la jugadora 9 la varianza es de 7.56 y la desviacion estandar de 2.75\n",
      "Para la jugadora 10 la varianza es de 7.03 y la desviacion estandar de 2.65\n",
      "Para la jugadora 11 la varianza es de 8.78 y la desviacion estandar de 2.96\n"
     ]
    }
   ],
   "source": [
    "for i, (varianza, desviacion) in enumerate(zip(varianza_jugadores,desviacion_estandar_jugadores)):\n",
    "    print(f\"Para la jugadora {i+1} la varianza es de {varianza:.2f} y la desviacion estandar de {desviacion:.2f}\")"
   ]
  }
 ],
 "metadata": {
  "kernelspec": {
   "display_name": "Python 3",
   "language": "python",
   "name": "python3"
  },
  "language_info": {
   "codemirror_mode": {
    "name": "ipython",
    "version": 3
   },
   "file_extension": ".py",
   "mimetype": "text/x-python",
   "name": "python",
   "nbconvert_exporter": "python",
   "pygments_lexer": "ipython3",
   "version": "3.12.4"
  }
 },
 "nbformat": 4,
 "nbformat_minor": 2
}
